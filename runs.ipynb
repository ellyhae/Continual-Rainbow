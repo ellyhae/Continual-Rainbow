{
 "cells": [
  {
   "cell_type": "markdown",
   "id": "41fc890c-1c6c-4c12-8c4f-e3c2cafd03ee",
   "metadata": {},
   "source": [
    "# Considerations\n",
    "\n",
    "\"Deep Reinforcement Learning at the Edge of the Statistical Precipice\", Section A.3, mentions that \"... also discuss bootstrap CIs but for reporting single task mean scores – however, 3-5 runs is a small sample size for bootstrapping: on Atari 100k, for achieving true coverage close to 95%, such CIs require at least 20-30 runs per task (Figure A.18) as opposed to 5-10 runs for stratified bootstrap CIs for aggregate metrics\".\n",
    "\n",
    "\"How Many Random Seeds? Statistical Power Analysis in Deep Reinforcement Learning Experiments\" proposes a multi-step process to find the minimal number of runs needed to arrive at a statistically significant result. However, they recommend a \"pilot study\" of $n=20$ runs to estimate parameters which are then used to calculate an appropriate number of runs for the statistical tests. Overall this approach again leads to a requirement of $N >= 20$ runs.\n",
    "\n",
    "Further questions:\n",
    "- Reference Rainbow implementation does not differentiate between training and testing, i.e. is always in train mode. Is this intended and should it also stay like this for evaluation?"
   ]
  },
  {
   "cell_type": "code",
   "execution_count": 6,
   "id": "03699c55-7ce9-4b76-a8e5-cc1a86cf2537",
   "metadata": {},
   "outputs": [],
   "source": [
    "import time, random\n",
    "from collections import deque\n",
    "from pathlib import Path\n",
    "from types import SimpleNamespace as sn\n",
    "\n",
    "import torch\n",
    "import numpy as np\n",
    "from tqdm import trange\n",
    "from rich import print\n",
    "from copy import copy\n",
    "\n",
    "import wandb\n",
    "from wandb.integration.sb3 import WandbCallback\n",
    "from stable_baselines3.common.callbacks import EvalCallback"
   ]
  },
  {
   "cell_type": "code",
   "execution_count": 2,
   "id": "1f124986-307a-4797-b879-2061cf4752a2",
   "metadata": {},
   "outputs": [],
   "source": [
    "from rainbow import Rainbow, reset_noise"
   ]
  },
  {
   "cell_type": "code",
   "execution_count": 3,
   "id": "495baa46-99e9-4c2a-9691-cd7c701c0619",
   "metadata": {},
   "outputs": [],
   "source": [
    "from env_wrappers import create_env\n",
    "from utils import get_mean_ep_length, AgesLogger, WeightLogger\n",
    "from sb3_logger import configure_logger, WandbOutputFormat"
   ]
  },
  {
   "cell_type": "code",
   "execution_count": 4,
   "id": "d0daca19-e0d6-4a7e-96d0-c140d2e93fd6",
   "metadata": {},
   "outputs": [],
   "source": [
    "def set_random(args):\n",
    "    random.seed(args.seed)\n",
    "    np.random.seed(args.seed)\n",
    "    torch.manual_seed(args.seed)"
   ]
  },
  {
   "cell_type": "code",
   "execution_count": 5,
   "id": "59ece36c-7e03-423b-98ed-09afdba7b7fa",
   "metadata": {},
   "outputs": [],
   "source": [
    "def set_up_env(args):\n",
    "    decorr_steps = None\n",
    "    if args.decorr and args.env_name == 'gym:Breakout':\n",
    "        decorr_steps = 160 // args.parallel_envs\n",
    "    if args.decorr and not args.env_name.startswith('procgen:') and decorr_steps is None:\n",
    "        decorr_steps = get_mean_ep_length(args) // args.parallel_envs\n",
    "    env = create_env(args, decorr_steps=decorr_steps)\n",
    "    \n",
    "    return env"
   ]
  },
  {
   "cell_type": "code",
   "execution_count": 6,
   "id": "9691c4bf-0bb2-4d2e-9043-43d58ffe3319",
   "metadata": {},
   "outputs": [],
   "source": [
    "def initialize_model(args, env):\n",
    "    model = Rainbow('CnnPolicy',\n",
    "                    env,\n",
    "                    buffer_size=args.buffer_size,\n",
    "                    batch_size=args.batch_size,\n",
    "                    learning_starts=args.burnin,\n",
    "                    target_update_interval=args.sync_dqn_target_every,\n",
    "                    gradient_steps=args.gradient_steps,\n",
    "                    exploration_fraction=args.exploration_fraction,\n",
    "                    policy_kwargs={\n",
    "                        'noisy_linear': args.noisy_linear, \n",
    "                        'linear_kwargs': args.linear_kwargs, \n",
    "                        'optimizer_class': args.optimizer_class,\n",
    "                        'optimizer_kwargs': args.optimizer_kwargs,\n",
    "                        'features_extractor_kwargs': {'model_size': args.model_size}\n",
    "                    })\n",
    "    \n",
    "    return model"
   ]
  },
  {
   "cell_type": "code",
   "execution_count": 7,
   "id": "14314352-54b2-4965-8f9a-b78b80801b91",
   "metadata": {},
   "outputs": [],
   "source": [
    "def initialize_logging(args, model):\n",
    "    run = wandb.init(\n",
    "        project=\"Rainbow\",\n",
    "        group=args.wandb_group,\n",
    "        name=args.name,\n",
    "        config=vars(args),\n",
    "        dir=args.wandb_dir,\n",
    "        #monitor_gym=True,  # auto-upload the videos of agents playing the game\n",
    "        mode=args.wandb_mode,\n",
    "        #reinit=True\n",
    "    )\n",
    "    \n",
    "    model.set_logger(configure_logger(0, args.tb_log_dir, args.name, True, extra_formats=[WandbOutputFormat]))\n",
    "    \n",
    "    callbacks = [WeightLogger(),\n",
    "                 AgesLogger(args.ages_dir),\n",
    "                 WandbCallback(gradient_save_freq=args.wandb_grad_freq)]\n",
    "    \n",
    "    if args.evalcallback:\n",
    "        eval_args = copy(args)\n",
    "        eval_args.seed += 1   # change seed to avoid data leakage if necessary\n",
    "        eval_args.decorr = False\n",
    "        eval_args.parallel_envs = eval_args.n_eval_episodes\n",
    "        \n",
    "        callbacks.append(EvalCallback(set_up_env(eval_args),\n",
    "                                      n_eval_episodes=eval_args.n_eval_episodes,\n",
    "                                      eval_freq=eval_args.eval_freq,\n",
    "                                      log_path=eval_args.eval_log_path,\n",
    "                                      best_model_save_path=eval_args.best_model_save_path,\n",
    "                                      verbose=0))\n",
    "    \n",
    "    return run, callbacks"
   ]
  },
  {
   "cell_type": "code",
   "execution_count": 8,
   "id": "ba2d78b3-2454-4f7f-af73-a6e8c88d7b29",
   "metadata": {},
   "outputs": [],
   "source": [
    "def train(args):\n",
    "    set_random(args)\n",
    "    \n",
    "    env = set_up_env(args)\n",
    "    model = initialize_model(args, env)\n",
    "    run, callbacks = initialize_logging(args, model)\n",
    "    \n",
    "    try:\n",
    "        model.learn(args.training_frames, callback=callbacks, tb_log_name=args.name, progress_bar=True)\n",
    "        model.save(args.log_dir + 'final_model')\n",
    "    except Exception as e:\n",
    "        print(e)\n",
    "    \n",
    "    env.close()\n",
    "    model.logger.close()\n",
    "    run.finish()\n",
    "    \n",
    "    return model"
   ]
  },
  {
   "cell_type": "code",
   "execution_count": 1,
   "id": "ce0a5b90-42a1-48fb-bc62-6d9ad53936e2",
   "metadata": {},
   "outputs": [],
   "source": [
    "def approximate_updates(args):\n",
    "    return int(np.round(((args.training_frames // args.parallel_envs - (args.burnin // args.parallel_envs * 1.5)) * args.gradient_steps)))\n",
    "\n",
    "def approximate_total_resets(args):\n",
    "    '''Approximate number of CBP resets for a layer with 256 features (default)'''\n",
    "    return int(np.round(args.optimizer_kwargs['rho'] * 256 * approximate_updates(args)))\n",
    "\n",
    "def approximate_min_resetting_features(args):\n",
    "    '''Approximate the number of features getting reset, if always the same are targeted'''\n",
    "    return int(np.round(args.optimizer_kwargs['rho'] * 256 * args.optimizer_kwargs['m']))"
   ]
  },
  {
   "cell_type": "code",
   "execution_count": 3,
   "id": "9b7038a6-d83a-462b-b1f8-3ff972145a79",
   "metadata": {},
   "outputs": [],
   "source": [
    "from argparse import Namespace\n",
    "args = Namespace(env_name='gym:Breakout',\n",
    "                 parallel_envs=64,\n",
    "                 subproc_vecenv=False,\n",
    "                 time_limit=108_000,\n",
    "                 frame_stack=4,\n",
    "                 frame_skip=4,\n",
    "                 grayscale=True,\n",
    "                 gamma=0.99,\n",
    "                 resolution=(84, 84),\n",
    "                 save_dir='tmp',\n",
    "                 record_every=60*50,\n",
    "                 decorr=True,\n",
    "                 seed=3605)\n",
    "\n",
    "args.wandb_mode = 'online'\n",
    "args.wandb_group = 'cbp' #'baseline'\n",
    "args.name = '1M_cbp'\n",
    "args.log_dir = './runs/' + args.name + '/'\n",
    "args.ages_dir = args.log_dir + 'ages/'\n",
    "args.wandb_dir = args.log_dir # 'wandb' added automatically    # TODO: Change Paths to os.join paths\n",
    "args.tb_log_dir = args.log_dir + 'tensorboard'\n",
    "args.wandb_grad_freq = 0\n",
    "\n",
    "args.evalcallback = False  # Evaluation is synchronous and usually very slow, so it may be better to simply evaluate at the end\n",
    "args.n_eval_episodes = 10\n",
    "args.eval_freq = 150\n",
    "args.eval_log_path = args.log_dir + 'eval/'\n",
    "args.best_model_save_path = args.log_dir\n",
    "\n",
    "args.burnin = 10_000\n",
    "args.buffer_size = 2**17\n",
    "args.batch_size = 256\n",
    "args.sync_dqn_target_every = 32_000\n",
    "args.training_frames = 1_000_000 #1000 #2_000_000\n",
    "\n",
    "args.noisy_linear = False\n",
    "args.linear_kwargs = {'sigma_0': 0.5} if args.noisy_linear else {}\n",
    "\n",
    "args.eps_decay_frames = 500_000\n",
    "args.exploration_fraction = args.eps_decay_frames / (args.training_frames + args.parallel_envs)\n",
    "    \n",
    "args.adam_eps = None\n",
    "args.optimizer_kwargs = {'eps': args.adam_eps}\n",
    "args.model_size = 2\n",
    "args.gradient_steps = 2\n",
    "\n",
    "if args.wandb_group == 'cbp':\n",
    "    from cbp import CBP\n",
    "    args.optimizer_class = CBP\n",
    "    args.optimizer_kwargs |= {'m':1000, 'rho':1e-5}\n",
    "else:\n",
    "    from torch.optim import Adam\n",
    "    args.optimizer_class = Adam\n",
    "\n",
    "# ATTEMPTED: change eps and beta settings to be timestep based, not percentage\n",
    "# PROBLEM: cannot change this, as the schedule is created in the constructor, but training_frames is only supplied once 'learn' is called\n",
    "# SOLUTION: calculate appropriate fraction before passing it to the model"
   ]
  },
  {
   "cell_type": "code",
   "execution_count": 4,
   "id": "37e9d936-45ec-4546-ad74-e38dbc3bc0dc",
   "metadata": {},
   "outputs": [
    {
     "data": {
      "text/plain": [
       "(131072, True, 1000000)"
      ]
     },
     "execution_count": 4,
     "metadata": {},
     "output_type": "execute_result"
    }
   ],
   "source": [
    "args.buffer_size, args.sync_dqn_target_every%args.parallel_envs == 0, args.training_frames"
   ]
  },
  {
   "cell_type": "code",
   "execution_count": 7,
   "id": "81d851c0-c0ab-4f3d-bdda-2db826c45f35",
   "metadata": {},
   "outputs": [
    {
     "data": {
      "text/html": [
       "<pre style=\"white-space:pre;overflow-x:auto;line-height:normal;font-family:Menlo,'DejaVu Sans Mono',consolas,'Courier New',monospace\">Approximate Total Updates: <span style=\"color: #008080; text-decoration-color: #008080; font-weight: bold\">30782</span>\n",
       "</pre>\n"
      ],
      "text/plain": [
       "Approximate Total Updates: \u001b[1;36m30782\u001b[0m\n"
      ]
     },
     "metadata": {},
     "output_type": "display_data"
    },
    {
     "data": {
      "text/html": [
       "<pre style=\"white-space:pre;overflow-x:auto;line-height:normal;font-family:Menlo,'DejaVu Sans Mono',consolas,'Courier New',monospace\">Approximate Total Resets: <span style=\"color: #008080; text-decoration-color: #008080; font-weight: bold\">79</span>\n",
       "</pre>\n"
      ],
      "text/plain": [
       "Approximate Total Resets: \u001b[1;36m79\u001b[0m\n"
      ]
     },
     "metadata": {},
     "output_type": "display_data"
    },
    {
     "data": {
      "text/html": [
       "<pre style=\"white-space:pre;overflow-x:auto;line-height:normal;font-family:Menlo,'DejaVu Sans Mono',consolas,'Courier New',monospace\">Approximate Min resetted features: <span style=\"color: #008080; text-decoration-color: #008080; font-weight: bold\">3</span>\n",
       "</pre>\n"
      ],
      "text/plain": [
       "Approximate Min resetted features: \u001b[1;36m3\u001b[0m\n"
      ]
     },
     "metadata": {},
     "output_type": "display_data"
    }
   ],
   "source": [
    "if args.wandb_group == 'cbp':\n",
    "    print('Approximate Total Updates:', approximate_updates(args))\n",
    "    print('Approximate Total Resets:', approximate_total_resets(args))\n",
    "    print('Approximate Min resetted features:', approximate_min_resetting_features(args))"
   ]
  },
  {
   "cell_type": "code",
   "execution_count": 13,
   "id": "42c9e501-66de-430d-85f2-6b4cac545a31",
   "metadata": {},
   "outputs": [
    {
     "data": {
      "text/plain": [
       "16384"
      ]
     },
     "execution_count": 13,
     "metadata": {},
     "output_type": "execute_result"
    }
   ],
   "source": [
    "args.training_frames // args.parallel_envs"
   ]
  },
  {
   "cell_type": "code",
   "execution_count": null,
   "id": "a8d6eeaa-48e5-491c-8cd4-9513b03222f1",
   "metadata": {},
   "outputs": [],
   "source": []
  },
  {
   "cell_type": "code",
   "execution_count": 14,
   "id": "91feefdf-a71f-4232-8c2a-23914e5dc976",
   "metadata": {},
   "outputs": [
    {
     "name": "stderr",
     "output_type": "stream",
     "text": [
      "\u001b[34m\u001b[1mwandb\u001b[0m: Currently logged in as: \u001b[33mhae_\u001b[0m. Use \u001b[1m`wandb login --relogin`\u001b[0m to force relogin\n",
      "\u001b[34m\u001b[1mwandb\u001b[0m: \u001b[33mWARNING\u001b[0m Path ./runs/1M_cbp/wandb\\ wasn't writable, using system temp directory.\n"
     ]
    },
    {
     "data": {
      "application/vnd.jupyter.widget-view+json": {
       "model_id": "26a864e7979a4884b197d483706cc54e",
       "version_major": 2,
       "version_minor": 0
      },
      "text/plain": [
       "VBox(children=(Label(value='Waiting for wandb.init()...\\r'), FloatProgress(value=0.016666666666666666, max=1.0…"
      ]
     },
     "metadata": {},
     "output_type": "display_data"
    },
    {
     "data": {
      "text/html": [
       "wandb version 0.16.0 is available!  To upgrade, please run:\n",
       " $ pip install wandb --upgrade"
      ],
      "text/plain": [
       "<IPython.core.display.HTML object>"
      ]
     },
     "metadata": {},
     "output_type": "display_data"
    },
    {
     "data": {
      "text/html": [
       "Tracking run with wandb version 0.13.6"
      ],
      "text/plain": [
       "<IPython.core.display.HTML object>"
      ]
     },
     "metadata": {},
     "output_type": "display_data"
    },
    {
     "data": {
      "text/html": [
       "Run data is saved locally in <code>C:\\Users\\chris\\AppData\\Local\\Temp\\wandb\\run-20231109_175808-17roz2i1</code>"
      ],
      "text/plain": [
       "<IPython.core.display.HTML object>"
      ]
     },
     "metadata": {},
     "output_type": "display_data"
    },
    {
     "data": {
      "text/html": [
       "Syncing run <strong><a href=\"https://wandb.ai/hae_/Rainbow/runs/17roz2i1\" target=\"_blank\">1M_cbp</a></strong> to <a href=\"https://wandb.ai/hae_/Rainbow\" target=\"_blank\">Weights & Biases</a> (<a href=\"https://wandb.me/run\" target=\"_blank\">docs</a>)<br/>"
      ],
      "text/plain": [
       "<IPython.core.display.HTML object>"
      ]
     },
     "metadata": {},
     "output_type": "display_data"
    },
    {
     "data": {
      "text/html": [
       "<pre style=\"white-space:pre;overflow-x:auto;line-height:normal;font-family:Menlo,'DejaVu Sans Mono',consolas,'Courier New',monospace\"></pre>\n"
      ],
      "text/plain": [
       "\u001b[?25l"
      ]
     },
     "metadata": {},
     "output_type": "display_data"
    },
    {
     "data": {
      "application/vnd.jupyter.widget-view+json": {
       "model_id": "45b50d75f175421a8e448b1961602e62",
       "version_major": 2,
       "version_minor": 0
      },
      "text/plain": [
       "Output()"
      ]
     },
     "metadata": {},
     "output_type": "display_data"
    },
    {
     "data": {
      "text/html": [
       "<pre style=\"white-space:pre;overflow-x:auto;line-height:normal;font-family:Menlo,'DejaVu Sans Mono',consolas,'Courier New',monospace\">\n",
       "</pre>\n"
      ],
      "text/plain": [
       "\n",
       "\u001b[?25h"
      ]
     },
     "metadata": {},
     "output_type": "display_data"
    },
    {
     "data": {
      "text/html": [
       "Waiting for W&B process to finish... <strong style=\"color:green\">(success).</strong>"
      ],
      "text/plain": [
       "<IPython.core.display.HTML object>"
      ]
     },
     "metadata": {},
     "output_type": "display_data"
    },
    {
     "data": {
      "application/vnd.jupyter.widget-view+json": {
       "model_id": "3a3ed31ed5d4452eba3adc431627716c",
       "version_major": 2,
       "version_minor": 0
      },
      "text/plain": [
       "VBox(children=(Label(value='0.001 MB of 0.042 MB uploaded (0.000 MB deduped)\\r'), FloatProgress(value=0.025809…"
      ]
     },
     "metadata": {},
     "output_type": "display_data"
    },
    {
     "data": {
      "text/html": [
       "<style>\n",
       "    table.wandb td:nth-child(1) { padding: 0 10px; text-align: left ; width: auto;} td:nth-child(2) {text-align: left ; width: 100%}\n",
       "    .wandb-row { display: flex; flex-direction: row; flex-wrap: wrap; justify-content: flex-start; width: 100% }\n",
       "    .wandb-col { display: flex; flex-direction: column; flex-basis: 100%; flex: 1; padding: 10px; }\n",
       "    </style>\n",
       "<div class=\"wandb-row\"><div class=\"wandb-col\"><h3>Run history:</h3><br/><table class=\"wandb\"><tr><td>rollout/ep_len_mean</td><td>▁▁▁▁▁▁▁▁▁▁▁▁▁▁▁▁▁▁▁▁▁▁▁▁▁▁▁▂▂▂▃▃▃▄▅▆▇▇▇█</td></tr><tr><td>rollout/ep_rew_mean</td><td>▁▁▁▁▁▁▁▁▁▁▁▁▁▁▁▁▁▁▁▁▁▁▁▁▁▁▁▁▁▁▂▂▂▂▃▄▄▅▇█</td></tr><tr><td>rollout/exploration_rate</td><td>██▇▇▇▆▆▅▅▅▄▄▃▃▃▂▂▂▁▁▁▁▁▁▁▁▁▁▁▁▁▁▁▁▁▁▁▁▁▁</td></tr><tr><td>rollout/prioritized_er_beta</td><td>▁▁▁▁▂▂▂▂▂▃▃▃▃▃▃▄▄▄▄▄▅▅▅▅▅▅▆▆▆▆▆▇▇▇▇▇▇███</td></tr><tr><td>time/episodes</td><td>▁▁▁▂▂▂▂▂▂▃▃▃▃▃▄▄▄▄▄▄▅▅▅▅▅▅▆▆▆▆▆▇▇▇▇▇▇███</td></tr><tr><td>time/fps</td><td>▃▆▇▇█████▆▄▄▃▃▃▃▂▂▂▂▂▂▂▂▂▂▂▁▁▁▁▁▁▁▁▁▁▁▁▁</td></tr><tr><td>time/time_elapsed</td><td>▁▁▁▁▁▁▁▁▁▁▁▁▂▂▂▂▂▂▂▂▂▂▂▃▃▃▃▃▃▃▄▄▄▅▅▆▆▇▇█</td></tr><tr><td>time/total_timesteps</td><td>▁▁▁▁▁▁▁▂▂▂▂▂▂▂▂▂▂▂▃▃▃▃▃▃▃▃▃▃▄▄▄▄▄▅▅▆▆▇▇█</td></tr><tr><td>timestep</td><td>▁▁▁▁▂▂▂▂▂▂▃▃▃▃▃▃▃▄▄▄▄▄▅▅▅▅▅▆▆▆▆▆▇▇▇▇▇███</td></tr><tr><td>train/grad_norm</td><td>▁▁▆▃▅█▂▃▄▄▄▃▃▂▃▂▃▄▂▃▃▂▂▁▁▂▁▂▂▁▂▂▂▂▃▂▂▁▂▁</td></tr><tr><td>train/learning_rate</td><td>▁▁▁▁▁▁▁▁▁▁▁▁▁▁▁▁▁▁▁▁▁▁▁▁▁▁▁▁▁▁▁▁▁▁▁▁▁▁▁▁</td></tr><tr><td>train/loss</td><td>▄█▂▁▃▂▁▁▂▂▂▂▂▂▂▂▂▂▂▂▂▂▂▁▁▁▁▁▁▁▁▁▁▁▁▁▁▁▁▁</td></tr><tr><td>train/n_updates</td><td>▁▁▁▁▂▂▂▂▂▃▃▃▃▃▃▄▄▄▄▄▅▅▅▅▅▅▆▆▆▆▆▇▇▇▇▇▇███</td></tr><tr><td>train/q_value</td><td>▁▁▁▁▂▂▁▂▂▂▂▂▂▂▂▃▃▃▃▃▃▄▄▄▄▄▄▅▅▅▅▆▆▆▇▇▇▇██</td></tr><tr><td>train/weight_magnitude_mean</td><td>▁▁▁▁▁▂▂▃▃▃▃▃▄▄▄▄▅▅▅▅▆▆▆▆▆▆▇▇▇▇▇▇▇▇▇█████</td></tr><tr><td>train/weight_magnitude_std</td><td>▁▁▁▁▁▂▂▃▃▃▃▃▄▄▄▄▅▅▅▅▆▆▆▆▆▆▆▇▇▇▇▇▇▇▇█████</td></tr></table><br/></div><div class=\"wandb-col\"><h3>Run summary:</h3><br/><table class=\"wandb\"><tr><td>rollout/ep_len_mean</td><td>1265.82</td></tr><tr><td>rollout/ep_rew_mean</td><td>97.38</td></tr><tr><td>rollout/exploration_rate</td><td>0.01</td></tr><tr><td>rollout/prioritized_er_beta</td><td>1.0</td></tr><tr><td>time/episodes</td><td>13712</td></tr><tr><td>time/fps</td><td>128</td></tr><tr><td>time/time_elapsed</td><td>8131</td></tr><tr><td>time/total_timesteps</td><td>1047808</td></tr><tr><td>timestep</td><td>1048640</td></tr><tr><td>train/grad_norm</td><td>0.00131</td></tr><tr><td>train/learning_rate</td><td>0.00025</td></tr><tr><td>train/loss</td><td>5e-05</td></tr><tr><td>train/n_updates</td><td>29548</td></tr><tr><td>train/q_value</td><td>1.31966</td></tr><tr><td>train/weight_magnitude_mean</td><td>0.01021</td></tr><tr><td>train/weight_magnitude_std</td><td>0.00909</td></tr></table><br/></div></div>"
      ],
      "text/plain": [
       "<IPython.core.display.HTML object>"
      ]
     },
     "metadata": {},
     "output_type": "display_data"
    },
    {
     "data": {
      "text/html": [
       "Synced <strong style=\"color:#cdcd00\">1M_cbp</strong>: <a href=\"https://wandb.ai/hae_/Rainbow/runs/17roz2i1\" target=\"_blank\">https://wandb.ai/hae_/Rainbow/runs/17roz2i1</a><br/>Synced 5 W&B file(s), 0 media file(s), 0 artifact file(s) and 0 other file(s)"
      ],
      "text/plain": [
       "<IPython.core.display.HTML object>"
      ]
     },
     "metadata": {},
     "output_type": "display_data"
    },
    {
     "data": {
      "text/html": [
       "Find logs at: <code>./runs/1M_cbp/wandb\\run-20231109_175808-17roz2i1\\logs</code>"
      ],
      "text/plain": [
       "<IPython.core.display.HTML object>"
      ]
     },
     "metadata": {},
     "output_type": "display_data"
    }
   ],
   "source": [
    "model = train(args)"
   ]
  },
  {
   "cell_type": "code",
   "execution_count": null,
   "id": "7db822e7-e282-4f7b-8ecc-20e7e197f912",
   "metadata": {},
   "outputs": [],
   "source": []
  },
  {
   "cell_type": "code",
   "execution_count": 15,
   "id": "affb6abe-05f4-4dcf-b276-608f61570098",
   "metadata": {},
   "outputs": [],
   "source": [
    "if args.wandb_group != 'cbp':\n",
    "    kaksfb"
   ]
  },
  {
   "cell_type": "code",
   "execution_count": null,
   "id": "c1a85383-6d7e-4999-8514-949e343e4ee5",
   "metadata": {},
   "outputs": [],
   "source": []
  },
  {
   "cell_type": "code",
   "execution_count": 16,
   "id": "d33ba3a0-90e1-462f-8e48-d6aa287febeb",
   "metadata": {},
   "outputs": [],
   "source": [
    "ages = {}\n",
    "fhat = {}\n",
    "h = {}\n",
    "f = {}\n",
    "u = {}\n",
    "for branch, branch_name in zip(model.policy.optimizer.linear_layers, ['value', 'advantage']):\n",
    "    for i, layer in enumerate(branch[:-1]):\n",
    "        val = model.policy.optimizer.cbp_vals[layer]['age'].cpu().numpy()\n",
    "        ages[f'{branch_name}_{i}'] = val\n",
    "        fhat[f'{branch_name}_{i}'] = model.policy.optimizer.cbp_vals[layer]['fhat'].cpu().numpy()\n",
    "        f[f'{branch_name}_{i}'] = model.policy.optimizer.cbp_vals[layer]['f'].cpu().numpy()\n",
    "        h[f'{branch_name}_{i}'] = model.policy.optimizer.cbp_vals[layer]['h'].cpu().numpy()\n",
    "        u[f'{branch_name}_{i}'] = model.policy.optimizer.cbp_vals[layer]['u'].cpu().numpy()"
   ]
  },
  {
   "cell_type": "code",
   "execution_count": 17,
   "id": "16d5053e-91d7-4549-a3c7-bc7407530725",
   "metadata": {},
   "outputs": [
    {
     "data": {
      "text/plain": [
       "{'value_0': array([29549, 26811, 19094, 29549, 29549, 28845, 29549, 29549, 20099,\n",
       "        29549, 28556,   138, 29549, 29549,   659, 29549, 29549, 29549,\n",
       "        29549, 29549, 24202, 26613, 29549, 22656, 29549, 28330, 29549,\n",
       "        29549, 29549, 22226, 29549, 29549, 24615, 19982, 27475, 23196,\n",
       "        29549, 29549, 29549, 29549, 29549, 26068, 29549, 29549, 29549,\n",
       "         6468, 29549, 29549, 29549, 29549, 26839, 28670, 29549, 29549,\n",
       "        22827, 29549, 29549, 29549, 29549, 29549, 28886, 29549, 29020,\n",
       "        29549, 29549, 29549, 29549, 29549, 29549, 19692, 29549, 29549,\n",
       "        29549, 29549, 29549, 27948, 29549, 29549, 29549, 29549, 17993,\n",
       "        29549, 22695, 29549, 29549, 29549, 29549, 29549, 29549, 29549,\n",
       "        27158, 29549, 29549, 15774, 29549, 22898, 27144, 28353, 29549,\n",
       "         2852, 29549, 29549, 26008, 29549, 29549, 29549, 28170, 29549,\n",
       "        29549, 16660, 24577, 29549, 29549, 27579, 29549, 29549, 29549,\n",
       "        29549, 18786, 29549, 29549, 29549, 21785, 29549, 29549, 29549,\n",
       "        29549, 29549, 21882, 29549, 29549, 29549, 28044, 29549, 29549,\n",
       "        18303, 28363, 29549, 16202, 29549, 29549, 29549, 29549, 29549,\n",
       "        29549, 29549, 11672, 29549, 29549, 29549, 29549, 29549, 29549,\n",
       "        29549,   798,   127,  6299, 29549, 29549, 29549, 29549, 25778,\n",
       "        29549, 29549, 27987,   536, 29549, 29549, 29549,  3100, 29549,\n",
       "        22875, 16117, 29549, 29549, 29549, 29549, 29549, 25300, 29549,\n",
       "        21116, 29549,   117, 29549, 29549,   104, 29549,   329, 29549,\n",
       "        29549, 29549, 29549, 29549, 29549, 29549, 29549, 29549, 29549,\n",
       "        29549, 21733, 24039, 29549, 29549, 29549, 29549, 25935, 16330,\n",
       "        29549, 29549, 29549, 29549, 29549, 29549, 29549, 29549, 29549,\n",
       "        29549, 25904, 18394, 29549, 29549, 24294, 29549, 24590, 14961,\n",
       "        29549, 29549, 23622, 29549,  4611, 23534, 27186, 29549, 12792,\n",
       "        29549,  2203, 29549, 20512, 13907, 29549, 29549, 29549, 29549,\n",
       "        29549, 29549, 29549, 17768, 18042, 24163, 29549, 27983, 18755,\n",
       "          468, 29549, 29549, 29549], dtype=int64),\n",
       " 'advantage_0': array([29549, 29549, 29549, 22483, 29549,   680, 29549, 29549, 29549,\n",
       "        29549, 29549, 29549,  8019, 29549, 29549, 20980, 29549, 23515,\n",
       "        29549, 29549, 29549, 29549, 29549, 29549, 15140, 29549, 29549,\n",
       "          433, 29549, 25889, 29549, 29549, 24774, 29549, 24327, 29549,\n",
       "        28804, 27667,   230, 29549, 24791, 29549, 21674, 29549, 26508,\n",
       "        29549, 29549, 28781, 29549, 29549, 29549, 24395, 29549, 29549,\n",
       "        18098, 29549, 29549, 29549, 19138, 23738, 29549, 27851, 29549,\n",
       "          370, 29549, 29549, 29549, 29549, 24473, 25430, 29549, 29549,\n",
       "        29549, 25894, 29549, 29549, 29549, 29549, 22757, 18025, 29549,\n",
       "        29549, 29549, 29549, 29549, 29549, 29549, 29549, 29549,   482,\n",
       "        29549, 27196, 29549, 29549, 26509, 25872, 28770, 29549, 22250,\n",
       "        29549, 25143, 29549,  1191, 27649, 29549, 23241, 28555, 29549,\n",
       "        29549, 19543, 29549, 29549, 29549, 29549, 21251,   180, 25072,\n",
       "        29549, 29549, 27024, 29549, 22467, 29549, 29549, 27310, 29549,\n",
       "        29549, 22653, 29549, 29549, 22982, 29549, 29549, 24256, 17282,\n",
       "        29549,   304, 18089, 29549, 29549, 26606, 29549, 26191, 29549,\n",
       "        29549, 29549, 29549, 29549, 29549, 29549, 28020, 29549, 28564,\n",
       "        29549, 20516, 29549,   607, 29549, 29549, 25858, 29549, 29549,\n",
       "        25811, 29549, 29549, 23339, 26754, 29549, 29549, 27217, 29549,\n",
       "        21645, 29549, 23788, 29549, 27258, 29549, 29549, 29549, 27482,\n",
       "         8348, 29549, 25518, 22480, 26038, 29549, 29549, 21722, 29549,\n",
       "        16991, 24920, 29549, 24140, 29549, 29549, 29549, 26624, 20619,\n",
       "        29549,   925, 28307, 29549, 22914, 29549, 29549, 29549,  1049,\n",
       "        28196, 29549, 19683, 22381, 29549, 29549, 29549, 29549, 29549,\n",
       "        29549, 27414, 22415, 16380, 29549, 29549, 27462, 29549, 29549,\n",
       "        29549, 25972, 29549, 26734, 28453,  1105, 29549, 29549, 29549,\n",
       "        18827, 29549, 29549, 29549, 26873, 29549, 29549, 29549, 26775,\n",
       "        21783, 28263,  8832, 29549, 29549, 26305, 29549, 25614, 29549,\n",
       "        29549, 29549, 29549, 29549], dtype=int64)}"
      ]
     },
     "execution_count": 17,
     "metadata": {},
     "output_type": "execute_result"
    }
   ],
   "source": [
    "ages"
   ]
  },
  {
   "cell_type": "code",
   "execution_count": 18,
   "id": "536a2322-a6d2-4273-96cf-07d3bc14b475",
   "metadata": {},
   "outputs": [
    {
     "data": {
      "text/plain": [
       "83"
      ]
     },
     "execution_count": 18,
     "metadata": {},
     "output_type": "execute_result"
    }
   ],
   "source": [
    "a = list(ages.values())[0]\n",
    "(a < a.max()).sum()"
   ]
  },
  {
   "cell_type": "code",
   "execution_count": null,
   "id": "cff3ca0a-7454-4bcf-bbc8-c0f1eb328818",
   "metadata": {},
   "outputs": [],
   "source": []
  },
  {
   "cell_type": "code",
   "execution_count": null,
   "id": "f5656d37-e3a3-4dd7-829d-6361c5ceac71",
   "metadata": {},
   "outputs": [],
   "source": []
  },
  {
   "cell_type": "code",
   "execution_count": 19,
   "id": "96f11262-12b1-4aef-bba6-9852261e1302",
   "metadata": {},
   "outputs": [],
   "source": [
    "import matplotlib.pyplot as plt"
   ]
  },
  {
   "cell_type": "code",
   "execution_count": 20,
   "id": "33840b5f-7bd6-4d47-8c2d-e20be9d6f40b",
   "metadata": {},
   "outputs": [
    {
     "data": {
      "text/plain": [
       "<matplotlib.legend.Legend at 0x23e810122e0>"
      ]
     },
     "execution_count": 20,
     "metadata": {},
     "output_type": "execute_result"
    },
    {
     "data": {
      "image/png": "[encoded data removed]",
      "text/plain": [
       "<Figure size 640x480 with 1 Axes>"
      ]
     },
     "metadata": {},
     "output_type": "display_data"
    }
   ],
   "source": [
    "plt.hist(list(ages.values()), label=list(ages.keys()))\n",
    "plt.legend()"
   ]
  },
  {
   "cell_type": "code",
   "execution_count": null,
   "id": "db1313a4-9228-400d-8bde-ddd55a2098a4",
   "metadata": {},
   "outputs": [],
   "source": []
  },
  {
   "cell_type": "code",
   "execution_count": null,
   "id": "9f7e96cb-facb-420b-b429-0d6d740c98d6",
   "metadata": {},
   "outputs": [],
   "source": []
  },
  {
   "cell_type": "code",
   "execution_count": 1,
   "id": "9a7246da-5587-4e3f-9675-97ef4ab0e289",
   "metadata": {},
   "outputs": [],
   "source": [
    "import torch"
   ]
  },
  {
   "cell_type": "code",
   "execution_count": 2,
   "id": "290e0f32-dee6-4f26-8d8f-87c2a9429b48",
   "metadata": {},
   "outputs": [],
   "source": [
    "lin = torch.nn.Linear(3, 4)"
   ]
  },
  {
   "cell_type": "code",
   "execution_count": 3,
   "id": "ec62fe9a-8171-4c3d-8280-022a518987c2",
   "metadata": {},
   "outputs": [
    {
     "data": {
      "text/plain": [
       "True"
      ]
     },
     "execution_count": 3,
     "metadata": {},
     "output_type": "execute_result"
    }
   ],
   "source": [
    "lin.training"
   ]
  },
  {
   "cell_type": "code",
   "execution_count": null,
   "id": "c2892c0e-790f-4d0a-8831-a3f4e24bd015",
   "metadata": {},
   "outputs": [],
   "source": []
  }
 ],
 "metadata": {
  "kernelspec": {
   "display_name": "cbp",
   "language": "python",
   "name": "conda-env-cbp-py"
  },
  "language_info": {
   "codemirror_mode": {
    "name": "ipython",
    "version": 3
   },
   "file_extension": ".py",
   "mimetype": "text/x-python",
   "name": "python",
   "nbconvert_exporter": "python",
   "pygments_lexer": "ipython3",
   "version": "3.10.13"
  }
 },
 "nbformat": 4,
 "nbformat_minor": 5
}
