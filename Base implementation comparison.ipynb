{
 "cells": [
  {
   "cell_type": "markdown",
   "id": "778975fe-52a9-4069-b59d-6b7e50ba7e9a",
   "metadata": {},
   "source": [
    "## TODO\n",
    "\n",
    "[X] Implement/Port Continual Backprop\n",
    "\n",
    "[X] Implement \"unit tests\" initialization, buffer behavior, training, ...\n",
    "\n",
    "[X] investigate inconsistency between envs\n",
    "\n",
    "[X] investigate gradient inconsistencies (seems adaptive max pool inherently adds numerical errors to the gradients)"
   ]
  },
  {
   "cell_type": "code",
   "execution_count": null,
   "id": "a12e481b-6236-408a-82be-2c588d696fff",
   "metadata": {},
   "outputs": [],
   "source": []
  },
  {
   "cell_type": "code",
   "execution_count": 1,
   "id": "024ba2cf-5b37-4e15-bd02-9b7e8b6e353e",
   "metadata": {},
   "outputs": [],
   "source": [
    "import time, random\n",
    "from collections import deque\n",
    "from pathlib import Path\n",
    "from types import SimpleNamespace as sn\n",
    "\n",
    "import torch\n",
    "import numpy as np\n",
    "from tqdm import trange\n",
    "from rich import print\n",
    "\n",
    "import wandb\n",
    "from wandb.integration.sb3 import WandbCallback"
   ]
  },
  {
   "cell_type": "code",
   "execution_count": null,
   "id": "0ab9c8ac-d83a-42e3-957d-1ff80a1e929f",
   "metadata": {},
   "outputs": [],
   "source": []
  },
  {
   "cell_type": "code",
   "execution_count": 27,
   "id": "25036007-725d-4fe0-9e17-e50219ec7cd5",
   "metadata": {},
   "outputs": [],
   "source": [
    "torch.backends.cudnn.deterministic = True"
   ]
  },
  {
   "cell_type": "code",
   "execution_count": null,
   "id": "1b3fa807-6c67-4612-a07e-663747188468",
   "metadata": {},
   "outputs": [],
   "source": []
  },
  {
   "cell_type": "code",
   "execution_count": 106,
   "id": "102c3bfd-32df-49d2-8110-917968893562",
   "metadata": {},
   "outputs": [],
   "source": [
    "grads = []\n",
    "losses = []"
   ]
  },
  {
   "cell_type": "code",
   "execution_count": 107,
   "id": "5a2ce24c-2b6b-41f3-87e6-e875b6eb7500",
   "metadata": {},
   "outputs": [],
   "source": [
    "random.seed(42)\n",
    "np.random.seed(42)\n",
    "torch.manual_seed(42)\n",
    "\n",
    "module = torch.nn.Sequential(\n",
    "    torch.nn.Conv2d(4, 4, 3),\n",
    "    #torch.nn.ReLU(),\n",
    "    torch.nn.AdaptiveMaxPool2d((8, 8)),\n",
    "    torch.nn.Flatten(),\n",
    "    torch.nn.Linear(4*8*8, 4)\n",
    ").cuda()\n",
    "\n",
    "opt = torch.optim.Adam(module.parameters())\n",
    "loss_fn = torch.nn.HuberLoss()\n",
    "\n",
    "batch_n = 128\n",
    "inp = torch.rand(batch_n, 4, 6, 6).cuda() #4, 84, 84\n",
    "targ = torch.rand(batch_n, 4).cuda()\n",
    "    \n",
    "for _ in range(10):\n",
    "    random.seed(42)\n",
    "    np.random.seed(42)\n",
    "    torch.manual_seed(42)\n",
    "\n",
    "    ret = module(inp)\n",
    "    \n",
    "    opt.zero_grad()\n",
    "    \n",
    "    loss = loss_fn(ret, targ)\n",
    "    losses.append(loss.item())\n",
    "    \n",
    "    loss.backward()\n",
    "    \n",
    "    grads.append(list(map(lambda x: x.grad.clone().detach(), module.parameters())))"
   ]
  },
  {
   "cell_type": "code",
   "execution_count": 108,
   "id": "f032e7b9-6457-4b16-b97a-6e38240c790f",
   "metadata": {},
   "outputs": [
    {
     "data": {
      "text/plain": [
       "True"
      ]
     },
     "execution_count": 108,
     "metadata": {},
     "output_type": "execute_result"
    }
   ],
   "source": [
    "(np.array(losses) == losses[0]).all() # are all losses equal?"
   ]
  },
  {
   "cell_type": "code",
   "execution_count": 109,
   "id": "5e546153-41d9-49ca-9c21-6accb5b24e28",
   "metadata": {},
   "outputs": [
    {
     "data": {
      "text/html": [
       "<pre style=\"white-space:pre;overflow-x:auto;line-height:normal;font-family:Menlo,'DejaVu Sans Mono',consolas,'Courier New',monospace\"><span style=\"color: #008080; text-decoration-color: #008080; font-weight: bold\">0.</span>weight <span style=\"color: #800080; text-decoration-color: #800080; font-weight: bold\">tensor</span><span style=\"font-weight: bold\">(</span><span style=\"color: #008080; text-decoration-color: #008080; font-weight: bold\">9.3132e-09</span>, <span style=\"color: #808000; text-decoration-color: #808000\">device</span>=<span style=\"color: #008000; text-decoration-color: #008000\">'cuda:0'</span><span style=\"font-weight: bold\">)</span>\n",
       "</pre>\n"
      ],
      "text/plain": [
       "\u001b[1;36m0.\u001b[0mweight \u001b[1;35mtensor\u001b[0m\u001b[1m(\u001b[0m\u001b[1;36m9.3132e-09\u001b[0m, \u001b[33mdevice\u001b[0m=\u001b[32m'cuda:0'\u001b[0m\u001b[1m)\u001b[0m\n"
      ]
     },
     "metadata": {},
     "output_type": "display_data"
    },
    {
     "data": {
      "text/html": [
       "<pre style=\"white-space:pre;overflow-x:auto;line-height:normal;font-family:Menlo,'DejaVu Sans Mono',consolas,'Courier New',monospace\"><span style=\"color: #008080; text-decoration-color: #008080; font-weight: bold\">0.</span>bias <span style=\"color: #800080; text-decoration-color: #800080; font-weight: bold\">tensor</span><span style=\"font-weight: bold\">(</span><span style=\"color: #008080; text-decoration-color: #008080; font-weight: bold\">5.5879e-09</span>, <span style=\"color: #808000; text-decoration-color: #808000\">device</span>=<span style=\"color: #008000; text-decoration-color: #008000\">'cuda:0'</span><span style=\"font-weight: bold\">)</span>\n",
       "</pre>\n"
      ],
      "text/plain": [
       "\u001b[1;36m0.\u001b[0mbias \u001b[1;35mtensor\u001b[0m\u001b[1m(\u001b[0m\u001b[1;36m5.5879e-09\u001b[0m, \u001b[33mdevice\u001b[0m=\u001b[32m'cuda:0'\u001b[0m\u001b[1m)\u001b[0m\n"
      ]
     },
     "metadata": {},
     "output_type": "display_data"
    },
    {
     "data": {
      "text/html": [
       "<pre style=\"white-space:pre;overflow-x:auto;line-height:normal;font-family:Menlo,'DejaVu Sans Mono',consolas,'Courier New',monospace\"><span style=\"color: #008080; text-decoration-color: #008080; font-weight: bold\">3.</span>weight <span style=\"color: #800080; text-decoration-color: #800080; font-weight: bold\">tensor</span><span style=\"font-weight: bold\">(</span><span style=\"color: #008080; text-decoration-color: #008080; font-weight: bold\">0</span>., <span style=\"color: #808000; text-decoration-color: #808000\">device</span>=<span style=\"color: #008000; text-decoration-color: #008000\">'cuda:0'</span><span style=\"font-weight: bold\">)</span>\n",
       "</pre>\n"
      ],
      "text/plain": [
       "\u001b[1;36m3.\u001b[0mweight \u001b[1;35mtensor\u001b[0m\u001b[1m(\u001b[0m\u001b[1;36m0\u001b[0m., \u001b[33mdevice\u001b[0m=\u001b[32m'cuda:0'\u001b[0m\u001b[1m)\u001b[0m\n"
      ]
     },
     "metadata": {},
     "output_type": "display_data"
    },
    {
     "data": {
      "text/html": [
       "<pre style=\"white-space:pre;overflow-x:auto;line-height:normal;font-family:Menlo,'DejaVu Sans Mono',consolas,'Courier New',monospace\"><span style=\"color: #008080; text-decoration-color: #008080; font-weight: bold\">3.</span>bias <span style=\"color: #800080; text-decoration-color: #800080; font-weight: bold\">tensor</span><span style=\"font-weight: bold\">(</span><span style=\"color: #008080; text-decoration-color: #008080; font-weight: bold\">0</span>., <span style=\"color: #808000; text-decoration-color: #808000\">device</span>=<span style=\"color: #008000; text-decoration-color: #008000\">'cuda:0'</span><span style=\"font-weight: bold\">)</span>\n",
       "</pre>\n"
      ],
      "text/plain": [
       "\u001b[1;36m3.\u001b[0mbias \u001b[1;35mtensor\u001b[0m\u001b[1m(\u001b[0m\u001b[1;36m0\u001b[0m., \u001b[33mdevice\u001b[0m=\u001b[32m'cuda:0'\u001b[0m\u001b[1m)\u001b[0m\n"
      ]
     },
     "metadata": {},
     "output_type": "display_data"
    }
   ],
   "source": [
    "for n, w in zip(module.named_parameters(), zip(*grads)):\n",
    "    print(n[0], (torch.stack(w) - w[0]).abs().max())  # are all gradients equal? each row a comparison of one weight grad across retries"
   ]
  },
  {
   "cell_type": "code",
   "execution_count": 101,
   "id": "827d7c0c-3e71-4ebe-a949-f3393a9a6b9a",
   "metadata": {},
   "outputs": [
    {
     "data": {
      "text/plain": [
       "Sequential(\n",
       "  (0): Conv2d(4, 4, kernel_size=(3, 3), stride=(1, 1))\n",
       "  (1): AdaptiveMaxPool2d(output_size=(8, 8))\n",
       "  (2): Flatten(start_dim=1, end_dim=-1)\n",
       "  (3): Linear(in_features=256, out_features=4, bias=True)\n",
       ")"
      ]
     },
     "execution_count": 101,
     "metadata": {},
     "output_type": "execute_result"
    }
   ],
   "source": [
    "module"
   ]
  },
  {
   "cell_type": "markdown",
   "id": "3cd753f4-ff80-4cf1-b252-df770994e444",
   "metadata": {},
   "source": [
    "The 'AdaptiveMaxPool2d' layer is prone to introduce numerical disturbances into the gradient calculation. These errors are propagated in the backward pass, which quickly causes a divergence in module weights. In conclusion, as these discrepancies compound with every update, we cannot expect two models with the same seed to end up with the same parameters or even the same training progression."
   ]
  },
  {
   "cell_type": "code",
   "execution_count": 9,
   "id": "8348d5f7-1859-4016-97a0-22b96399986f",
   "metadata": {},
   "outputs": [],
   "source": []
  },
  {
   "cell_type": "code",
   "execution_count": 67,
   "id": "7006beeb-8df4-464e-820e-77c1f4341d7d",
   "metadata": {},
   "outputs": [],
   "source": []
  },
  {
   "cell_type": "code",
   "execution_count": 67,
   "id": "12bc2de7-143d-44d5-8871-f0df14dea090",
   "metadata": {},
   "outputs": [],
   "source": []
  },
  {
   "cell_type": "code",
   "execution_count": 2,
   "id": "d8aaee14-1990-4ce0-ab7f-2387297d24d2",
   "metadata": {},
   "outputs": [],
   "source": [
    "from torch_layers import FactorizedNoisyLinear\n",
    "from old_rainbow.common.networks import FactorizedNoisyLinear as oldFactorizedNoisyLinear\n",
    "\n",
    "def same_params(old_rainbow, new_rainbow):\n",
    "    old_params = torch.nn.utils.parameters_to_vector(list(old_rainbow.q_policy.parameters()) + list(old_rainbow.q_target.parameters())).detach().cpu().numpy()\n",
    "    new_params = new_rainbow.policy.parameters_to_vector()\n",
    "    if len(new_params) != len(old_params):\n",
    "        print('Unequal lengths:', len(new_params), len(old_params))\n",
    "        return False\n",
    "    return np.allclose(old_params, new_params)\n",
    "\n",
    "def sync_norm_buffers(old_rainbow, new_rainbow):\n",
    "    \"\"\"\n",
    "    torch.nn.utils.spectral_norm adds buffers to the Conv modules which affect the results of forward passes and therefore need to be synchronized.\n",
    "    This function clones the buffers from old_rainbow to new_rainbow.\n",
    "    \"\"\"\n",
    "    for old_q, new_q in zip([old_rainbow.q_policy, old_rainbow.q_target], [new_rainbow.q_net, new_rainbow.q_net_target]):\n",
    "        for old_block, new_block in zip(old_q.main[:-1], new_q.features_extractor.main[:-3]):\n",
    "            for i in range(2):\n",
    "                old_residual = getattr(old_block, f\"residual_{i}\")\n",
    "                new_residual = getattr(new_block, f\"residual_{i}\")\n",
    "                for j in range(2):\n",
    "                    old_conv = getattr(old_residual, f\"conv_{j}\")\n",
    "                    new_conv = getattr(new_residual, f\"conv_{j}\")\n",
    "                    \n",
    "                    new_conv.weight_u = old_conv.weight_u.clone()\n",
    "                    new_conv.weight_v = old_conv.weight_v.clone()\n",
    "                \n",
    "def same_buffers(old_rainbow, new_rainbow):\n",
    "    for k, (old_q, new_q) in enumerate(zip([old_rainbow.q_policy, old_rainbow.q_target], [new_rainbow.q_net, new_rainbow.q_net_target])):\n",
    "        for old_block, new_block in zip(old_q.main[:-1], new_q.features_extractor.main[:-3]):\n",
    "            for i in range(2):\n",
    "                old_residual = getattr(old_block, f\"residual_{i}\")\n",
    "                new_residual = getattr(new_block, f\"residual_{i}\")\n",
    "                for j in range(2):\n",
    "                    old_conv = getattr(old_residual, f\"conv_{j}\")\n",
    "                    new_conv = getattr(new_residual, f\"conv_{j}\")\n",
    "                    \n",
    "                    if (new_conv.weight_u != old_conv.weight_u).any() or (new_conv.weight_v != old_conv.weight_v).any():\n",
    "                        print(f\"{['policy', 'target'][k]}.residual_{i}.conv_{j}\")\n",
    "                        return False\n",
    "                \n",
    "        for branch in ['value_branch', 'advantage_branch']:\n",
    "            old_seq = getattr(old_q.dueling, branch)\n",
    "            new_seq = getattr(new_q.dueling, branch)\n",
    "            for old_layer, new_layer in list(zip(old_seq, new_seq))[::2]:\n",
    "                for buffer in ['weight_epsilon', 'bias_epsilon']:\n",
    "                    old_val = getattr(old_layer, buffer)\n",
    "                    new_val = getattr(new_layer, buffer)\n",
    "                    \n",
    "                    if (old_val != new_val).any():\n",
    "                        print(f\"{['policy', 'target'][k]}.{branch}.{buffer}\")\n",
    "                        return False\n",
    "    return True"
   ]
  },
  {
   "cell_type": "code",
   "execution_count": 3,
   "id": "5fa25136-0df9-4332-8ef8-41d3b87fefa5",
   "metadata": {},
   "outputs": [],
   "source": [
    "def same_states(old_env, new_env):\n",
    "    for env1, env2 in zip(old_env.venv.envs, new_env.venv.envs):\n",
    "        old_state = env1.np_random.get_state()\n",
    "        new_state = env2.np_random.get_state()\n",
    "        if (new_state[1] != old_state[1]).any() or new_state[2:] != old_state[2:]:\n",
    "            print('Not Same')\n",
    "            return False\n",
    "    return True"
   ]
  },
  {
   "cell_type": "code",
   "execution_count": 4,
   "id": "3c341d6e-2326-4360-93b3-2ef06c6a1c4a",
   "metadata": {},
   "outputs": [],
   "source": [
    "from rainbow import Rainbow, reset_noise"
   ]
  },
  {
   "cell_type": "code",
   "execution_count": 5,
   "id": "53b67149-a595-445d-9b5c-48f2b75abc87",
   "metadata": {},
   "outputs": [],
   "source": [
    "from env_wrappers import create_env\n",
    "from utils import get_mean_ep_length\n",
    "from sb3_logger import configure_logger, WandbOutputFormat"
   ]
  },
  {
   "cell_type": "code",
   "execution_count": 6,
   "id": "dd22e6e1-9e24-4543-b07d-fbf8cb2c8890",
   "metadata": {},
   "outputs": [],
   "source": [
    "from argparse import Namespace\n",
    "args = Namespace(env_name='gym:Breakout',\n",
    "                 parallel_envs=64,\n",
    "                 subproc_vecenv=False,\n",
    "                 time_limit=108_000,\n",
    "                 frame_stack=4,\n",
    "                 frame_skip=4,\n",
    "                 grayscale=True,\n",
    "                 gamma=0.99,\n",
    "                 resolution=(84, 84),\n",
    "                 save_dir='tmp',\n",
    "                 record_every=60*50,\n",
    "                 decorr=True,\n",
    "                 seed=3605)\n",
    "\n",
    "args.burnin = 500 #100_000\n",
    "args.buffer_size = 2**12 #2**19\n",
    "args.batch_size = 256\n",
    "args.sync_dqn_target_every = 320 #32_000\n",
    "args.training_frames = 64*11 #1000 #2_000_000\n",
    "\n",
    "args.noisy_linear = True\n",
    "if args.noisy_linear:\n",
    "    args.linear_kwargs = {'sigma_0': 0.5}\n",
    "args.adam_eps = None\n",
    "args.model_size = 2"
   ]
  },
  {
   "cell_type": "code",
   "execution_count": 7,
   "id": "2e8951f2-77a3-4094-8359-0da7c6df1e0b",
   "metadata": {},
   "outputs": [
    {
     "data": {
      "text/plain": [
       "(4096, True, 704)"
      ]
     },
     "execution_count": 7,
     "metadata": {},
     "output_type": "execute_result"
    }
   ],
   "source": [
    "args.buffer_size, args.sync_dqn_target_every%args.parallel_envs == 0, args.training_frames"
   ]
  },
  {
   "cell_type": "code",
   "execution_count": 8,
   "id": "1446ca62-1ac6-4fec-b317-e935167816cd",
   "metadata": {},
   "outputs": [
    {
     "data": {
      "text/plain": [
       "<torch._C.Generator at 0x1e585eb1230>"
      ]
     },
     "execution_count": 8,
     "metadata": {},
     "output_type": "execute_result"
    }
   ],
   "source": [
    "random.seed(args.seed)\n",
    "np.random.seed(args.seed)\n",
    "torch.manual_seed(args.seed)"
   ]
  },
  {
   "cell_type": "code",
   "execution_count": 9,
   "id": "faf44b9e-f031-4513-93cd-ab111447768f",
   "metadata": {},
   "outputs": [
    {
     "data": {
      "text/html": [
       "<pre style=\"white-space:pre;overflow-x:auto;line-height:normal;font-family:Menlo,'DejaVu Sans Mono',consolas,'Courier New',monospace\">Creating <span style=\"color: #008080; text-decoration-color: #008080; font-weight: bold\">64</span> and decorrelating environment instances. This may take up to a few minutes.. </pre>\n"
      ],
      "text/plain": [
       "Creating \u001b[1;36m64\u001b[0m and decorrelating environment instances. This may take up to a few minutes.. "
      ]
     },
     "metadata": {},
     "output_type": "display_data"
    },
    {
     "data": {
      "text/html": [
       "<pre style=\"white-space:pre;overflow-x:auto;line-height:normal;font-family:Menlo,'DejaVu Sans Mono',consolas,'Courier New',monospace\">Decorr steps: <span style=\"color: #008080; text-decoration-color: #008080; font-weight: bold\">2</span>\n",
       "</pre>\n"
      ],
      "text/plain": [
       "Decorr steps: \u001b[1;36m2\u001b[0m\n"
      ]
     },
     "metadata": {},
     "output_type": "display_data"
    },
    {
     "data": {
      "text/html": [
       "<pre style=\"white-space:pre;overflow-x:auto;line-height:normal;font-family:Menlo,'DejaVu Sans Mono',consolas,'Courier New',monospace\">Done.\n",
       "</pre>\n"
      ],
      "text/plain": [
       "Done.\n"
      ]
     },
     "metadata": {},
     "output_type": "display_data"
    }
   ],
   "source": [
    "print(f'Creating', args.parallel_envs, 'and decorrelating environment instances. This may take up to a few minutes.. ', end='')\n",
    "decorr_steps = None\n",
    "if args.env_name == 'gym:Breakout':\n",
    "    decorr_steps = 160 // args.parallel_envs\n",
    "if args.decorr and not args.env_name.startswith('procgen:') and decorr_steps is None:\n",
    "    decorr_steps = get_mean_ep_length(args) // args.parallel_envs\n",
    "print('Decorr steps:', decorr_steps)\n",
    "env = create_env(args, decorr_steps=decorr_steps)\n",
    "#states = env.reset()\n",
    "print('Done.')"
   ]
  },
  {
   "cell_type": "code",
   "execution_count": 10,
   "id": "50de1021-f887-406a-86a2-fcc7bf6fd05e",
   "metadata": {},
   "outputs": [],
   "source": [
    "model = Rainbow('CnnPolicy', env, buffer_size=args.buffer_size, batch_size=args.batch_size, learning_starts=args.burnin, target_update_interval=args.sync_dqn_target_every, policy_kwargs={'noisy_linear': True, 'linear_kwargs': {'sigma_0': 0.5}, 'optimizer_kwargs': {'eps': None}, 'features_extractor_kwargs': {'model_size': 2}})"
   ]
  },
  {
   "cell_type": "code",
   "execution_count": 68,
   "id": "f2c299e4-70e7-49e5-a181-8d4794160236",
   "metadata": {},
   "outputs": [
    {
     "data": {
      "text/html": [
       "Tracking run with wandb version 0.13.6"
      ],
      "text/plain": [
       "<IPython.core.display.HTML object>"
      ]
     },
     "metadata": {},
     "output_type": "display_data"
    },
    {
     "data": {
      "text/html": [
       "W&B syncing is set to <code>`offline`<code> in this directory.  <br/>Run <code>`wandb online`<code> or set <code>WANDB_MODE=online<code> to enable cloud syncing."
      ],
      "text/plain": [
       "<IPython.core.display.HTML object>"
      ]
     },
     "metadata": {},
     "output_type": "display_data"
    }
   ],
   "source": [
    "args.wandb_mode = 'offline'\n",
    "args.wandb_group = 'baseline'\n",
    "args.name = 'no_train_test'\n",
    "args.log_dir = './runs/' + args.name + '/'\n",
    "args.wandb_dir = args.log_dir # 'wandb' added automatically\n",
    "args.tb_log_dir = args.log_dir + 'tensorboard'\n",
    "args.wandb_grad_freq = 0\n",
    "\n",
    "run = wandb.init(\n",
    "    project=\"Rainbow\",\n",
    "    group=args.wandb_group,\n",
    "    name=args.name,\n",
    "    config=vars(args),\n",
    "    dir=args.wandb_dir,\n",
    "    #monitor_gym=True,  # auto-upload the videos of agents playing the game\n",
    "    mode=args.wandb_mode,\n",
    "    #reinit=True\n",
    ")\n",
    "\n",
    "model.set_logger(configure_logger(0, args.tb_log_dir, args.name, True, extra_formats=[WandbOutputFormat]))\n",
    "    \n",
    "callbacks = [WandbCallback(gradient_save_freq=args.wandb_grad_freq)]"
   ]
  },
  {
   "cell_type": "code",
   "execution_count": 69,
   "id": "58d6f8b0-f743-42a0-a036-d41a4c249bef",
   "metadata": {},
   "outputs": [
    {
     "data": {
      "text/html": [
       "<pre style=\"white-space:pre;overflow-x:auto;line-height:normal;font-family:Menlo,'DejaVu Sans Mono',consolas,'Courier New',monospace\"></pre>\n"
      ],
      "text/plain": [
       "\u001b[?25l"
      ]
     },
     "metadata": {},
     "output_type": "display_data"
    },
    {
     "data": {
      "application/vnd.jupyter.widget-view+json": {
       "model_id": "50d1fd9f477b43fb93cf2ae8f13905d8",
       "version_major": 2,
       "version_minor": 0
      },
      "text/plain": [
       "Output()"
      ]
     },
     "metadata": {},
     "output_type": "display_data"
    },
    {
     "data": {
      "text/html": [
       "<pre style=\"white-space:pre;overflow-x:auto;line-height:normal;font-family:Menlo,'DejaVu Sans Mono',consolas,'Courier New',monospace\">\n",
       "</pre>\n"
      ],
      "text/plain": [
       "\n",
       "\u001b[?25h"
      ]
     },
     "metadata": {},
     "output_type": "display_data"
    },
    {
     "data": {
      "text/plain": [
       "<rainbow.Rainbow at 0x23e7dbc97c0>"
      ]
     },
     "execution_count": 69,
     "metadata": {},
     "output_type": "execute_result"
    }
   ],
   "source": [
    "model.learn(args.training_frames, callback=callbacks, tb_log_name=args.name, progress_bar=True)"
   ]
  },
  {
   "cell_type": "raw",
   "id": "a29f47ff-81a9-4c10-90ee-e0deb98f42c3",
   "metadata": {},
   "source": [
    "model.save(args.name)"
   ]
  },
  {
   "cell_type": "code",
   "execution_count": 70,
   "id": "ad59b537-cb19-4223-92fb-30b612b5e47d",
   "metadata": {},
   "outputs": [
    {
     "data": {
      "text/html": [
       "Waiting for W&B process to finish... <strong style=\"color:green\">(success).</strong>"
      ],
      "text/plain": [
       "<IPython.core.display.HTML object>"
      ]
     },
     "metadata": {},
     "output_type": "display_data"
    },
    {
     "data": {
      "text/html": [
       "<style>\n",
       "    table.wandb td:nth-child(1) { padding: 0 10px; text-align: left ; width: auto;} td:nth-child(2) {text-align: left ; width: 100%}\n",
       "    .wandb-row { display: flex; flex-direction: row; flex-wrap: wrap; justify-content: flex-start; width: 100% }\n",
       "    .wandb-col { display: flex; flex-direction: column; flex-basis: 100%; flex: 1; padding: 10px; }\n",
       "    </style>\n",
       "<div class=\"wandb-row\"><div class=\"wandb-col\"><h3>Run history:</h3><br/><table class=\"wandb\"><tr><td>rollout/ep_len_mean</td><td>▁▁▁▁</td></tr><tr><td>rollout/ep_rew_mean</td><td>▁▁▁▁</td></tr><tr><td>rollout/exploration_rate</td><td>▁▁▁▁▁</td></tr><tr><td>rollout/prioritized_er_beta</td><td>▁▄▅▇█</td></tr><tr><td>time/episodes</td><td>▁▃▅▆█</td></tr><tr><td>time/fps</td><td>▁▄▅▇█</td></tr><tr><td>time/time_elapsed</td><td>▁████</td></tr><tr><td>time/total_timesteps</td><td>▁▄▅▇█</td></tr><tr><td>timestep</td><td>▁▄▅▇█</td></tr></table><br/></div><div class=\"wandb-col\"><h3>Run summary:</h3><br/><table class=\"wandb\"><tr><td>rollout/ep_len_mean</td><td>130.0</td></tr><tr><td>rollout/ep_rew_mean</td><td>0.0</td></tr><tr><td>rollout/exploration_rate</td><td>0.0</td></tr><tr><td>rollout/prioritized_er_beta</td><td>1.0</td></tr><tr><td>time/episodes</td><td>20</td></tr><tr><td>time/fps</td><td>55</td></tr><tr><td>time/time_elapsed</td><td>12</td></tr><tr><td>time/total_timesteps</td><td>704</td></tr><tr><td>timestep</td><td>704</td></tr></table><br/></div></div>"
      ],
      "text/plain": [
       "<IPython.core.display.HTML object>"
      ]
     },
     "metadata": {},
     "output_type": "display_data"
    },
    {
     "data": {
      "text/html": [
       "You can sync this run to the cloud by running:<br/><code>wandb sync ./runs/no_train_test/wandb\\offline-run-20231024_153600-37rsdi5f<code>"
      ],
      "text/plain": [
       "<IPython.core.display.HTML object>"
      ]
     },
     "metadata": {},
     "output_type": "display_data"
    },
    {
     "data": {
      "text/html": [
       "Find logs at: <code>./runs/no_train_test/wandb\\offline-run-20231024_153600-37rsdi5f\\logs</code>"
      ],
      "text/plain": [
       "<IPython.core.display.HTML object>"
      ]
     },
     "metadata": {},
     "output_type": "display_data"
    }
   ],
   "source": [
    "env.close()\n",
    "model.logger.close()\n",
    "run.finish()"
   ]
  },
  {
   "cell_type": "raw",
   "id": "12267d7a-9f77-4723-9fff-74a8c158169e",
   "metadata": {},
   "source": [
    "from stable_baselines3.common.evaluation import evaluate_policy"
   ]
  },
  {
   "cell_type": "raw",
   "id": "1991e50f-d9d4-4403-b378-4104b994f467",
   "metadata": {},
   "source": [
    "#args.time_limit = 10_000\n",
    "print(evaluate_policy(model, create_env(args, decorr_steps=decorr_steps), 64))\n",
    "#args.time_limit = 108_000"
   ]
  },
  {
   "cell_type": "code",
   "execution_count": null,
   "id": "a1d718c3-2b75-4e64-abbc-572bd1922bdd",
   "metadata": {},
   "outputs": [],
   "source": []
  },
  {
   "cell_type": "code",
   "execution_count": null,
   "id": "bb3fd49a-6ed3-454a-8f2c-424b873a53ee",
   "metadata": {},
   "outputs": [],
   "source": [
    "def same_named(old_named, new_named):\n",
    "    same = True\n",
    "    for old_p, new_p zip(old_named, new_named):\n",
    "        if not torch.allclose(old_p[1], new_p[1]):\n",
    "            same = False\n",
    "            print(f'{old_p[0]} != {new_p[0]}: {(old_p[1] - new_p[1]).abs().max().item()}')\n",
    "    return same\n",
    "\n",
    "def same_net(old_net, new_net):\n",
    "    same_params = same_named(old_net.named_parameters(), new_net.named_parameters())\n",
    "    same_buffers = same_named(old_net.named_buffers(), new_net.named_buffers())\n",
    "    return same_params and same_buffers\n",
    "\n",
    "def same_model(old_rainbow, new_rainbow):\n",
    "    same_current = same_net(old_rainbow.q_policy, new_policy.q_net)\n",
    "    same_target = same_net(old_rainbow.q_target, new_policy.q_net_target)\n",
    "    return same_current and same_target\n",
    "\n",
    "def same_replays(old_rainbow, new_rainbow):\n",
    "    if old_rainbow.buffer.size != new_rainbow.replay_buffer.size():\n",
    "        print(f'Old replay buffer size {old_rainbow.buffer.size} != new size {new_rainbow.replay_buffer.size()}')\n",
    "        return False\n",
    "    if hasattr(old_rainbow.buffer, 'max_priority') != hasattr(new_rainbow.replay_buffer, 'max_priority'):\n",
    "        print('Using different replay buffers (Uniform/Priority)')\n",
    "        return False\n",
    "    priority = hasattr(old_rainbow.buffer, 'max_priority')\n",
    "    \n",
    "    o_obs, o_nobs, o_a, o_r, o_d = list(zip(*old_rainbow.buffer.data[:old_rainbow.buffer.size]))\n",
    "    o_obs = np.array([np.array(o) in o_obs]) #convert lazy frames to numpy arrays\n",
    "    o_nobs = np.array([np.array(o) in o_nobs])\n",
    "    o_a = torch.stack(o_a).detach().cpu().numpy()\n",
    "    o_r = torch.stack(o_r).detach().cpu().numpy()\n",
    "    o_d = torch.stack(o_d).detach().cpu().numpy()\n",
    "    \n",
    "    data = new_rainbow.replay_buffer.observations, new_rainbow.replay_buffer.next_observations, new_rainbow.replay_buffer.actions, new_rainbow.replay_buffer.rewards, new_rainbow.replay_buffer.dones\n",
    "    n_obs, n_nobs, n_a, n_r, n_d = map(lambda d: d[new_rainbow.replay_buffer.size()], data)\n",
    "    n_obs = np.array([np.array(o) in n_obs]) #convert lazy frames to numpy arrays\n",
    "    n_nobs = np.array([np.array(o) in n_nobs])\n",
    "    \n",
    "    for name, old_v, new_v in zip(('observations', 'next_observations', 'actions', 'rewards', 'dones'), (o_obs, o_nobs, o_a, o_r, o_d), (n_obs, n_nobs, n_a, n_r, n_d)):\n",
    "        if not (old_v == new_v).all():\n",
    "            print(f'{name} are not the same')\n",
    "            return False\n",
    "    \n",
    "    if priority:\n",
    "        if not np.allclose(old_rainbow.buffer.max_priority, new_rainbow.replay_buffer.max_priority):\n",
    "            print('Max priorities are not close')\n",
    "            return False\n",
    "        if not np.allclose(old_rainbow.buffer.priority_sum, new_rainbow.replay_buffer.priority_sum):\n",
    "            print('Priority sums are not close')\n",
    "            return False\n",
    "        if not np.allclose(old_rainbow.buffer.priority_min, new_rainbow.replay_buffer.priority_min):\n",
    "            print('Priority mins are not close')\n",
    "            return False\n",
    "    return True"
   ]
  },
  {
   "cell_type": "code",
   "execution_count": null,
   "id": "8434d3ef-8f36-4cd3-8ad6-b390a3041c7c",
   "metadata": {},
   "outputs": [],
   "source": [
    "def set_random(args):\n",
    "    random.seed(args.seed)\n",
    "    np.random.seed(args.seed)\n",
    "    torch.manual_seed(args.seed)"
   ]
  },
  {
   "cell_type": "code",
   "execution_count": null,
   "id": "793bb89c-9ecc-4cfe-bdcd-af47b81c0f0a",
   "metadata": {},
   "outputs": [],
   "source": [
    "def set_up_env(args, old=False):\n",
    "    set_random(args)\n",
    "    \n",
    "    create = old_create_env if old else create_env\n",
    "    ep_length = old_get_mean_ep_length if old else get_mean_ep_length\n",
    "    \n",
    "    decorr_steps = None\n",
    "    if args.env_name == 'gym:Breakout':\n",
    "        decorr_steps = 160 // args.parallel_envs\n",
    "    if args.decorr and not args.env_name.startswith('procgen:') and decorr_steps is None:\n",
    "        decorr_steps = get_mean_ep_length(args) // args.parallel_envs\n",
    "    env = create_env(args, decorr_steps=decorr_steps)\n",
    "    #states = env.reset()\n",
    "    \n",
    "    return env, decorr_steps"
   ]
  },
  {
   "cell_type": "code",
   "execution_count": null,
   "id": "ccc0bb6f-43dd-461f-ab08-a2d0d8c89de9",
   "metadata": {},
   "outputs": [],
   "source": [
    "def initialize_sb3(args):\n",
    "    env, _ = set_up_env(args)\n",
    "    \n",
    "    model = Rainbow('CnnPolicy',\n",
    "                    env,\n",
    "                    buffer_size=args.buffer_size,\n",
    "                    batch_size=args.batch_size,\n",
    "                    learning_starts=args.burnin,\n",
    "                    target_update_interval=args.sync_dqn_target_every,\n",
    "                    policy_kwargs={\n",
    "                        'noisy_linear': args.noisy_linear, \n",
    "                        'linear_kwargs': args.linear_kwargs, \n",
    "                        'optimizer_kwargs': {'eps': args.adam_eps}, \n",
    "                        'features_extractor_kwargs': {'model_size': args.model_size}\n",
    "                    })\n",
    "    \n",
    "    return model"
   ]
  },
  {
   "cell_type": "code",
   "execution_count": null,
   "id": "4978807a-9d0a-4492-a417-d2c77d7e8379",
   "metadata": {},
   "outputs": [],
   "source": [
    "def add_default_args(args):\n",
    "    args.init_eps = 0.002\n",
    "    args.final_eps = 0.0\n",
    "    args.eps_decay_frames = max(int(0.002 * args.training_frames), 1)\n",
    "    args.prioritized_er_beta0 = 0.45\n",
    "    args.prioritized_er_time = args.training_frames\n",
    "    args.use_amp = False\n",
    "    args.network_arch = f'impala_large:{args.model_size}'\n",
    "    args.spectral_norm = 'all'\n",
    "    args.noisy_dqn = args.noisy_linear\n",
    "    args.noisy_sigma0 = args.linear_kwargs['sigma_0']\n",
    "    args.double_dqn = True\n",
    "    args.prioritized_er = True\n",
    "    args.n_step = 3\n",
    "    args.max_grad_norm = 10\n",
    "    args.lr = 0.00025\n",
    "    args.adam_eps = 0.005/args.batch_size if args.adam_eps is None else args.adam_eps\n",
    "    args.lr_decay_steps = None\n",
    "    args.loss_fn = 'huber'\n",
    "    args.train_count = 2\n",
    "    return args"
   ]
  },
  {
   "cell_type": "code",
   "execution_count": null,
   "id": "875d67bf-0404-4e48-88a4-f39c35b67e6b",
   "metadata": {},
   "outputs": [],
   "source": [
    "def initialize_old(args):\n",
    "    env, _ = set_up_env(args, old=True)\n",
    "    \n",
    "    args = add_default_args(args)\n",
    "    \n",
    "    rainbow = old_Rainbow(env, args)\n",
    "    \n",
    "    return rainbow, env"
   ]
  },
  {
   "cell_type": "code",
   "execution_count": null,
   "id": "628e57fa-f36a-48fa-97d1-f1dfc7a25aef",
   "metadata": {},
   "outputs": [],
   "source": [
    "def compare_initialization(args):\n",
    "    new_model = initialize_sb3(args)\n",
    "    old_model, _ = initialize_old(args)\n",
    "    \n",
    "    assert same_model(old_model, new_model)"
   ]
  },
  {
   "cell_type": "code",
   "execution_count": null,
   "id": "d31cf821-41b6-4157-9b02-eb01026514c1",
   "metadata": {},
   "outputs": [],
   "source": [
    "def train_sb3(args):\n",
    "    model = initialize_sb3(args)\n",
    "    \n",
    "    args.wandb_mode = 'offline'\n",
    "    args.wandb_group = 'baseline'\n",
    "    args.name = 'no_train_test'\n",
    "    args.log_dir = './runs/' + args.name + '/'\n",
    "    args.wandb_dir = args.log_dir # 'wandb' added automatically\n",
    "    args.tb_log_dir = args.log_dir + 'tensorboard'\n",
    "    args.wandb_grad_freq = 0\n",
    "    \n",
    "    run = wandb.init(\n",
    "        project=\"Rainbow\",\n",
    "        group=args.wandb_group,\n",
    "        name=args.name,\n",
    "        config=vars(args),\n",
    "        dir=args.wandb_dir,\n",
    "        #monitor_gym=True,  # auto-upload the videos of agents playing the game\n",
    "        mode=args.wandb_mode,\n",
    "        #reinit=True\n",
    "    )\n",
    "    \n",
    "    model.set_logger(configure_logger(0, args.tb_log_dir, args.name, True, extra_formats=[WandbOutputFormat]))\n",
    "        \n",
    "    callbacks = [WandbCallback(gradient_save_freq=args.wandb_grad_freq)]\n",
    "    \n",
    "    model.learn(args.training_frames, callback=callbacks, tb_log_name=args.name, progress_bar=True)\n",
    "    \n",
    "    env.close()\n",
    "    model.logger.close()\n",
    "    run.finish()\n",
    "    \n",
    "    return model"
   ]
  },
  {
   "cell_type": "code",
   "execution_count": null,
   "id": "917b655b-1f8a-43cb-b474-e5521cdc8c0c",
   "metadata": {},
   "outputs": [],
   "source": [
    "def train_old(args):\n",
    "    rainbow, old_env = initialize_old(args)\n",
    "    \n",
    "    eps_schedule = LinearSchedule(0, initial_value=args.init_eps, final_value=args.final_eps, decay_time=args.eps_decay_frames)\n",
    "    per_beta_schedule = LinearSchedule(0, initial_value=args.prioritized_er_beta0, final_value=1.0, decay_time=args.prioritized_er_time)\n",
    "    \n",
    "    episode_count = 0\n",
    "    returns = deque(maxlen=100)\n",
    "    discounted_returns = deque(maxlen=10)\n",
    "    losses = deque(maxlen=10)\n",
    "    q_values = deque(maxlen=10)\n",
    "    grad_norms = deque(maxlen=10)\n",
    "    iter_times = deque(maxlen=10)\n",
    "    reward_density = 0\n",
    "    \n",
    "    returns_all = []\n",
    "    q_values_all = []\n",
    "    \n",
    "    t = trange(0, args.training_frames + 1, args.parallel_envs)\n",
    "    for game_frame in t:\n",
    "        iter_start = time.time()\n",
    "        eps = eps_schedule(game_frame)\n",
    "        per_beta = per_beta_schedule(game_frame)\n",
    "    \n",
    "        # reset the noisy-nets noise in the policy\n",
    "        if args.noisy_dqn:\n",
    "            rainbow.reset_noise(rainbow.q_policy)\n",
    "    \n",
    "        # compute actions to take in all parallel envs, asynchronously start environment step\n",
    "        actions = rainbow.act(states, eps)\n",
    "        old_env.step_async(actions)\n",
    "    \n",
    "        # if training has started, perform args.train_count training steps, each on a batch of size args.batch_size\n",
    "        if rainbow.buffer.burnedin:\n",
    "            print('Trained')\n",
    "            for train_iter in range(args.train_count):\n",
    "                if args.noisy_dqn and train_iter > 0: rainbow.reset_noise(rainbow.q_policy)\n",
    "                q, loss, grad_norm = rainbow.train(args.batch_size, beta=per_beta)\n",
    "                losses.append(loss)\n",
    "                grad_norms.append(grad_norm)\n",
    "                q_values.append(q)\n",
    "                q_values_all.append((game_frame, q))\n",
    "    \n",
    "        # copy the Q-policy weights over to the Q-target net\n",
    "        # (see also https://github.com/spragunr/deep_q_rl/blob/master/deep_q_rl/launcher.py#L155)\n",
    "        if game_frame % args.sync_dqn_target_every == 0 and rainbow.buffer.burnedin:\n",
    "            rainbow.sync_Q_target()\n",
    "    \n",
    "        # block until environments are ready, then collect transitions and add them to the replay buffer\n",
    "        next_states, rewards, dones, infos = old_env.step_wait()\n",
    "        \n",
    "        #transitions.append((states, actions, rewards, dones))\n",
    "        \n",
    "        for state, action, reward, done, j in zip(states, actions, rewards, dones, range(args.parallel_envs)):\n",
    "            reward_density = 0.999 * reward_density + (1 - 0.999) * (reward != 0)\n",
    "            rainbow.buffer.put(state, action, reward, done, j=j)\n",
    "        states = next_states\n",
    "    \n",
    "        # if any of the envs finished an episode, log stats to wandb\n",
    "        for info, j in zip(infos, range(args.parallel_envs)):\n",
    "            if 'episode_metrics' in info.keys():\n",
    "                episode_metrics = info['episode_metrics']\n",
    "                returns.append(episode_metrics['return'])\n",
    "                returns_all.append((game_frame, episode_metrics['return']))\n",
    "                discounted_returns.append(episode_metrics['discounted_return'])\n",
    "    \n",
    "                episode_count += 1\n",
    "                \n",
    "        if game_frame % (10_000-(10_000 % args.parallel_envs)) == 0:\n",
    "            print(f' [{game_frame:>8} frames, {episode_count:>5} episodes] running average return = {np.mean(returns)}')\n",
    "            torch.cuda.empty_cache()\n",
    "    \n",
    "        iter_times.append(time.time() - iter_start)\n",
    "        t.set_description(f' [{game_frame:>8} frames, {episode_count:>5} episodes]', refresh=False)\n",
    "        \n",
    "    return rainbow"
   ]
  },
  {
   "cell_type": "code",
   "execution_count": null,
   "id": "38f54e42-7cfc-448f-9f33-a5f964270a1e",
   "metadata": {},
   "outputs": [],
   "source": [
    "def compare_pre_optimization(args):\n",
    "    args.training_frames = args.burnin - 5 # stop procedure before training starts\n",
    "    \n",
    "    new_model = train_sb3(args)\n",
    "    old_model = train_old(args)\n",
    "    \n",
    "    assert same_model(old_model, new_model)\n",
    "    assert same_replays(old_model, new_model)"
   ]
  },
  {
   "cell_type": "code",
   "execution_count": null,
   "id": "120968c5-773f-4eb0-9362-efd88bfc2575",
   "metadata": {},
   "outputs": [],
   "source": [
    "def compare_first_update(args):\n",
    "    args.training_frames = args.burnin # stop procedure after first update\n",
    "    \n",
    "    new_model = train_sb3(args)\n",
    "    old_model = train_old(args)\n",
    "    \n",
    "    assert same_model(old_model, new_model)\n",
    "    assert same_replays(old_model, new_model)"
   ]
  },
  {
   "cell_type": "code",
   "execution_count": null,
   "id": "71ce6d17-2b11-4480-8a6f-5718d10ada8f",
   "metadata": {},
   "outputs": [],
   "source": []
  },
  {
   "cell_type": "code",
   "execution_count": null,
   "id": "990755b4-d8ee-4612-8c2b-3a4a07e348a0",
   "metadata": {},
   "outputs": [],
   "source": []
  },
  {
   "cell_type": "code",
   "execution_count": null,
   "id": "6a17c24d-9a9b-47c0-8966-619049dd5d96",
   "metadata": {},
   "outputs": [],
   "source": []
  },
  {
   "cell_type": "code",
   "execution_count": null,
   "id": "5f5170b7-db84-4926-b941-63f3b8a96b50",
   "metadata": {},
   "outputs": [],
   "source": []
  },
  {
   "cell_type": "code",
   "execution_count": 9,
   "id": "382142ac-d286-42b6-adbb-6fdd4f13baa8",
   "metadata": {},
   "outputs": [],
   "source": [
    "#from old_rainbow.common import argp\n",
    "from old_rainbow.common.rainbow import Rainbow as old_Rainbow\n",
    "from old_rainbow.common.env_wrappers import create_env as old_create_env #, BASE_FPS_ATARI, BASE_FPS_PROCGEN\n",
    "from old_rainbow.common.utils import LinearSchedule\n",
    "from old_rainbow.common.utils import get_mean_ep_length as old_get_mean_ep_length"
   ]
  },
  {
   "cell_type": "code",
   "execution_count": 10,
   "id": "2f747c43-a04e-4555-b7a8-f35ecf551e11",
   "metadata": {},
   "outputs": [
    {
     "data": {
      "text/plain": [
       "<torch._C.Generator at 0x1e585eb1230>"
      ]
     },
     "execution_count": 10,
     "metadata": {},
     "output_type": "execute_result"
    }
   ],
   "source": [
    "random.seed(args.seed)\n",
    "np.random.seed(args.seed)\n",
    "torch.manual_seed(args.seed)"
   ]
  },
  {
   "cell_type": "code",
   "execution_count": 11,
   "id": "f18908f0-1c2e-48b3-9192-4adbf9c589b1",
   "metadata": {},
   "outputs": [],
   "source": [
    "args.init_eps = 0.002\n",
    "args.final_eps = 0.0\n",
    "args.eps_decay_frames = max(int(0.002 * args.training_frames), 1)\n",
    "args.prioritized_er_beta0 = 0.45\n",
    "args.prioritized_er_time = args.training_frames"
   ]
  },
  {
   "cell_type": "code",
   "execution_count": 12,
   "id": "011dd1e5-6352-40e8-aea9-d0a1bf137fa7",
   "metadata": {},
   "outputs": [],
   "source": [
    "eps_schedule = LinearSchedule(0, initial_value=args.init_eps, final_value=args.final_eps, decay_time=args.eps_decay_frames)\n",
    "per_beta_schedule = LinearSchedule(0, initial_value=args.prioritized_er_beta0, final_value=1.0, decay_time=args.prioritized_er_time)"
   ]
  },
  {
   "cell_type": "code",
   "execution_count": 13,
   "id": "d6ac2b9e-48a3-4e7e-9d2e-756de0b5e883",
   "metadata": {},
   "outputs": [
    {
     "data": {
      "text/html": [
       "<pre style=\"white-space:pre;overflow-x:auto;line-height:normal;font-family:Menlo,'DejaVu Sans Mono',consolas,'Courier New',monospace\">Creating <span style=\"color: #008080; text-decoration-color: #008080; font-weight: bold\">64</span> and decorrelating environment instances. This may take up to a few minutes.. </pre>\n"
      ],
      "text/plain": [
       "Creating \u001b[1;36m64\u001b[0m and decorrelating environment instances. This may take up to a few minutes.. "
      ]
     },
     "metadata": {},
     "output_type": "display_data"
    },
    {
     "data": {
      "text/html": [
       "<pre style=\"white-space:pre;overflow-x:auto;line-height:normal;font-family:Menlo,'DejaVu Sans Mono',consolas,'Courier New',monospace\">Done.\n",
       "</pre>\n"
      ],
      "text/plain": [
       "Done.\n"
      ]
     },
     "metadata": {},
     "output_type": "display_data"
    }
   ],
   "source": [
    "print(f'Creating', args.parallel_envs, 'and decorrelating environment instances. This may take up to a few minutes.. ', end='')\n",
    "decorr_steps = None\n",
    "if args.env_name == 'gym:Breakout':\n",
    "    decorr_steps = 160 // args.parallel_envs\n",
    "if args.decorr and not args.env_name.startswith('procgen:') and decorr_steps is None:\n",
    "    decorr_steps = old_get_mean_ep_length(args) // args.parallel_envs\n",
    "old_env = old_create_env(args, decorr_steps=decorr_steps)\n",
    "states = old_env.reset()\n",
    "print('Done.')"
   ]
  },
  {
   "cell_type": "code",
   "execution_count": 14,
   "id": "6bfe752b-61bf-4225-aeb9-444752758523",
   "metadata": {},
   "outputs": [],
   "source": [
    "args.use_amp = False\n",
    "args.network_arch = 'impala_large:2'\n",
    "args.spectral_norm = 'all'\n",
    "args.noisy_dqn = True\n",
    "args.noisy_sigma0 = 0.5\n",
    "args.double_dqn = True\n",
    "args.prioritized_er = True\n",
    "args.n_step = 3\n",
    "args.max_grad_norm = 10\n",
    "args.lr = 0.00025\n",
    "args.adam_eps = 0.005/args.batch_size\n",
    "args.lr_decay_steps = None\n",
    "args.loss_fn = 'huber'\n",
    "args.train_count = 2"
   ]
  },
  {
   "cell_type": "code",
   "execution_count": 15,
   "id": "de0e24ea-6e4e-4274-a4d2-e6abd06f7925",
   "metadata": {},
   "outputs": [],
   "source": [
    "rainbow = old_Rainbow(old_env, args)"
   ]
  },
  {
   "cell_type": "code",
   "execution_count": 78,
   "id": "0ced7594-c7d2-435a-86e9-21ca71e4903a",
   "metadata": {},
   "outputs": [
    {
     "name": "stderr",
     "output_type": "stream",
     "text": [
      "  0%|                                                                                           | 0/12 [00:00<?, ?it/s]C:\\Users\\chris\\anaconda3\\envs\\cbp\\lib\\site-packages\\numpy\\core\\fromnumeric.py:3432: RuntimeWarning: Mean of empty slice.\n",
      "  return _methods._mean(a, axis=axis, dtype=dtype,\n",
      "C:\\Users\\chris\\anaconda3\\envs\\cbp\\lib\\site-packages\\numpy\\core\\_methods.py:190: RuntimeWarning: invalid value encountered in double_scalars\n",
      "  ret = ret.dtype.type(ret / rcount)\n"
     ]
    },
    {
     "data": {
      "text/html": [
       "<pre style=\"white-space:pre;overflow-x:auto;line-height:normal;font-family:Menlo,'DejaVu Sans Mono',consolas,'Courier New',monospace\"> <span style=\"font-weight: bold\">[</span>       <span style=\"color: #008080; text-decoration-color: #008080; font-weight: bold\">0</span> frames,     <span style=\"color: #008080; text-decoration-color: #008080; font-weight: bold\">0</span> episodes<span style=\"font-weight: bold\">]</span> running average return = nan\n",
       "</pre>\n"
      ],
      "text/plain": [
       " \u001b[1m[\u001b[0m       \u001b[1;36m0\u001b[0m frames,     \u001b[1;36m0\u001b[0m episodes\u001b[1m]\u001b[0m running average return = nan\n"
      ]
     },
     "metadata": {},
     "output_type": "display_data"
    },
    {
     "name": "stderr",
     "output_type": "stream",
     "text": [
      " [     704 frames,     1 episodes]: 100%|██████████████████████████████████████████████| 12/12 [00:01<00:00,  7.25it/s]\n"
     ]
    }
   ],
   "source": [
    "#transitions = []\n",
    "\n",
    "episode_count = 0\n",
    "returns = deque(maxlen=100)\n",
    "discounted_returns = deque(maxlen=10)\n",
    "losses = deque(maxlen=10)\n",
    "q_values = deque(maxlen=10)\n",
    "grad_norms = deque(maxlen=10)\n",
    "iter_times = deque(maxlen=10)\n",
    "reward_density = 0\n",
    "\n",
    "returns_all = []\n",
    "q_values_all = []\n",
    "\n",
    "t = trange(0, args.training_frames + 1, args.parallel_envs)\n",
    "for game_frame in t:\n",
    "    iter_start = time.time()\n",
    "    eps = eps_schedule(game_frame)\n",
    "    per_beta = per_beta_schedule(game_frame)\n",
    "\n",
    "    # reset the noisy-nets noise in the policy\n",
    "    if args.noisy_dqn:\n",
    "        rainbow.reset_noise(rainbow.q_policy)\n",
    "\n",
    "    # compute actions to take in all parallel envs, asynchronously start environment step\n",
    "    actions = rainbow.act(states, eps)\n",
    "    old_env.step_async(actions)\n",
    "\n",
    "    # if training has started, perform args.train_count training steps, each on a batch of size args.batch_size\n",
    "    if rainbow.buffer.burnedin:\n",
    "        for train_iter in range(args.train_count):\n",
    "            if args.noisy_dqn and train_iter > 0: rainbow.reset_noise(rainbow.q_policy)\n",
    "            q, loss, grad_norm = rainbow.train(args.batch_size, beta=per_beta)\n",
    "            losses.append(loss)\n",
    "            grad_norms.append(grad_norm)\n",
    "            q_values.append(q)\n",
    "            q_values_all.append((game_frame, q))\n",
    "\n",
    "    # copy the Q-policy weights over to the Q-target net\n",
    "    # (see also https://github.com/spragunr/deep_q_rl/blob/master/deep_q_rl/launcher.py#L155)\n",
    "    if game_frame % args.sync_dqn_target_every == 0 and rainbow.buffer.burnedin:\n",
    "        rainbow.sync_Q_target()\n",
    "\n",
    "    # block until environments are ready, then collect transitions and add them to the replay buffer\n",
    "    next_states, rewards, dones, infos = old_env.step_wait()\n",
    "    \n",
    "    #transitions.append((states, actions, rewards, dones))\n",
    "    \n",
    "    for state, action, reward, done, j in zip(states, actions, rewards, dones, range(args.parallel_envs)):\n",
    "        reward_density = 0.999 * reward_density + (1 - 0.999) * (reward != 0)\n",
    "        rainbow.buffer.put(state, action, reward, done, j=j)\n",
    "    states = next_states\n",
    "\n",
    "    # if any of the envs finished an episode, log stats to wandb\n",
    "    for info, j in zip(infos, range(args.parallel_envs)):\n",
    "        if 'episode_metrics' in info.keys():\n",
    "            episode_metrics = info['episode_metrics']\n",
    "            returns.append(episode_metrics['return'])\n",
    "            returns_all.append((game_frame, episode_metrics['return']))\n",
    "            discounted_returns.append(episode_metrics['discounted_return'])\n",
    "\n",
    "            episode_count += 1\n",
    "            \n",
    "    if game_frame % (10_000-(10_000 % args.parallel_envs)) == 0:\n",
    "        print(f' [{game_frame:>8} frames, {episode_count:>5} episodes] running average return = {np.mean(returns)}')\n",
    "        torch.cuda.empty_cache()\n",
    "\n",
    "    iter_times.append(time.time() - iter_start)\n",
    "    t.set_description(f' [{game_frame:>8} frames, {episode_count:>5} episodes]', refresh=False)"
   ]
  },
  {
   "cell_type": "code",
   "execution_count": null,
   "id": "88768f58-b5bf-41db-ae9d-8143e0305ee6",
   "metadata": {},
   "outputs": [],
   "source": []
  },
  {
   "cell_type": "code",
   "execution_count": 79,
   "id": "2cfa0020-cb73-4ca2-810f-cb743949ba78",
   "metadata": {},
   "outputs": [
    {
     "data": {
      "text/plain": [
       "True"
      ]
     },
     "execution_count": 79,
     "metadata": {},
     "output_type": "execute_result"
    }
   ],
   "source": [
    "same_params(rainbow, model)"
   ]
  },
  {
   "cell_type": "code",
   "execution_count": 80,
   "id": "86605944-d38b-45c8-a0c1-693275a6171d",
   "metadata": {},
   "outputs": [
    {
     "data": {
      "text/plain": [
       "True"
      ]
     },
     "execution_count": 80,
     "metadata": {},
     "output_type": "execute_result"
    }
   ],
   "source": [
    "same_buffers(rainbow, model)"
   ]
  },
  {
   "cell_type": "code",
   "execution_count": null,
   "id": "eac44499-358c-4f70-a2a3-493e6992f410",
   "metadata": {},
   "outputs": [],
   "source": []
  },
  {
   "cell_type": "code",
   "execution_count": 25,
   "id": "d4f0d7fd-3a0a-43c1-9787-c7583dd8cbe3",
   "metadata": {},
   "outputs": [
    {
     "data": {
      "text/plain": [
       "tensor([-0.3160,  0.0357,  0.3253, -0.0654,  0.1095, -0.2212,  0.0019, -0.1697,\n",
       "         0.2777,  0.0009, -0.0990,  0.1113,  0.1754,  0.0104, -0.1125,  0.2511,\n",
       "        -0.2908, -0.1716,  0.2703, -0.0557, -0.0961, -0.0856,  0.1631,  0.1496,\n",
       "        -0.0656, -0.1673, -0.1235, -0.0628, -0.3446,  0.0097,  0.0038,  0.2590],\n",
       "       device='cuda:0')"
      ]
     },
     "execution_count": 25,
     "metadata": {},
     "output_type": "execute_result"
    }
   ],
   "source": [
    "model.q_net.features_extractor.main[0].residual_0.conv_0.weight_u"
   ]
  },
  {
   "cell_type": "code",
   "execution_count": 26,
   "id": "7e69d57f-6d1a-47ca-918f-f7e3bfce8f9e",
   "metadata": {},
   "outputs": [
    {
     "data": {
      "text/plain": [
       "tensor([-0.3962, -0.0636,  0.1503, -0.2544,  0.1020, -0.0771,  0.1308, -0.0972,\n",
       "         0.1890,  0.1150, -0.1789,  0.0398, -0.0186,  0.0095, -0.0066,  0.0507,\n",
       "         0.0041,  0.1236,  0.2921,  0.2957, -0.0081,  0.1791,  0.1737,  0.1036,\n",
       "        -0.1971, -0.0676, -0.4756, -0.0704,  0.0238, -0.1666, -0.2429, -0.0118],\n",
       "       device='cuda:0')"
      ]
     },
     "execution_count": 26,
     "metadata": {},
     "output_type": "execute_result"
    }
   ],
   "source": [
    "model.q_net_target.features_extractor.main[0].residual_0.conv_0.weight_u"
   ]
  },
  {
   "cell_type": "code",
   "execution_count": 27,
   "id": "70a9fe99-3a05-431e-bd3c-e444050db892",
   "metadata": {},
   "outputs": [
    {
     "data": {
      "text/plain": [
       "tensor([-0.3160,  0.0357,  0.3253, -0.0654,  0.1095, -0.2212,  0.0019, -0.1697,\n",
       "         0.2777,  0.0009, -0.0990,  0.1113,  0.1754,  0.0104, -0.1125,  0.2511,\n",
       "        -0.2908, -0.1716,  0.2703, -0.0557, -0.0961, -0.0856,  0.1631,  0.1496,\n",
       "        -0.0656, -0.1673, -0.1235, -0.0628, -0.3446,  0.0097,  0.0038,  0.2590],\n",
       "       device='cuda:0')"
      ]
     },
     "execution_count": 27,
     "metadata": {},
     "output_type": "execute_result"
    }
   ],
   "source": [
    "rainbow.q_policy.main[0].residual_0.conv_0.weight_u"
   ]
  },
  {
   "cell_type": "code",
   "execution_count": 28,
   "id": "a13e1362-f7e8-4c29-8b58-483ed2bcac1a",
   "metadata": {},
   "outputs": [
    {
     "data": {
      "text/plain": [
       "tensor([-0.3962, -0.0636,  0.1503, -0.2544,  0.1020, -0.0771,  0.1308, -0.0972,\n",
       "         0.1890,  0.1150, -0.1789,  0.0398, -0.0186,  0.0095, -0.0066,  0.0507,\n",
       "         0.0041,  0.1236,  0.2921,  0.2957, -0.0081,  0.1791,  0.1737,  0.1036,\n",
       "        -0.1971, -0.0676, -0.4756, -0.0704,  0.0238, -0.1666, -0.2429, -0.0118],\n",
       "       device='cuda:0')"
      ]
     },
     "execution_count": 28,
     "metadata": {},
     "output_type": "execute_result"
    }
   ],
   "source": [
    "rainbow.q_target.main[0].residual_0.conv_0.weight_u"
   ]
  },
  {
   "cell_type": "code",
   "execution_count": null,
   "id": "f741cc36-6fe9-402e-a21a-c1add362f140",
   "metadata": {},
   "outputs": [],
   "source": []
  },
  {
   "cell_type": "code",
   "execution_count": null,
   "id": "ecdddc63-f8a5-4438-bd70-bf06b4ad6329",
   "metadata": {},
   "outputs": [],
   "source": []
  },
  {
   "cell_type": "code",
   "execution_count": null,
   "id": "1e27f4e2-7e9b-4279-8de2-07d3a2d74d23",
   "metadata": {},
   "outputs": [],
   "source": []
  },
  {
   "cell_type": "code",
   "execution_count": 25,
   "id": "5b32ec4d-41dc-430f-8d58-7b761319cb46",
   "metadata": {},
   "outputs": [
    {
     "ename": "NameError",
     "evalue": "name 'ysdssw' is not defined",
     "output_type": "error",
     "traceback": [
      "\u001b[1;31m---------------------------------------------------------------------------\u001b[0m",
      "\u001b[1;31mNameError\u001b[0m                                 Traceback (most recent call last)",
      "Cell \u001b[1;32mIn[25], line 1\u001b[0m\n\u001b[1;32m----> 1\u001b[0m \u001b[43mysdssw\u001b[49m\n",
      "\u001b[1;31mNameError\u001b[0m: name 'ysdssw' is not defined"
     ]
    }
   ],
   "source": [
    "ysdssw"
   ]
  },
  {
   "cell_type": "code",
   "execution_count": null,
   "id": "89f8bc2b-9947-49d5-ba98-b04c7c76f8ba",
   "metadata": {},
   "outputs": [],
   "source": []
  },
  {
   "cell_type": "code",
   "execution_count": null,
   "id": "ccdba1fc-0c2e-490f-af46-3d590d743f1f",
   "metadata": {},
   "outputs": [],
   "source": [
    "sync_norm_buffers(rainbow, model)\n",
    "\n",
    "# reset noise as it changes during transition genration\n",
    "\n",
    "random.seed(args.seed)\n",
    "np.random.seed(args.seed)\n",
    "torch.manual_seed(args.seed)\n",
    "\n",
    "rainbow.reset_noise(rainbow.q_policy)\n",
    "rainbow.sync_Q_target()\n",
    "\n",
    "random.seed(args.seed)\n",
    "np.random.seed(args.seed)\n",
    "torch.manual_seed(args.seed)\n",
    "\n",
    "reset_noise(model.q_net)\n",
    "print(model.q_net_target.load_state_dict(model.q_net.state_dict()))\n",
    "\n",
    "same_buffers(rainbow, model)"
   ]
  },
  {
   "cell_type": "code",
   "execution_count": null,
   "id": "d73e6b35-f33c-4e51-93ec-a376cfc7956d",
   "metadata": {},
   "outputs": [],
   "source": [
    "# add all transitions to the buffer\n",
    "\n",
    "for states, actions, rewards, dones in transitions:\n",
    "    model.replay_buffer.add(states, None, actions, rewards, dones, None)"
   ]
  },
  {
   "cell_type": "code",
   "execution_count": 27,
   "id": "79313e09-eb39-41ea-81eb-321523bfcbd5",
   "metadata": {},
   "outputs": [
    {
     "data": {
      "text/plain": [
       "True"
      ]
     },
     "execution_count": 27,
     "metadata": {},
     "output_type": "execute_result"
    }
   ],
   "source": [
    "model.replay_buffer.size() == rainbow.buffer.size"
   ]
  },
  {
   "cell_type": "code",
   "execution_count": 28,
   "id": "6c0356ff-973a-45e2-a9f2-ca3d698c2398",
   "metadata": {},
   "outputs": [
    {
     "data": {
      "text/plain": [
       "True"
      ]
     },
     "execution_count": 28,
     "metadata": {},
     "output_type": "execute_result"
    }
   ],
   "source": [
    "model.replay_buffer._sum() == rainbow.buffer._sum()"
   ]
  },
  {
   "cell_type": "code",
   "execution_count": null,
   "id": "f10a0ebe-4938-4045-9651-6b44a0cc38f4",
   "metadata": {},
   "outputs": [],
   "source": [
    "model._game_frame = game_frame\n",
    "model.num_timesteps = model._game_frame\n",
    "model._total_timesteps = args.training_frames\n",
    "\n",
    "model._update_current_progress_remaining(model.num_timesteps, model._total_timesteps)\n",
    "model.exploration_rate = model.exploration_schedule(model._current_progress_remaining)\n",
    "model.per_beta = model.per_beta_schedule(model._current_progress_remaining)"
   ]
  },
  {
   "cell_type": "code",
   "execution_count": 25,
   "id": "4d8f8433-63ee-4c67-a3d8-ba024843ab99",
   "metadata": {},
   "outputs": [
    {
     "data": {
      "text/plain": [
       "True"
      ]
     },
     "execution_count": 25,
     "metadata": {},
     "output_type": "execute_result"
    }
   ],
   "source": [
    "model.exploration_rate == eps"
   ]
  },
  {
   "cell_type": "code",
   "execution_count": 26,
   "id": "5e30ec01-682a-42e9-98d6-7964cfb30dab",
   "metadata": {},
   "outputs": [
    {
     "data": {
      "text/plain": [
       "True"
      ]
     },
     "execution_count": 26,
     "metadata": {},
     "output_type": "execute_result"
    }
   ],
   "source": [
    "model.per_beta == per_beta"
   ]
  },
  {
   "cell_type": "code",
   "execution_count": null,
   "id": "ea5717d4-e743-460f-a2ee-2ccf1a2b772a",
   "metadata": {},
   "outputs": [],
   "source": []
  },
  {
   "cell_type": "code",
   "execution_count": null,
   "id": "61713e65-f5b6-473b-a680-5dedc76897a1",
   "metadata": {},
   "outputs": [],
   "source": []
  },
  {
   "cell_type": "code",
   "execution_count": null,
   "id": "494da44b-5ab0-41d0-90ea-b6036a04e22a",
   "metadata": {},
   "outputs": [],
   "source": []
  },
  {
   "cell_type": "code",
   "execution_count": null,
   "id": "7a92661a-3336-4bf9-9907-eb28fb97da1a",
   "metadata": {},
   "outputs": [],
   "source": []
  },
  {
   "cell_type": "code",
   "execution_count": null,
   "id": "0c7963d2-9ec0-49c5-8897-a8ee5645c9b9",
   "metadata": {},
   "outputs": [],
   "source": []
  },
  {
   "cell_type": "code",
   "execution_count": 23,
   "id": "aa382d28-ff5c-4cc2-b9b6-7e659ce6b81f",
   "metadata": {},
   "outputs": [],
   "source": [
    "random.seed(args.seed)\n",
    "np.random.seed(args.seed)\n",
    "torch.manual_seed(args.seed)\n",
    "\n",
    "samps = rainbow.buffer.sample(args.batch_size, per_beta)\n",
    "samps = rainbow.buffer.sample(args.batch_size, per_beta)"
   ]
  },
  {
   "cell_type": "code",
   "execution_count": 24,
   "id": "ba42e3ea-ec43-4d6a-888e-dff961366460",
   "metadata": {},
   "outputs": [],
   "source": [
    "random.seed(args.seed)\n",
    "np.random.seed(args.seed)\n",
    "torch.manual_seed(args.seed)\n",
    "\n",
    "samples = model.replay_buffer.sample(args.batch_size, per_beta, env=model._vec_normalize_env)\n",
    "samples = model.replay_buffer.sample(args.batch_size, per_beta, env=model._vec_normalize_env)"
   ]
  },
  {
   "cell_type": "code",
   "execution_count": 27,
   "id": "16204eb6-a3ad-45fd-a7a9-a10787d88fb5",
   "metadata": {},
   "outputs": [
    {
     "data": {
      "text/plain": [
       "3"
      ]
     },
     "execution_count": 27,
     "metadata": {},
     "output_type": "execute_result"
    }
   ],
   "source": [
    "len(samps)"
   ]
  },
  {
   "cell_type": "code",
   "execution_count": 28,
   "id": "fcefe5f3-1264-433e-9b5a-0160a2456ddf",
   "metadata": {},
   "outputs": [
    {
     "data": {
      "text/plain": [
       "3"
      ]
     },
     "execution_count": 28,
     "metadata": {},
     "output_type": "execute_result"
    }
   ],
   "source": [
    "len(samples)"
   ]
  },
  {
   "cell_type": "code",
   "execution_count": 29,
   "id": "0d533603-142b-49ce-9470-76b3752f564a",
   "metadata": {},
   "outputs": [
    {
     "data": {
      "text/plain": [
       "True"
      ]
     },
     "execution_count": 29,
     "metadata": {},
     "output_type": "execute_result"
    }
   ],
   "source": [
    "(samps[0] == samples[0]).all()"
   ]
  },
  {
   "cell_type": "code",
   "execution_count": 30,
   "id": "8a73f18d-54c8-49e4-92d2-62eef339b60c",
   "metadata": {},
   "outputs": [
    {
     "data": {
      "text/plain": [
       "True"
      ]
     },
     "execution_count": 30,
     "metadata": {},
     "output_type": "execute_result"
    }
   ],
   "source": [
    "(samps[1] == samples[1]).all()"
   ]
  },
  {
   "cell_type": "code",
   "execution_count": 31,
   "id": "63aca91c-ce70-4fc5-aa63-4a65108fbd4f",
   "metadata": {},
   "outputs": [
    {
     "data": {
      "text/plain": [
       "5"
      ]
     },
     "execution_count": 31,
     "metadata": {},
     "output_type": "execute_result"
    }
   ],
   "source": [
    "len(samps[2])"
   ]
  },
  {
   "cell_type": "code",
   "execution_count": 32,
   "id": "2b148ae3-f49c-4844-bc16-dd31a325adf4",
   "metadata": {},
   "outputs": [
    {
     "data": {
      "text/html": [
       "<pre style=\"white-space:pre;overflow-x:auto;line-height:normal;font-family:Menlo,'DejaVu Sans Mono',consolas,'Courier New',monospace\"><span style=\"color: #800080; text-decoration-color: #800080; font-weight: bold\">torch.Size</span><span style=\"font-weight: bold\">([</span><span style=\"color: #008080; text-decoration-color: #008080; font-weight: bold\">256</span>, <span style=\"color: #008080; text-decoration-color: #008080; font-weight: bold\">4</span>, <span style=\"color: #008080; text-decoration-color: #008080; font-weight: bold\">84</span>, <span style=\"color: #008080; text-decoration-color: #008080; font-weight: bold\">84</span><span style=\"font-weight: bold\">])</span>\n",
       "<span style=\"color: #800080; text-decoration-color: #800080; font-weight: bold\">torch.Size</span><span style=\"font-weight: bold\">([</span><span style=\"color: #008080; text-decoration-color: #008080; font-weight: bold\">256</span>, <span style=\"color: #008080; text-decoration-color: #008080; font-weight: bold\">4</span>, <span style=\"color: #008080; text-decoration-color: #008080; font-weight: bold\">84</span>, <span style=\"color: #008080; text-decoration-color: #008080; font-weight: bold\">84</span><span style=\"font-weight: bold\">])</span>\n",
       "</pre>\n"
      ],
      "text/plain": [
       "\u001b[1;35mtorch.Size\u001b[0m\u001b[1m(\u001b[0m\u001b[1m[\u001b[0m\u001b[1;36m256\u001b[0m, \u001b[1;36m4\u001b[0m, \u001b[1;36m84\u001b[0m, \u001b[1;36m84\u001b[0m\u001b[1m]\u001b[0m\u001b[1m)\u001b[0m\n",
       "\u001b[1;35mtorch.Size\u001b[0m\u001b[1m(\u001b[0m\u001b[1m[\u001b[0m\u001b[1;36m256\u001b[0m, \u001b[1;36m4\u001b[0m, \u001b[1;36m84\u001b[0m, \u001b[1;36m84\u001b[0m\u001b[1m]\u001b[0m\u001b[1m)\u001b[0m\n"
      ]
     },
     "metadata": {},
     "output_type": "display_data"
    },
    {
     "data": {
      "text/html": [
       "<pre style=\"white-space:pre;overflow-x:auto;line-height:normal;font-family:Menlo,'DejaVu Sans Mono',consolas,'Courier New',monospace\"><span style=\"color: #800080; text-decoration-color: #800080; font-weight: bold\">torch.Size</span><span style=\"font-weight: bold\">([</span><span style=\"color: #008080; text-decoration-color: #008080; font-weight: bold\">256</span>, <span style=\"color: #008080; text-decoration-color: #008080; font-weight: bold\">4</span>, <span style=\"color: #008080; text-decoration-color: #008080; font-weight: bold\">84</span>, <span style=\"color: #008080; text-decoration-color: #008080; font-weight: bold\">84</span><span style=\"font-weight: bold\">])</span>\n",
       "<span style=\"color: #800080; text-decoration-color: #800080; font-weight: bold\">torch.Size</span><span style=\"font-weight: bold\">([</span><span style=\"color: #008080; text-decoration-color: #008080; font-weight: bold\">256</span>, <span style=\"color: #008080; text-decoration-color: #008080; font-weight: bold\">1</span><span style=\"font-weight: bold\">])</span>\n",
       "</pre>\n"
      ],
      "text/plain": [
       "\u001b[1;35mtorch.Size\u001b[0m\u001b[1m(\u001b[0m\u001b[1m[\u001b[0m\u001b[1;36m256\u001b[0m, \u001b[1;36m4\u001b[0m, \u001b[1;36m84\u001b[0m, \u001b[1;36m84\u001b[0m\u001b[1m]\u001b[0m\u001b[1m)\u001b[0m\n",
       "\u001b[1;35mtorch.Size\u001b[0m\u001b[1m(\u001b[0m\u001b[1m[\u001b[0m\u001b[1;36m256\u001b[0m, \u001b[1;36m1\u001b[0m\u001b[1m]\u001b[0m\u001b[1m)\u001b[0m\n"
      ]
     },
     "metadata": {},
     "output_type": "display_data"
    },
    {
     "data": {
      "text/html": [
       "<pre style=\"white-space:pre;overflow-x:auto;line-height:normal;font-family:Menlo,'DejaVu Sans Mono',consolas,'Courier New',monospace\"><span style=\"color: #800080; text-decoration-color: #800080; font-weight: bold\">torch.Size</span><span style=\"font-weight: bold\">([</span><span style=\"color: #008080; text-decoration-color: #008080; font-weight: bold\">256</span><span style=\"font-weight: bold\">])</span>\n",
       "<span style=\"color: #800080; text-decoration-color: #800080; font-weight: bold\">torch.Size</span><span style=\"font-weight: bold\">([</span><span style=\"color: #008080; text-decoration-color: #008080; font-weight: bold\">256</span>, <span style=\"color: #008080; text-decoration-color: #008080; font-weight: bold\">4</span>, <span style=\"color: #008080; text-decoration-color: #008080; font-weight: bold\">84</span>, <span style=\"color: #008080; text-decoration-color: #008080; font-weight: bold\">84</span><span style=\"font-weight: bold\">])</span>\n",
       "</pre>\n"
      ],
      "text/plain": [
       "\u001b[1;35mtorch.Size\u001b[0m\u001b[1m(\u001b[0m\u001b[1m[\u001b[0m\u001b[1;36m256\u001b[0m\u001b[1m]\u001b[0m\u001b[1m)\u001b[0m\n",
       "\u001b[1;35mtorch.Size\u001b[0m\u001b[1m(\u001b[0m\u001b[1m[\u001b[0m\u001b[1;36m256\u001b[0m, \u001b[1;36m4\u001b[0m, \u001b[1;36m84\u001b[0m, \u001b[1;36m84\u001b[0m\u001b[1m]\u001b[0m\u001b[1m)\u001b[0m\n"
      ]
     },
     "metadata": {},
     "output_type": "display_data"
    },
    {
     "data": {
      "text/html": [
       "<pre style=\"white-space:pre;overflow-x:auto;line-height:normal;font-family:Menlo,'DejaVu Sans Mono',consolas,'Courier New',monospace\"><span style=\"color: #800080; text-decoration-color: #800080; font-weight: bold\">torch.Size</span><span style=\"font-weight: bold\">([</span><span style=\"color: #008080; text-decoration-color: #008080; font-weight: bold\">256</span><span style=\"font-weight: bold\">])</span>\n",
       "<span style=\"color: #800080; text-decoration-color: #800080; font-weight: bold\">torch.Size</span><span style=\"font-weight: bold\">([</span><span style=\"color: #008080; text-decoration-color: #008080; font-weight: bold\">256</span>, <span style=\"color: #008080; text-decoration-color: #008080; font-weight: bold\">1</span><span style=\"font-weight: bold\">])</span>\n",
       "</pre>\n"
      ],
      "text/plain": [
       "\u001b[1;35mtorch.Size\u001b[0m\u001b[1m(\u001b[0m\u001b[1m[\u001b[0m\u001b[1;36m256\u001b[0m\u001b[1m]\u001b[0m\u001b[1m)\u001b[0m\n",
       "\u001b[1;35mtorch.Size\u001b[0m\u001b[1m(\u001b[0m\u001b[1m[\u001b[0m\u001b[1;36m256\u001b[0m, \u001b[1;36m1\u001b[0m\u001b[1m]\u001b[0m\u001b[1m)\u001b[0m\n"
      ]
     },
     "metadata": {},
     "output_type": "display_data"
    },
    {
     "data": {
      "text/html": [
       "<pre style=\"white-space:pre;overflow-x:auto;line-height:normal;font-family:Menlo,'DejaVu Sans Mono',consolas,'Courier New',monospace\"><span style=\"color: #800080; text-decoration-color: #800080; font-weight: bold\">torch.Size</span><span style=\"font-weight: bold\">([</span><span style=\"color: #008080; text-decoration-color: #008080; font-weight: bold\">256</span><span style=\"font-weight: bold\">])</span>\n",
       "<span style=\"color: #800080; text-decoration-color: #800080; font-weight: bold\">torch.Size</span><span style=\"font-weight: bold\">([</span><span style=\"color: #008080; text-decoration-color: #008080; font-weight: bold\">256</span>, <span style=\"color: #008080; text-decoration-color: #008080; font-weight: bold\">1</span><span style=\"font-weight: bold\">])</span>\n",
       "</pre>\n"
      ],
      "text/plain": [
       "\u001b[1;35mtorch.Size\u001b[0m\u001b[1m(\u001b[0m\u001b[1m[\u001b[0m\u001b[1;36m256\u001b[0m\u001b[1m]\u001b[0m\u001b[1m)\u001b[0m\n",
       "\u001b[1;35mtorch.Size\u001b[0m\u001b[1m(\u001b[0m\u001b[1m[\u001b[0m\u001b[1;36m256\u001b[0m, \u001b[1;36m1\u001b[0m\u001b[1m]\u001b[0m\u001b[1m)\u001b[0m\n"
      ]
     },
     "metadata": {},
     "output_type": "display_data"
    }
   ],
   "source": [
    "for a, b in zip(samps[2], samples[2]):\n",
    "    print(a.shape, b.shape)"
   ]
  },
  {
   "cell_type": "code",
   "execution_count": 33,
   "id": "6ea23a39-479c-4c0a-a148-fad8468c7cd3",
   "metadata": {},
   "outputs": [
    {
     "data": {
      "text/plain": [
       "tensor(True, device='cuda:0')"
      ]
     },
     "execution_count": 33,
     "metadata": {},
     "output_type": "execute_result"
    }
   ],
   "source": [
    "(samps[2][0] == samples[2][0]).all()"
   ]
  },
  {
   "cell_type": "code",
   "execution_count": 34,
   "id": "ac08eaaf-5dbf-4449-a6d8-f00e167a7930",
   "metadata": {},
   "outputs": [
    {
     "data": {
      "text/plain": [
       "tensor(True, device='cuda:0')"
      ]
     },
     "execution_count": 34,
     "metadata": {},
     "output_type": "execute_result"
    }
   ],
   "source": [
    "(samps[2][1] == samples[2][2]).all()"
   ]
  },
  {
   "cell_type": "code",
   "execution_count": 35,
   "id": "49318bde-8b92-4660-822c-25c32820993c",
   "metadata": {},
   "outputs": [
    {
     "data": {
      "text/plain": [
       "tensor(True, device='cuda:0')"
      ]
     },
     "execution_count": 35,
     "metadata": {},
     "output_type": "execute_result"
    }
   ],
   "source": [
    "(samps[2][2] == samples[2][1].squeeze()).all()"
   ]
  },
  {
   "cell_type": "code",
   "execution_count": 36,
   "id": "4b7272f4-a868-4420-ad54-0cd1bd757ebc",
   "metadata": {},
   "outputs": [
    {
     "data": {
      "text/plain": [
       "tensor(True, device='cuda:0')"
      ]
     },
     "execution_count": 36,
     "metadata": {},
     "output_type": "execute_result"
    }
   ],
   "source": [
    "(samps[2][3] == samples[2][4].squeeze()).all()"
   ]
  },
  {
   "cell_type": "code",
   "execution_count": 37,
   "id": "3c72e5bd-64f4-4a50-85e9-f610505fe87e",
   "metadata": {},
   "outputs": [
    {
     "data": {
      "text/plain": [
       "tensor(True, device='cuda:0')"
      ]
     },
     "execution_count": 37,
     "metadata": {},
     "output_type": "execute_result"
    }
   ],
   "source": [
    "(samps[2][4] == samples[2][3].squeeze()).all()"
   ]
  },
  {
   "cell_type": "code",
   "execution_count": null,
   "id": "929815f1-0aba-47f6-bbd5-66e266b2735d",
   "metadata": {},
   "outputs": [],
   "source": []
  },
  {
   "cell_type": "code",
   "execution_count": 25,
   "id": "9419aff4-0e3b-4d51-865c-4054282d0da1",
   "metadata": {},
   "outputs": [],
   "source": [
    "pres = rainbow.q_policy(samps[2][0])"
   ]
  },
  {
   "cell_type": "code",
   "execution_count": 26,
   "id": "61c77b4a-763a-405e-815b-c3e0e42353ed",
   "metadata": {},
   "outputs": [],
   "source": [
    "preds = model.q_net(samples[2].observations)"
   ]
  },
  {
   "cell_type": "code",
   "execution_count": 27,
   "id": "9d2943f3-010d-40dc-b0a0-f899a941fa68",
   "metadata": {},
   "outputs": [
    {
     "data": {
      "text/plain": [
       "tensor(True, device='cuda:0')"
      ]
     },
     "execution_count": 27,
     "metadata": {},
     "output_type": "execute_result"
    }
   ],
   "source": [
    "(pres == preds).all()"
   ]
  },
  {
   "cell_type": "code",
   "execution_count": null,
   "id": "ad9c5e26-ac8b-4d1d-a45e-bef14eba29e2",
   "metadata": {},
   "outputs": [],
   "source": []
  },
  {
   "cell_type": "code",
   "execution_count": 41,
   "id": "0e746ac4-b560-4454-9f6f-f87c43c33b13",
   "metadata": {},
   "outputs": [
    {
     "data": {
      "text/plain": [
       "True"
      ]
     },
     "execution_count": 41,
     "metadata": {},
     "output_type": "execute_result"
    }
   ],
   "source": [
    "rainbow.q_policy.training"
   ]
  },
  {
   "cell_type": "code",
   "execution_count": null,
   "id": "2b6af4b3-b475-4964-8b4c-b8c40c7b7b80",
   "metadata": {},
   "outputs": [],
   "source": []
  },
  {
   "cell_type": "code",
   "execution_count": 3,
   "id": "f5ee5e76-6dd6-41f5-a6af-00565249c2de",
   "metadata": {},
   "outputs": [],
   "source": [
    "import numpy as np"
   ]
  },
  {
   "cell_type": "code",
   "execution_count": 8,
   "id": "f7fe846b-aaa6-4c9e-a3d0-41ad5138ed1f",
   "metadata": {},
   "outputs": [],
   "source": [
    "a = np.full(10, None)"
   ]
  },
  {
   "cell_type": "code",
   "execution_count": 9,
   "id": "e46da59f-3c21-4e83-adfe-dfd9cc78db57",
   "metadata": {},
   "outputs": [
    {
     "data": {
      "text/plain": [
       "array([None, None, None, None, None, None, None, None, None, None],\n",
       "      dtype=object)"
      ]
     },
     "execution_count": 9,
     "metadata": {},
     "output_type": "execute_result"
    }
   ],
   "source": [
    "a"
   ]
  },
  {
   "cell_type": "code",
   "execution_count": 10,
   "id": "65b41cc5-1179-4d27-8086-b4fbe1c392bc",
   "metadata": {},
   "outputs": [],
   "source": [
    "a[1] = np.random.randn(3, 3)"
   ]
  },
  {
   "cell_type": "code",
   "execution_count": 11,
   "id": "a46db987-aaa4-4078-a48a-28c8804693d1",
   "metadata": {},
   "outputs": [],
   "source": [
    "a[3] = np.random.randn(3, 3)"
   ]
  },
  {
   "cell_type": "code",
   "execution_count": 12,
   "id": "0d02ec52-cb9b-4809-a8a7-d48c29a71353",
   "metadata": {},
   "outputs": [],
   "source": [
    "a[4] = np.random.randn(3, 3)"
   ]
  },
  {
   "cell_type": "code",
   "execution_count": null,
   "id": "71cb565a-d92c-4c88-a80f-a78c7fcde220",
   "metadata": {},
   "outputs": [],
   "source": [
    "def get_arrays(x):\n",
    "    return "
   ]
  },
  {
   "cell_type": "code",
   "execution_count": 25,
   "id": "ffaca709-e11d-4858-bc51-0a5c73f6088e",
   "metadata": {},
   "outputs": [],
   "source": [
    "import torch"
   ]
  },
  {
   "cell_type": "code",
   "execution_count": null,
   "id": "305576cd-c700-48fc-8146-b9e1b2bfe3ce",
   "metadata": {},
   "outputs": [],
   "source": [
    "torch.stack()"
   ]
  },
  {
   "cell_type": "code",
   "execution_count": 54,
   "id": "ea7af983-8118-46ac-a6ba-0a25e67c1d53",
   "metadata": {},
   "outputs": [
    {
     "data": {
      "text/plain": [
       "array([[[-2.26861735,  0.03342497, -0.25643305],\n",
       "        [-0.48733942, -0.54318875, -0.06592383],\n",
       "        [-0.34461205, -0.46507621,  0.2386487 ]],\n",
       "\n",
       "       [[ 0.39604212, -1.18159655,  0.58223131],\n",
       "        [ 1.30900018, -1.35385212, -0.09264297],\n",
       "        [-0.80046118,  1.35699888, -1.34499777]],\n",
       "\n",
       "       [[ 0.85492775, -1.15575657, -2.68788771],\n",
       "        [-0.49871643, -0.28261214, -1.16439925],\n",
       "        [ 1.51580178,  0.52357223, -0.85979991]]])"
      ]
     },
     "execution_count": 54,
     "metadata": {},
     "output_type": "execute_result"
    }
   ],
   "source": [
    "np.stack(a[[1, 3, 4]])"
   ]
  },
  {
   "cell_type": "code",
   "execution_count": 28,
   "id": "3dd1bc7f-10e1-47c1-a97c-65b3d1f69ba4",
   "metadata": {},
   "outputs": [],
   "source": [
    "temp_np = np.random.randn(10000)\n",
    "list_temp_np = [temp_np for _ in range(10000)]"
   ]
  },
  {
   "cell_type": "code",
   "execution_count": 33,
   "id": "84ae38a7-6bb5-4f46-85b4-24a957259c9c",
   "metadata": {},
   "outputs": [
    {
     "name": "stdout",
     "output_type": "stream",
     "text": [
      "208 ms ± 17.5 ms per loop (mean ± std. dev. of 7 runs, 1 loop each)\n"
     ]
    }
   ],
   "source": [
    "%timeit torch.stack([torch.from_numpy(l) for l in list_temp_np])"
   ]
  },
  {
   "cell_type": "code",
   "execution_count": 34,
   "id": "a373052e-770e-4c34-80b5-62886f7a4ffe",
   "metadata": {},
   "outputs": [
    {
     "name": "stdout",
     "output_type": "stream",
     "text": [
      "189 ms ± 6.46 ms per loop (mean ± std. dev. of 7 runs, 10 loops each)\n"
     ]
    }
   ],
   "source": [
    "%timeit torch.from_numpy(np.stack(list_temp_np))"
   ]
  },
  {
   "cell_type": "code",
   "execution_count": 35,
   "id": "ce416ef2-68a8-476f-ac30-9edbefaa9609",
   "metadata": {},
   "outputs": [],
   "source": [
    "j = torch.stack([torch.from_numpy(l) for l in list_temp_np])"
   ]
  },
  {
   "cell_type": "code",
   "execution_count": 55,
   "id": "1e23345f-d89e-422e-af49-62fc1a91ed95",
   "metadata": {},
   "outputs": [],
   "source": [
    "k = torch.from_numpy(np.stack(a[[1, 3, 4]]))"
   ]
  },
  {
   "cell_type": "code",
   "execution_count": 46,
   "id": "b9e731dd-4e3e-4b13-a28a-6e06a935cecc",
   "metadata": {},
   "outputs": [
    {
     "data": {
      "text/plain": [
       "tensor(False)"
      ]
     },
     "execution_count": 46,
     "metadata": {},
     "output_type": "execute_result"
    }
   ],
   "source": [
    "(j == k).all()"
   ]
  },
  {
   "cell_type": "code",
   "execution_count": 50,
   "id": "75fbe763-634d-45c7-a471-64592c931f76",
   "metadata": {},
   "outputs": [],
   "source": [
    "k[0,0] += 1"
   ]
  },
  {
   "cell_type": "code",
   "execution_count": 51,
   "id": "034e2681-fefe-472d-90eb-35eeb3753ccf",
   "metadata": {},
   "outputs": [
    {
     "data": {
      "text/plain": [
       "tensor([[ 1.2796,  1.2687,  0.4557,  ..., -0.5271, -0.3413,  0.6196],\n",
       "        [ 0.2796,  1.2687,  0.4557,  ..., -0.5271, -0.3413,  0.6196],\n",
       "        [ 0.2796,  1.2687,  0.4557,  ..., -0.5271, -0.3413,  0.6196],\n",
       "        ...,\n",
       "        [ 0.2796,  1.2687,  0.4557,  ..., -0.5271, -0.3413,  0.6196],\n",
       "        [ 0.2796,  1.2687,  0.4557,  ..., -0.5271, -0.3413,  0.6196],\n",
       "        [ 0.2796,  1.2687,  0.4557,  ..., -0.5271, -0.3413,  0.6196]],\n",
       "       dtype=torch.float64)"
      ]
     },
     "execution_count": 51,
     "metadata": {},
     "output_type": "execute_result"
    }
   ],
   "source": [
    "j"
   ]
  },
  {
   "cell_type": "code",
   "execution_count": 56,
   "id": "55079e65-46be-446b-ba95-b1194a3ad3de",
   "metadata": {},
   "outputs": [
    {
     "data": {
      "text/plain": [
       "tensor([[[-2.2686,  0.0334, -0.2564],\n",
       "         [-0.4873, -0.5432, -0.0659],\n",
       "         [-0.3446, -0.4651,  0.2386]],\n",
       "\n",
       "        [[ 0.3960, -1.1816,  0.5822],\n",
       "         [ 1.3090, -1.3539, -0.0926],\n",
       "         [-0.8005,  1.3570, -1.3450]],\n",
       "\n",
       "        [[ 0.8549, -1.1558, -2.6879],\n",
       "         [-0.4987, -0.2826, -1.1644],\n",
       "         [ 1.5158,  0.5236, -0.8598]]], dtype=torch.float64)"
      ]
     },
     "execution_count": 56,
     "metadata": {},
     "output_type": "execute_result"
    }
   ],
   "source": [
    "k"
   ]
  },
  {
   "cell_type": "code",
   "execution_count": 53,
   "id": "30a57e84-fa1e-41fd-a79f-e1f5a6c69abc",
   "metadata": {},
   "outputs": [
    {
     "data": {
      "text/plain": [
       "[array([ 0.2796441 ,  1.2687103 ,  0.45571017, ..., -0.52710646,\n",
       "        -0.3413414 ,  0.61959864]),\n",
       " array([ 0.2796441 ,  1.2687103 ,  0.45571017, ..., -0.52710646,\n",
       "        -0.3413414 ,  0.61959864]),\n",
       " array([ 0.2796441 ,  1.2687103 ,  0.45571017, ..., -0.52710646,\n",
       "        -0.3413414 ,  0.61959864])]"
      ]
     },
     "execution_count": 53,
     "metadata": {},
     "output_type": "execute_result"
    }
   ],
   "source": [
    "list_temp_np[:3]"
   ]
  },
  {
   "cell_type": "code",
   "execution_count": null,
   "id": "5b1a1627-c766-4592-ae20-28b3bae394b7",
   "metadata": {},
   "outputs": [],
   "source": []
  },
  {
   "cell_type": "code",
   "execution_count": 45,
   "id": "d0de9519-9d11-4be3-b8d1-ec461e406373",
   "metadata": {},
   "outputs": [
    {
     "name": "stdout",
     "output_type": "stream",
     "text": [
      "tensor(746709., device='cuda:0', grad_fn=<SumBackward0>)\n",
      "tensor(250476.9688, device='cuda:0', grad_fn=<SumBackward0>)\n",
      "tensor(841444.4375, device='cuda:0', grad_fn=<SumBackward0>)\n",
      "tensor(-193947.7500, device='cuda:0', grad_fn=<SumBackward0>)\n",
      "tensor(275521.9375, device='cuda:0', grad_fn=<SumBackward0>)\n",
      "tensor(119160.1172, device='cuda:0', grad_fn=<SumBackward0>)\n",
      "tensor(336543.1250, device='cuda:0', grad_fn=<SumBackward0>)\n",
      "tensor(8973.5264, device='cuda:0', grad_fn=<SumBackward0>)\n",
      "tensor(60527.5430, device='cuda:0', grad_fn=<SumBackward0>)\n",
      "tensor(-1717.0886, device='cuda:0', grad_fn=<SumBackward0>)\n",
      "tensor(72680.1641, device='cuda:0', grad_fn=<SumBackward0>)\n",
      "tensor(33962.7812, device='cuda:0', grad_fn=<SumBackward0>)\n"
     ]
    }
   ],
   "source": [
    "pres = rainbow.q_target(samps[2][0])"
   ]
  },
  {
   "cell_type": "code",
   "execution_count": 46,
   "id": "0c7daed4-976b-40b0-a907-8ec42860f749",
   "metadata": {},
   "outputs": [
    {
     "name": "stdout",
     "output_type": "stream",
     "text": [
      "tensor(746709., device='cuda:0', grad_fn=<SumBackward0>)\n",
      "tensor(250476.9688, device='cuda:0', grad_fn=<SumBackward0>)\n",
      "tensor(841444.4375, device='cuda:0', grad_fn=<SumBackward0>)\n",
      "tensor(-193947.7500, device='cuda:0', grad_fn=<SumBackward0>)\n",
      "tensor(275521.9375, device='cuda:0', grad_fn=<SumBackward0>)\n",
      "tensor(119160.1172, device='cuda:0', grad_fn=<SumBackward0>)\n",
      "tensor(336543.1250, device='cuda:0', grad_fn=<SumBackward0>)\n",
      "tensor(8973.5264, device='cuda:0', grad_fn=<SumBackward0>)\n",
      "tensor(60527.5430, device='cuda:0', grad_fn=<SumBackward0>)\n",
      "tensor(-1717.0886, device='cuda:0', grad_fn=<SumBackward0>)\n",
      "tensor(72680.1641, device='cuda:0', grad_fn=<SumBackward0>)\n",
      "tensor(33962.7812, device='cuda:0', grad_fn=<SumBackward0>)\n"
     ]
    }
   ],
   "source": [
    "preds = model.q_net_target(samples[2].observations)"
   ]
  },
  {
   "cell_type": "code",
   "execution_count": 47,
   "id": "d3bb0b80-fa3f-4d63-884b-2e214c78cd8b",
   "metadata": {},
   "outputs": [
    {
     "data": {
      "text/plain": [
       "tensor(True, device='cuda:0')"
      ]
     },
     "execution_count": 47,
     "metadata": {},
     "output_type": "execute_result"
    }
   ],
   "source": [
    "(pres == preds).all()"
   ]
  },
  {
   "cell_type": "code",
   "execution_count": null,
   "id": "5c83cc80-3d1a-4084-9b14-37b452990024",
   "metadata": {},
   "outputs": [],
   "source": []
  },
  {
   "cell_type": "code",
   "execution_count": 33,
   "id": "3f1e4bb7-4604-449a-b341-2c89739da599",
   "metadata": {},
   "outputs": [
    {
     "data": {
      "text/plain": [
       "(True, True)"
      ]
     },
     "execution_count": 33,
     "metadata": {},
     "output_type": "execute_result"
    }
   ],
   "source": [
    "same_params(rainbow, model), same_buffers(rainbow, model)"
   ]
  },
  {
   "cell_type": "code",
   "execution_count": 36,
   "id": "171a349a-a442-4119-806d-43d600856dbd",
   "metadata": {},
   "outputs": [
    {
     "data": {
      "text/plain": [
       "False"
      ]
     },
     "execution_count": 36,
     "metadata": {},
     "output_type": "execute_result"
    }
   ],
   "source": [
    "(model.replay_buffer.priority_min == rainbow.buffer.priority_min)#.all()"
   ]
  },
  {
   "cell_type": "code",
   "execution_count": 37,
   "id": "19f0b5c8-2163-4ce4-a1c9-56e664a283da",
   "metadata": {},
   "outputs": [
    {
     "data": {
      "text/plain": [
       "False"
      ]
     },
     "execution_count": 37,
     "metadata": {},
     "output_type": "execute_result"
    }
   ],
   "source": [
    "(model.replay_buffer.priority_sum == rainbow.buffer.priority_sum)#.all()"
   ]
  },
  {
   "cell_type": "code",
   "execution_count": 30,
   "id": "40c9e011-e421-4835-979b-d056cc233e28",
   "metadata": {},
   "outputs": [
    {
     "data": {
      "text/plain": [
       "392.9686983525753"
      ]
     },
     "execution_count": 30,
     "metadata": {},
     "output_type": "execute_result"
    }
   ],
   "source": [
    "model.replay_buffer.priority_sum[1]"
   ]
  },
  {
   "cell_type": "code",
   "execution_count": 29,
   "id": "60380a99-c9fd-45c3-8611-73285ddbdac9",
   "metadata": {},
   "outputs": [
    {
     "data": {
      "text/plain": [
       "392.9686983637512"
      ]
     },
     "execution_count": 29,
     "metadata": {},
     "output_type": "execute_result"
    }
   ],
   "source": []
  },
  {
   "cell_type": "code",
   "execution_count": 36,
   "id": "fbdd4ea2-6e6f-4f62-ab4d-7298da781450",
   "metadata": {},
   "outputs": [
    {
     "data": {
      "text/plain": [
       "392.9686983637512"
      ]
     },
     "execution_count": 36,
     "metadata": {},
     "output_type": "execute_result"
    }
   ],
   "source": []
  },
  {
   "cell_type": "code",
   "execution_count": 36,
   "id": "86981459-b868-4d13-86fd-665a6b34947f",
   "metadata": {},
   "outputs": [
    {
     "data": {
      "text/plain": [
       "392.9686983525753"
      ]
     },
     "execution_count": 36,
     "metadata": {},
     "output_type": "execute_result"
    }
   ],
   "source": []
  },
  {
   "cell_type": "code",
   "execution_count": 31,
   "id": "89c76646-a2fb-45b4-beb9-2f6b8776cdb5",
   "metadata": {},
   "outputs": [
    {
     "data": {
      "text/plain": [
       "392.9686984429062"
      ]
     },
     "execution_count": 31,
     "metadata": {},
     "output_type": "execute_result"
    }
   ],
   "source": [
    "rainbow.buffer.priority_sum[1]"
   ]
  },
  {
   "cell_type": "code",
   "execution_count": 28,
   "id": "8695e6fc-aba8-4e6e-bdb1-155049da5164",
   "metadata": {},
   "outputs": [
    {
     "data": {
      "text/plain": [
       "392.9686984429062"
      ]
     },
     "execution_count": 28,
     "metadata": {},
     "output_type": "execute_result"
    }
   ],
   "source": []
  },
  {
   "cell_type": "code",
   "execution_count": 37,
   "id": "c0a778b4-0fa2-426c-9742-deada16809e9",
   "metadata": {},
   "outputs": [
    {
     "data": {
      "text/plain": [
       "392.9686984429062"
      ]
     },
     "execution_count": 37,
     "metadata": {},
     "output_type": "execute_result"
    }
   ],
   "source": []
  },
  {
   "cell_type": "code",
   "execution_count": null,
   "id": "67c60e28-58c3-4961-ab55-0494bf36ee03",
   "metadata": {},
   "outputs": [],
   "source": []
  },
  {
   "cell_type": "code",
   "execution_count": 33,
   "id": "33448d46-1e8a-43a3-8cff-970546392616",
   "metadata": {},
   "outputs": [
    {
     "data": {
      "text/plain": [
       "tensor([True, True, True, True, True, True, True, True, True, True, True, True,\n",
       "        True, True, True, True, True, True, True, True, True, True, True, True,\n",
       "        True, True, True, True, True, True, True, True, True, True, True, True,\n",
       "        True, True, True, True, True, True, True, True, True, True, True, True,\n",
       "        True, True, True, True, True, True, True, True, True, True, True, True,\n",
       "        True, True, True, True, True, True, True, True, True, True, True, True,\n",
       "        True, True, True, True, True, True, True, True, True, True, True, True,\n",
       "        True, True, True, True, True, True, True, True, True, True, True, True,\n",
       "        True, True, True, True, True, True, True, True, True, True, True, True,\n",
       "        True, True, True, True, True, True, True, True, True, True, True, True,\n",
       "        True, True, True, True, True, True, True, True, True, True, True, True,\n",
       "        True, True, True, True, True, True, True, True, True, True, True, True,\n",
       "        True, True, True, True, True, True, True, True, True, True, True, True,\n",
       "        True, True, True, True, True, True, True, True, True, True, True, True,\n",
       "        True, True, True, True, True, True, True, True, True, True, True, True,\n",
       "        True, True, True, True, True, True, True, True, True, True, True, True,\n",
       "        True, True, True, True, True, True, True, True, True, True, True, True,\n",
       "        True, True, True, True, True, True, True, True, True, True, True, True,\n",
       "        True, True, True, True, True, True, True, True, True, True, True, True,\n",
       "        True, True, True, True, True, True, True, True, True, True, True, True,\n",
       "        True, True, True, True, True, True, True, True, True, True, True, True,\n",
       "        True, True, True, True], device='cuda:0')"
      ]
     },
     "execution_count": 33,
     "metadata": {},
     "output_type": "execute_result"
    }
   ],
   "source": [
    "new_p1 == new_p2"
   ]
  },
  {
   "cell_type": "code",
   "execution_count": null,
   "id": "6e73b411-bbe3-4f5d-b111-5b68a061e700",
   "metadata": {},
   "outputs": [],
   "source": []
  },
  {
   "cell_type": "code",
   "execution_count": null,
   "id": "ba9b960d-478e-4058-a202-5eb367bf5378",
   "metadata": {},
   "outputs": [],
   "source": []
  },
  {
   "cell_type": "code",
   "execution_count": null,
   "id": "5d48ddb3-0f71-44ea-beb2-267c94371408",
   "metadata": {},
   "outputs": [],
   "source": []
  },
  {
   "cell_type": "code",
   "execution_count": 81,
   "id": "f58fb979-9ff5-43a6-86c5-8bbd64df9722",
   "metadata": {},
   "outputs": [],
   "source": [
    "def same_params(old_rainbow, new_rainbow):\n",
    "    old_params = torch.nn.utils.parameters_to_vector(list(old_rainbow.q_policy.parameters()) + list(old_rainbow.q_target.parameters())).detach().cpu().numpy()\n",
    "    new_params = new_rainbow.policy.parameters_to_vector()\n",
    "    if len(new_params) != len(old_params):\n",
    "        print('Unequal lengths:', len(new_params), len(old_params))\n",
    "        return False\n",
    "    return ((old_params - new_params)[:9173844//20] != 0 ).sum()#.all()\n",
    "\n",
    "def same_buffers(old_rainbow, new_rainbow):\n",
    "    old_buffers = torch.nn.utils.parameters_to_vector(list(old_rainbow.q_policy.buffers()) + list(old_rainbow.q_target.buffers())).detach().cpu().numpy()\n",
    "    new_buffers = torch.nn.utils.parameters_to_vector(model.policy.buffers()).detach().cpu().numpy()\n",
    "    if len(new_buffers) != len(old_buffers):\n",
    "        print('Unequal lengths:', len(new_buffers), len(old_buffers))\n",
    "        return False\n",
    "    return (old_buffers == new_buffers).all()"
   ]
  },
  {
   "cell_type": "code",
   "execution_count": 82,
   "id": "fd5d016a-1c18-482b-bbfb-744cb5b0f022",
   "metadata": {},
   "outputs": [
    {
     "data": {
      "text/plain": [
       "(0, True)"
      ]
     },
     "execution_count": 82,
     "metadata": {},
     "output_type": "execute_result"
    }
   ],
   "source": [
    "same_params(rainbow, model), same_buffers(rainbow, model)"
   ]
  },
  {
   "cell_type": "code",
   "execution_count": 120,
   "id": "fb071329-c48a-4c39-920f-fa81bc9fbfb3",
   "metadata": {},
   "outputs": [],
   "source": [
    "a = torch.nn.utils.parameters_to_vector(model.q_net.features_extractor.main[2].residual_1.conv_1.parameters())"
   ]
  },
  {
   "cell_type": "code",
   "execution_count": 125,
   "id": "a8e475b8-2aad-42a5-ac32-4391734d3461",
   "metadata": {},
   "outputs": [],
   "source": [
    "b = torch.nn.utils.parameters_to_vector(rainbow.q_policy.main[2].residual_1.conv_1.parameters())"
   ]
  },
  {
   "cell_type": "code",
   "execution_count": 122,
   "id": "24450729-2825-4fc3-a812-bd4eecafeb4c",
   "metadata": {},
   "outputs": [
    {
     "data": {
      "text/plain": [
       "tensor(205, device='cuda:0')"
      ]
     },
     "execution_count": 122,
     "metadata": {},
     "output_type": "execute_result"
    }
   ],
   "source": [
    "(a != b).sum()"
   ]
  },
  {
   "cell_type": "code",
   "execution_count": 135,
   "id": "e1a2d122-ba5d-4b6e-ab52-613c50beece2",
   "metadata": {},
   "outputs": [
    {
     "data": {
      "text/plain": [
       "tensor([ True, False,  True,  True,  True,  True,  True,  True,  True,  True,\n",
       "        False,  True, False, False,  True, False,  True, False,  True,  True,\n",
       "         True, False, False, False,  True, False,  True,  True,  True,  True,\n",
       "         True, False, False,  True,  True,  True,  True,  True,  True, False,\n",
       "         True, False,  True,  True,  True, False,  True,  True, False,  True,\n",
       "         True,  True,  True,  True,  True,  True,  True, False,  True,  True,\n",
       "         True,  True,  True,  True], device='cuda:0')"
      ]
     },
     "execution_count": 135,
     "metadata": {},
     "output_type": "execute_result"
    }
   ],
   "source": [
    "list(rainbow.q_policy.main[2].residual_1.conv_1.parameters())[0].grad == list(model.q_net.features_extractor.main[2].residual_1.conv_1.parameters())[0].grad"
   ]
  },
  {
   "cell_type": "code",
   "execution_count": 31,
   "id": "0ce93457-7b48-463a-807c-18a90b886915",
   "metadata": {},
   "outputs": [
    {
     "data": {
      "text/plain": [
       "[(1.4551915228366852e-10, 'features_extractor.main.0.conv.weight'),\n",
       " (1.7462298274040222e-10, 'features_extractor.main.0.conv.bias'),\n",
       " (8.731149137020111e-11, 'features_extractor.main.0.residual_0.conv_0.bias'),\n",
       " (2.3283064365386963e-10,\n",
       "  'features_extractor.main.0.residual_0.conv_0.weight_orig'),\n",
       " (1.3096723705530167e-10, 'features_extractor.main.0.residual_0.conv_1.bias'),\n",
       " (2.0372681319713593e-10,\n",
       "  'features_extractor.main.0.residual_0.conv_1.weight_orig'),\n",
       " (1.1641532182693481e-10, 'features_extractor.main.0.residual_1.conv_0.bias'),\n",
       " (2.0372681319713593e-10,\n",
       "  'features_extractor.main.0.residual_1.conv_0.weight_orig'),\n",
       " (2.3283064365386963e-10, 'features_extractor.main.0.residual_1.conv_1.bias'),\n",
       " (1.2369127944111824e-10,\n",
       "  'features_extractor.main.0.residual_1.conv_1.weight_orig'),\n",
       " (1.7462298274040222e-10, 'features_extractor.main.1.conv.weight'),\n",
       " (1.7462298274040222e-10, 'features_extractor.main.1.conv.bias'),\n",
       " (1.1641532182693481e-10, 'features_extractor.main.1.residual_0.conv_0.bias'),\n",
       " (1.7462298274040222e-10,\n",
       "  'features_extractor.main.1.residual_0.conv_0.weight_orig'),\n",
       " (1.1641532182693481e-10, 'features_extractor.main.1.residual_0.conv_1.bias'),\n",
       " (1.6007106751203537e-10,\n",
       "  'features_extractor.main.1.residual_0.conv_1.weight_orig'),\n",
       " (1.1641532182693481e-10, 'features_extractor.main.1.residual_1.conv_0.bias'),\n",
       " (1.4551915228366852e-10,\n",
       "  'features_extractor.main.1.residual_1.conv_0.weight_orig'),\n",
       " (1.1641532182693481e-10, 'features_extractor.main.1.residual_1.conv_1.bias'),\n",
       " (8.731149137020111e-11,\n",
       "  'features_extractor.main.1.residual_1.conv_1.weight_orig'),\n",
       " (2.9103830456733704e-10, 'features_extractor.main.2.conv.weight'),\n",
       " (1.1641532182693481e-10, 'features_extractor.main.2.conv.bias'),\n",
       " (1.1641532182693481e-10, 'features_extractor.main.2.residual_0.conv_0.bias'),\n",
       " (8.731149137020111e-11,\n",
       "  'features_extractor.main.2.residual_0.conv_0.weight_orig'),\n",
       " (1.1641532182693481e-10, 'features_extractor.main.2.residual_0.conv_1.bias'),\n",
       " (1.1641532182693481e-10,\n",
       "  'features_extractor.main.2.residual_0.conv_1.weight_orig'),\n",
       " (1.1641532182693481e-10, 'features_extractor.main.2.residual_1.conv_0.bias'),\n",
       " (8.731149137020111e-11,\n",
       "  'features_extractor.main.2.residual_1.conv_0.weight_orig'),\n",
       " (1.1641532182693481e-10, 'features_extractor.main.2.residual_1.conv_1.bias'),\n",
       " (5.820766091346741e-11,\n",
       "  'features_extractor.main.2.residual_1.conv_1.weight_orig'),\n",
       " (0.0, 'dueling.value_branch.0.weight_mu'),\n",
       " (0.0, 'dueling.value_branch.0.weight_sigma'),\n",
       " (0.0, 'dueling.value_branch.0.bias_mu'),\n",
       " (0.0, 'dueling.value_branch.0.bias_sigma'),\n",
       " (0.0, 'dueling.value_branch.2.weight_mu'),\n",
       " (0.0, 'dueling.value_branch.2.weight_sigma'),\n",
       " (0.0, 'dueling.value_branch.2.bias_mu'),\n",
       " (0.0, 'dueling.value_branch.2.bias_sigma'),\n",
       " (0.0, 'dueling.advantage_branch.0.weight_mu'),\n",
       " (0.0, 'dueling.advantage_branch.0.weight_sigma'),\n",
       " (0.0, 'dueling.advantage_branch.0.bias_mu'),\n",
       " (0.0, 'dueling.advantage_branch.0.bias_sigma'),\n",
       " (0.0, 'dueling.advantage_branch.2.weight_mu'),\n",
       " (0.0, 'dueling.advantage_branch.2.weight_sigma'),\n",
       " (0.0, 'dueling.advantage_branch.2.bias_mu'),\n",
       " (0.0, 'dueling.advantage_branch.2.bias_sigma')]"
      ]
     },
     "execution_count": 31,
     "metadata": {},
     "output_type": "execute_result"
    }
   ],
   "source": [
    "list(map(lambda l: ((l[0][1].grad - l[1].grad).abs().max().item(), l[0][0]), zip(model.q_net.named_parameters(), rainbow.q_policy.parameters())))"
   ]
  },
  {
   "cell_type": "code",
   "execution_count": 32,
   "id": "ec82dc3a-699a-426f-8aa4-b2581bc788a5",
   "metadata": {},
   "outputs": [],
   "source": [
    "def "
   ]
  },
  {
   "cell_type": "code",
   "execution_count": 32,
   "id": "8bcd6181-f891-47e6-9370-0cf47aa1c5cd",
   "metadata": {},
   "outputs": [],
   "source": []
  },
  {
   "cell_type": "code",
   "execution_count": 32,
   "id": "7a27d054-9bcf-47a0-9786-9825dc71176c",
   "metadata": {},
   "outputs": [],
   "source": [
    "grad1 =  rainbow.q_policy.main[2].residual_1.conv_1.bias.grad.clone()"
   ]
  },
  {
   "cell_type": "code",
   "execution_count": 44,
   "id": "a5e38537-2f0b-43c3-82b3-860a3b94c0b8",
   "metadata": {},
   "outputs": [
    {
     "data": {
      "text/plain": [
       "tensor([-1.6236e-03, -5.3778e-04, -5.6266e-05,  0.0000e+00, -5.2314e-05,\n",
       "        -8.2292e-05,  0.0000e+00,  1.1867e-03,  6.7422e-04,  6.6862e-04,\n",
       "        -4.6065e-04, -7.3275e-05, -5.4489e-04,  1.1104e-03,  5.7649e-04,\n",
       "        -9.3309e-04, -2.3133e-04,  9.2959e-06,  1.2393e-04,  0.0000e+00,\n",
       "        -5.2042e-04, -6.1884e-05, -7.4515e-05, -3.7119e-04, -1.6360e-04,\n",
       "        -1.8515e-04,  1.4474e-03, -2.5232e-03, -1.9661e-04, -2.3318e-04,\n",
       "        -3.5856e-06,  5.1181e-04, -1.6746e-06,  8.1364e-04,  7.9730e-09,\n",
       "         1.7285e-05, -4.4675e-04, -7.5733e-04, -2.0996e-05,  8.6999e-05,\n",
       "        -9.0510e-05, -4.4699e-04,  1.8645e-03, -7.1447e-04, -4.2238e-04,\n",
       "         3.9382e-04,  8.4147e-05, -6.8688e-04,  3.4405e-05, -1.7494e-04,\n",
       "        -9.3331e-04, -8.2519e-04,  0.0000e+00, -6.2001e-04, -1.2787e-03,\n",
       "         8.1953e-05,  5.9411e-04, -4.7243e-04, -1.0874e-03, -1.0010e-03,\n",
       "        -3.4161e-04,  1.9612e-04,  3.1001e-04,  4.2435e-04], device='cuda:0')"
      ]
     },
     "execution_count": 44,
     "metadata": {},
     "output_type": "execute_result"
    }
   ],
   "source": [
    "grad1"
   ]
  },
  {
   "cell_type": "code",
   "execution_count": 43,
   "id": "e991f5d4-3128-44b6-86e6-c42943248e04",
   "metadata": {},
   "outputs": [],
   "source": [
    "grad2 =  rainbow.q_policy.main[2].residual_1.conv_1.bias.grad.clone()"
   ]
  },
  {
   "cell_type": "code",
   "execution_count": 45,
   "id": "caad6bba-d9df-4475-8c40-14724cc91756",
   "metadata": {},
   "outputs": [
    {
     "data": {
      "text/plain": [
       "tensor([ 0.0000e+00,  0.0000e+00,  0.0000e+00,  0.0000e+00,  0.0000e+00,\n",
       "         0.0000e+00,  0.0000e+00,  0.0000e+00,  0.0000e+00,  0.0000e+00,\n",
       "         0.0000e+00,  0.0000e+00,  0.0000e+00,  0.0000e+00,  0.0000e+00,\n",
       "         0.0000e+00,  0.0000e+00,  7.2760e-12,  0.0000e+00,  0.0000e+00,\n",
       "         5.8208e-11, -7.2760e-12,  0.0000e+00,  0.0000e+00,  0.0000e+00,\n",
       "         0.0000e+00,  0.0000e+00,  0.0000e+00,  0.0000e+00,  0.0000e+00,\n",
       "        -7.2760e-12,  0.0000e+00,  0.0000e+00,  5.8208e-11,  0.0000e+00,\n",
       "         0.0000e+00,  0.0000e+00,  0.0000e+00,  0.0000e+00, -7.2760e-12,\n",
       "         0.0000e+00,  0.0000e+00,  0.0000e+00,  0.0000e+00,  0.0000e+00,\n",
       "         0.0000e+00,  0.0000e+00,  5.8208e-11,  0.0000e+00,  0.0000e+00,\n",
       "         0.0000e+00,  0.0000e+00,  0.0000e+00,  0.0000e+00,  0.0000e+00,\n",
       "         0.0000e+00,  0.0000e+00,  0.0000e+00,  0.0000e+00,  0.0000e+00,\n",
       "         0.0000e+00,  0.0000e+00,  0.0000e+00,  0.0000e+00], device='cuda:0')"
      ]
     },
     "execution_count": 45,
     "metadata": {},
     "output_type": "execute_result"
    }
   ],
   "source": [
    "grad1 - grad2"
   ]
  },
  {
   "cell_type": "code",
   "execution_count": 155,
   "id": "0d108a54-433c-4cce-9c28-a27788fb815b",
   "metadata": {},
   "outputs": [],
   "source": []
  },
  {
   "cell_type": "code",
   "execution_count": 155,
   "id": "7634557f-94b3-4e6a-9775-4ea653ca5304",
   "metadata": {},
   "outputs": [
    {
     "data": {
      "text/plain": [
       "tensor([[[[ 0.0000e+00,  0.0000e+00,  0.0000e+00],\n",
       "          [ 0.0000e+00,  0.0000e+00,  0.0000e+00],\n",
       "          [-1.4552e-11,  0.0000e+00,  1.4552e-11]],\n",
       "\n",
       "         [[ 0.0000e+00,  0.0000e+00,  0.0000e+00],\n",
       "          [ 0.0000e+00,  0.0000e+00,  0.0000e+00],\n",
       "          [ 0.0000e+00,  0.0000e+00,  0.0000e+00]],\n",
       "\n",
       "         [[-3.4106e-13, -6.8212e-13,  0.0000e+00],\n",
       "          [ 0.0000e+00,  1.4211e-13,  0.0000e+00],\n",
       "          [ 0.0000e+00,  0.0000e+00, -2.2737e-13]],\n",
       "\n",
       "         ...,\n",
       "\n",
       "         [[ 0.0000e+00,  0.0000e+00,  0.0000e+00],\n",
       "          [ 7.2760e-12,  7.2760e-12,  0.0000e+00],\n",
       "          [ 0.0000e+00,  0.0000e+00,  1.3642e-12]],\n",
       "\n",
       "         [[ 0.0000e+00,  0.0000e+00,  0.0000e+00],\n",
       "          [ 0.0000e+00,  0.0000e+00,  0.0000e+00],\n",
       "          [ 0.0000e+00,  0.0000e+00,  0.0000e+00]],\n",
       "\n",
       "         [[ 0.0000e+00,  0.0000e+00,  0.0000e+00],\n",
       "          [ 0.0000e+00,  0.0000e+00,  7.2760e-12],\n",
       "          [ 3.6380e-12,  0.0000e+00,  0.0000e+00]]],\n",
       "\n",
       "\n",
       "        [[[ 0.0000e+00,  0.0000e+00,  0.0000e+00],\n",
       "          [ 0.0000e+00,  0.0000e+00,  0.0000e+00],\n",
       "          [-1.3642e-12, -1.8190e-12,  0.0000e+00]],\n",
       "\n",
       "         [[ 0.0000e+00,  0.0000e+00, -1.4552e-11],\n",
       "          [ 0.0000e+00,  0.0000e+00,  0.0000e+00],\n",
       "          [-3.6380e-12, -3.6380e-12,  0.0000e+00]],\n",
       "\n",
       "         [[ 0.0000e+00,  0.0000e+00, -1.1369e-13],\n",
       "          [ 0.0000e+00,  0.0000e+00,  0.0000e+00],\n",
       "          [ 0.0000e+00,  0.0000e+00,  0.0000e+00]],\n",
       "\n",
       "         ...,\n",
       "\n",
       "         [[ 0.0000e+00,  0.0000e+00,  0.0000e+00],\n",
       "          [ 0.0000e+00,  0.0000e+00,  0.0000e+00],\n",
       "          [ 0.0000e+00,  0.0000e+00,  0.0000e+00]],\n",
       "\n",
       "         [[ 0.0000e+00, -2.8422e-14,  0.0000e+00],\n",
       "          [-1.8190e-12, -4.5475e-13,  2.2737e-13],\n",
       "          [ 0.0000e+00,  2.8422e-14, -2.2737e-13]],\n",
       "\n",
       "         [[ 0.0000e+00,  0.0000e+00,  0.0000e+00],\n",
       "          [-9.0949e-13,  0.0000e+00,  0.0000e+00],\n",
       "          [ 1.4211e-14, -1.8190e-12,  0.0000e+00]]],\n",
       "\n",
       "\n",
       "        [[[-2.2737e-13, -4.5475e-13, -9.0949e-13],\n",
       "          [-4.5475e-13, -1.8190e-12,  9.0949e-13],\n",
       "          [ 4.5475e-13, -9.0949e-13,  0.0000e+00]],\n",
       "\n",
       "         [[-1.8190e-12, -2.2737e-13, -9.0949e-13],\n",
       "          [-5.6843e-14, -2.2737e-13,  0.0000e+00],\n",
       "          [-9.0949e-13,  0.0000e+00, -4.5475e-13]],\n",
       "\n",
       "         [[-1.8190e-12,  1.8190e-12,  1.8190e-12],\n",
       "          [-2.2737e-13,  4.5475e-13,  2.2737e-13],\n",
       "          [-1.1369e-13,  1.1369e-13, -9.0949e-13]],\n",
       "\n",
       "         ...,\n",
       "\n",
       "         [[-9.0949e-13, -2.2737e-13,  0.0000e+00],\n",
       "          [ 1.7764e-15, -4.5475e-13, -1.8190e-12],\n",
       "          [-1.1369e-13,  9.0949e-13,  9.0949e-13]],\n",
       "\n",
       "         [[ 5.6843e-14,  0.0000e+00, -5.6843e-14],\n",
       "          [ 4.5475e-13,  1.8190e-12, -4.5475e-13],\n",
       "          [-4.5475e-13, -9.0949e-13,  4.5475e-13]],\n",
       "\n",
       "         [[ 1.1369e-13,  0.0000e+00,  1.8190e-12],\n",
       "          [ 4.5475e-13, -9.0949e-13,  4.5475e-13],\n",
       "          [-4.5475e-13,  0.0000e+00,  9.0949e-13]]],\n",
       "\n",
       "\n",
       "        ...,\n",
       "\n",
       "\n",
       "        [[[ 0.0000e+00,  0.0000e+00,  0.0000e+00],\n",
       "          [ 0.0000e+00,  0.0000e+00,  0.0000e+00],\n",
       "          [ 0.0000e+00,  0.0000e+00,  0.0000e+00]],\n",
       "\n",
       "         [[ 0.0000e+00,  0.0000e+00,  0.0000e+00],\n",
       "          [ 0.0000e+00,  0.0000e+00,  0.0000e+00],\n",
       "          [ 0.0000e+00,  0.0000e+00,  0.0000e+00]],\n",
       "\n",
       "         [[ 0.0000e+00, -1.8190e-12,  0.0000e+00],\n",
       "          [ 1.1369e-13, -2.2737e-13,  0.0000e+00],\n",
       "          [ 0.0000e+00,  0.0000e+00,  0.0000e+00]],\n",
       "\n",
       "         ...,\n",
       "\n",
       "         [[ 0.0000e+00,  0.0000e+00,  0.0000e+00],\n",
       "          [ 0.0000e+00,  0.0000e+00,  9.0949e-13],\n",
       "          [ 0.0000e+00, -4.5475e-13,  0.0000e+00]],\n",
       "\n",
       "         [[ 0.0000e+00, -1.8190e-12,  1.4211e-14],\n",
       "          [ 0.0000e+00, -4.5475e-13,  1.1369e-13],\n",
       "          [ 0.0000e+00,  0.0000e+00,  0.0000e+00]],\n",
       "\n",
       "         [[ 0.0000e+00,  0.0000e+00,  0.0000e+00],\n",
       "          [ 0.0000e+00,  0.0000e+00,  0.0000e+00],\n",
       "          [ 0.0000e+00,  0.0000e+00,  0.0000e+00]]],\n",
       "\n",
       "\n",
       "        [[[ 0.0000e+00,  0.0000e+00,  0.0000e+00],\n",
       "          [ 0.0000e+00,  9.0949e-13, -1.0914e-11],\n",
       "          [ 0.0000e+00,  2.2737e-13,  0.0000e+00]],\n",
       "\n",
       "         [[ 0.0000e+00,  0.0000e+00,  0.0000e+00],\n",
       "          [ 0.0000e+00,  0.0000e+00,  1.8190e-12],\n",
       "          [ 0.0000e+00,  7.2760e-12,  2.1828e-11]],\n",
       "\n",
       "         [[ 9.0949e-13, -9.0949e-13,  0.0000e+00],\n",
       "          [ 0.0000e+00, -2.2737e-13,  0.0000e+00],\n",
       "          [ 1.1369e-13, -2.2737e-13,  0.0000e+00]],\n",
       "\n",
       "         ...,\n",
       "\n",
       "         [[ 1.8190e-12,  2.5011e-12, -1.3642e-12],\n",
       "          [ 1.8190e-12,  0.0000e+00,  4.5475e-13],\n",
       "          [ 9.0949e-13,  0.0000e+00, -1.5916e-12]],\n",
       "\n",
       "         [[ 0.0000e+00, -4.5475e-13,  0.0000e+00],\n",
       "          [ 0.0000e+00, -9.0949e-13,  4.5475e-13],\n",
       "          [ 1.8190e-12,  0.0000e+00, -4.5475e-13]],\n",
       "\n",
       "         [[ 0.0000e+00, -2.2737e-13, -1.8190e-12],\n",
       "          [-7.2760e-12,  0.0000e+00,  0.0000e+00],\n",
       "          [ 9.0949e-13,  0.0000e+00,  0.0000e+00]]],\n",
       "\n",
       "\n",
       "        [[[-7.2760e-12,  0.0000e+00,  0.0000e+00],\n",
       "          [ 0.0000e+00,  0.0000e+00,  0.0000e+00],\n",
       "          [ 0.0000e+00,  0.0000e+00,  0.0000e+00]],\n",
       "\n",
       "         [[ 0.0000e+00,  0.0000e+00,  0.0000e+00],\n",
       "          [ 0.0000e+00,  0.0000e+00,  0.0000e+00],\n",
       "          [ 0.0000e+00,  0.0000e+00,  0.0000e+00]],\n",
       "\n",
       "         [[ 4.5475e-13, -4.5475e-13, -1.3642e-12],\n",
       "          [-4.5475e-13, -6.8212e-13, -2.2737e-13],\n",
       "          [ 0.0000e+00, -5.6843e-14,  0.0000e+00]],\n",
       "\n",
       "         ...,\n",
       "\n",
       "         [[ 0.0000e+00,  0.0000e+00,  0.0000e+00],\n",
       "          [-1.8190e-12,  0.0000e+00,  0.0000e+00],\n",
       "          [ 0.0000e+00,  0.0000e+00,  0.0000e+00]],\n",
       "\n",
       "         [[ 0.0000e+00, -1.8190e-12,  2.8422e-14],\n",
       "          [ 0.0000e+00, -1.8190e-12,  4.5475e-13],\n",
       "          [ 0.0000e+00,  0.0000e+00, -6.8212e-13]],\n",
       "\n",
       "         [[ 0.0000e+00,  0.0000e+00, -9.0949e-13],\n",
       "          [ 0.0000e+00,  0.0000e+00, -4.5475e-13],\n",
       "          [ 0.0000e+00, -3.6380e-12,  3.6380e-12]]]], device='cuda:0')"
      ]
     },
     "execution_count": 155,
     "metadata": {},
     "output_type": "execute_result"
    }
   ],
   "source": [
    "model.q_net.features_extractor.main[2].residual_1.conv_1.weight_orig.grad - rainbow.q_policy.main[2].residual_1.conv_1.weight_orig.grad"
   ]
  },
  {
   "cell_type": "code",
   "execution_count": 112,
   "id": "c8d68839-3e38-43fa-897b-5b6be29955e0",
   "metadata": {},
   "outputs": [],
   "source": []
  },
  {
   "cell_type": "code",
   "execution_count": 112,
   "id": "c0b8622d-ff61-4ab7-b916-9257cdb38ec0",
   "metadata": {},
   "outputs": [],
   "source": []
  },
  {
   "cell_type": "code",
   "execution_count": 112,
   "id": "3c7d4099-45dc-4f0f-ad50-9c31e9af1c91",
   "metadata": {},
   "outputs": [
    {
     "data": {
      "text/plain": [
       "Sequential(\n",
       "  (0): ImpalaCNNBlock(\n",
       "    (conv): Conv2d(4, 32, kernel_size=(3, 3), stride=(1, 1), padding=(1, 1))\n",
       "    (max_pool): MaxPool2d(kernel_size=3, stride=2, padding=1, dilation=1, ceil_mode=False)\n",
       "    (residual_0): ImpalaCNNResidual(\n",
       "      (relu): ReLU()\n",
       "      (conv_0): Conv2d(32, 32, kernel_size=(3, 3), stride=(1, 1), padding=(1, 1))\n",
       "      (conv_1): Conv2d(32, 32, kernel_size=(3, 3), stride=(1, 1), padding=(1, 1))\n",
       "    )\n",
       "    (residual_1): ImpalaCNNResidual(\n",
       "      (relu): ReLU()\n",
       "      (conv_0): Conv2d(32, 32, kernel_size=(3, 3), stride=(1, 1), padding=(1, 1))\n",
       "      (conv_1): Conv2d(32, 32, kernel_size=(3, 3), stride=(1, 1), padding=(1, 1))\n",
       "    )\n",
       "  )\n",
       "  (1): ImpalaCNNBlock(\n",
       "    (conv): Conv2d(32, 64, kernel_size=(3, 3), stride=(1, 1), padding=(1, 1))\n",
       "    (max_pool): MaxPool2d(kernel_size=3, stride=2, padding=1, dilation=1, ceil_mode=False)\n",
       "    (residual_0): ImpalaCNNResidual(\n",
       "      (relu): ReLU()\n",
       "      (conv_0): Conv2d(64, 64, kernel_size=(3, 3), stride=(1, 1), padding=(1, 1))\n",
       "      (conv_1): Conv2d(64, 64, kernel_size=(3, 3), stride=(1, 1), padding=(1, 1))\n",
       "    )\n",
       "    (residual_1): ImpalaCNNResidual(\n",
       "      (relu): ReLU()\n",
       "      (conv_0): Conv2d(64, 64, kernel_size=(3, 3), stride=(1, 1), padding=(1, 1))\n",
       "      (conv_1): Conv2d(64, 64, kernel_size=(3, 3), stride=(1, 1), padding=(1, 1))\n",
       "    )\n",
       "  )\n",
       "  (2): ImpalaCNNBlock(\n",
       "    (conv): Conv2d(64, 64, kernel_size=(3, 3), stride=(1, 1), padding=(1, 1))\n",
       "    (max_pool): MaxPool2d(kernel_size=3, stride=2, padding=1, dilation=1, ceil_mode=False)\n",
       "    (residual_0): ImpalaCNNResidual(\n",
       "      (relu): ReLU()\n",
       "      (conv_0): Conv2d(64, 64, kernel_size=(3, 3), stride=(1, 1), padding=(1, 1))\n",
       "      (conv_1): Conv2d(64, 64, kernel_size=(3, 3), stride=(1, 1), padding=(1, 1))\n",
       "    )\n",
       "    (residual_1): ImpalaCNNResidual(\n",
       "      (relu): ReLU()\n",
       "      (conv_0): Conv2d(64, 64, kernel_size=(3, 3), stride=(1, 1), padding=(1, 1))\n",
       "      (conv_1): Conv2d(64, 64, kernel_size=(3, 3), stride=(1, 1), padding=(1, 1))\n",
       "    )\n",
       "  )\n",
       "  (3): ReLU()\n",
       ")"
      ]
     },
     "execution_count": 112,
     "metadata": {},
     "output_type": "execute_result"
    }
   ],
   "source": [
    "rainbow.q_policy.main"
   ]
  },
  {
   "cell_type": "code",
   "execution_count": 97,
   "id": "e7c686d7-5de1-48e0-b7dc-e8ef769f3048",
   "metadata": {},
   "outputs": [
    {
     "data": {
      "text/plain": [
       "389024"
      ]
     },
     "execution_count": 97,
     "metadata": {},
     "output_type": "execute_result"
    }
   ],
   "source": [
    "len(a)"
   ]
  },
  {
   "cell_type": "code",
   "execution_count": 61,
   "id": "492a19e0-cb9b-4c94-9865-5d2bbee65e78",
   "metadata": {},
   "outputs": [
    {
     "data": {
      "text/plain": [
       "9173844"
      ]
     },
     "execution_count": 61,
     "metadata": {},
     "output_type": "execute_result"
    }
   ],
   "source": [
    "len(model.policy.parameters_to_vector())"
   ]
  },
  {
   "cell_type": "code",
   "execution_count": 78,
   "id": "8642ac81-c109-492b-9521-49f66e8547ae",
   "metadata": {},
   "outputs": [
    {
     "data": {
      "text/plain": [
       "458692"
      ]
     },
     "execution_count": 78,
     "metadata": {},
     "output_type": "execute_result"
    }
   ],
   "source": [
    "9173844//20"
   ]
  },
  {
   "cell_type": "code",
   "execution_count": null,
   "id": "0e4c7177-73fe-4f45-a6f3-b1b8fdef57a3",
   "metadata": {},
   "outputs": [],
   "source": []
  },
  {
   "cell_type": "code",
   "execution_count": null,
   "id": "6707108b-0715-4bab-ba88-018005c91197",
   "metadata": {},
   "outputs": [],
   "source": []
  },
  {
   "cell_type": "code",
   "execution_count": 83,
   "id": "b45d239c-591c-4608-9bce-9afeb189d6b2",
   "metadata": {},
   "outputs": [],
   "source": [
    "class LO():\n",
    "    record = lambda *a, **b: print(*a, b)\n",
    "model.set_logger(LO())"
   ]
  },
  {
   "cell_type": "code",
   "execution_count": 84,
   "id": "26daf1ac-7fe4-4729-8fea-d3194f101752",
   "metadata": {},
   "outputs": [
    {
     "ename": "ValueError",
     "evalue": "not enough values to unpack (expected 4, got 3)",
     "output_type": "error",
     "traceback": [
      "\u001b[1;31m---------------------------------------------------------------------------\u001b[0m",
      "\u001b[1;31mValueError\u001b[0m                                Traceback (most recent call last)",
      "Cell \u001b[1;32mIn[84], line 7\u001b[0m\n\u001b[0;32m      5\u001b[0m train_iter \u001b[38;5;241m=\u001b[39m \u001b[38;5;241m0\u001b[39m\n\u001b[0;32m      6\u001b[0m \u001b[38;5;28;01mif\u001b[39;00m args\u001b[38;5;241m.\u001b[39mnoisy_dqn \u001b[38;5;129;01mand\u001b[39;00m train_iter \u001b[38;5;241m>\u001b[39m \u001b[38;5;241m0\u001b[39m: rainbow\u001b[38;5;241m.\u001b[39mreset_noise(rainbow\u001b[38;5;241m.\u001b[39mq_policy)\n\u001b[1;32m----> 7\u001b[0m q1, loss1, grad_norm1, stuff1 \u001b[38;5;241m=\u001b[39m rainbow\u001b[38;5;241m.\u001b[39mtrain(args\u001b[38;5;241m.\u001b[39mbatch_size, beta\u001b[38;5;241m=\u001b[39mper_beta)\n\u001b[0;32m      8\u001b[0m q1, loss1, grad_norm1\n\u001b[0;32m      9\u001b[0m \u001b[38;5;66;03m#train_iter = 1\u001b[39;00m\n\u001b[0;32m     10\u001b[0m \u001b[38;5;66;03m#if args.noisy_dqn and train_iter > 0: rainbow.reset_noise(rainbow.q_policy)\u001b[39;00m\n\u001b[0;32m     11\u001b[0m \u001b[38;5;66;03m#q2, loss2, grad_norm2 = rainbow.train(args.batch_size, beta=per_beta)\u001b[39;00m\n\u001b[0;32m     12\u001b[0m \u001b[38;5;66;03m#\u001b[39;00m\n\u001b[0;32m     13\u001b[0m \u001b[38;5;66;03m#np.mean([q1, q2]), np.mean([loss1, loss2]), np.mean([grad_norm1, grad_norm2])\u001b[39;00m\n",
      "\u001b[1;31mValueError\u001b[0m: not enough values to unpack (expected 4, got 3)"
     ]
    }
   ],
   "source": [
    "random.seed(args.seed)\n",
    "np.random.seed(args.seed)\n",
    "torch.manual_seed(args.seed)\n",
    "\n",
    "train_iter = 0\n",
    "if args.noisy_dqn and train_iter > 0: rainbow.reset_noise(rainbow.q_policy)\n",
    "q1, loss1, grad_norm1 = rainbow.train(args.batch_size, beta=per_beta)\n",
    "q1, loss1, grad_norm1\n",
    "#train_iter = 1\n",
    "#if args.noisy_dqn and train_iter > 0: rainbow.reset_noise(rainbow.q_policy)\n",
    "#q2, loss2, grad_norm2 = rainbow.train(args.batch_size, beta=per_beta)\n",
    "#\n",
    "#np.mean([q1, q2]), np.mean([loss1, loss2]), np.mean([grad_norm1, grad_norm2])"
   ]
  },
  {
   "cell_type": "code",
   "execution_count": null,
   "id": "72b71d95-5c58-47f3-89f8-dac798b80c53",
   "metadata": {},
   "outputs": [],
   "source": []
  },
  {
   "cell_type": "code",
   "execution_count": 85,
   "id": "cebb18dc-e61f-4db3-8a32-00aceb9ca969",
   "metadata": {},
   "outputs": [
    {
     "data": {
      "text/html": [
       "<pre style=\"white-space:pre;overflow-x:auto;line-height:normal;font-family:Menlo,'DejaVu Sans Mono',consolas,'Courier New',monospace\"><span style=\"font-weight: bold\">&lt;</span><span style=\"color: #ff00ff; text-decoration-color: #ff00ff; font-weight: bold\">__main__.LO</span><span style=\"color: #000000; text-decoration-color: #000000\"> object at </span><span style=\"color: #008080; text-decoration-color: #008080; font-weight: bold\">0x0000023E8942F190</span><span style=\"font-weight: bold\">&gt;</span> train/learning_rate <span style=\"color: #008080; text-decoration-color: #008080; font-weight: bold\">0.00025</span>\n",
       "<span style=\"font-weight: bold\">{}</span>\n",
       "</pre>\n"
      ],
      "text/plain": [
       "\u001b[1m<\u001b[0m\u001b[1;95m__main__.LO\u001b[0m\u001b[39m object at \u001b[0m\u001b[1;36m0x0000023E8942F190\u001b[0m\u001b[1m>\u001b[0m train/learning_rate \u001b[1;36m0.00025\u001b[0m\n",
       "\u001b[1m{\u001b[0m\u001b[1m}\u001b[0m\n"
      ]
     },
     "metadata": {},
     "output_type": "display_data"
    },
    {
     "data": {
      "text/html": [
       "<pre style=\"white-space:pre;overflow-x:auto;line-height:normal;font-family:Menlo,'DejaVu Sans Mono',consolas,'Courier New',monospace\"><span style=\"font-weight: bold\">&lt;</span><span style=\"color: #ff00ff; text-decoration-color: #ff00ff; font-weight: bold\">__main__.LO</span><span style=\"color: #000000; text-decoration-color: #000000\"> object at </span><span style=\"color: #008080; text-decoration-color: #008080; font-weight: bold\">0x0000023E8942F190</span><span style=\"font-weight: bold\">&gt;</span> train/n_updates <span style=\"color: #008080; text-decoration-color: #008080; font-weight: bold\">1</span>\n",
       "<span style=\"font-weight: bold\">{</span><span style=\"color: #008000; text-decoration-color: #008000\">'exclude'</span>: <span style=\"color: #008000; text-decoration-color: #008000\">'tensorboard'</span><span style=\"font-weight: bold\">}</span>\n",
       "</pre>\n"
      ],
      "text/plain": [
       "\u001b[1m<\u001b[0m\u001b[1;95m__main__.LO\u001b[0m\u001b[39m object at \u001b[0m\u001b[1;36m0x0000023E8942F190\u001b[0m\u001b[1m>\u001b[0m train/n_updates \u001b[1;36m1\u001b[0m\n",
       "\u001b[1m{\u001b[0m\u001b[32m'exclude'\u001b[0m: \u001b[32m'tensorboard'\u001b[0m\u001b[1m}\u001b[0m\n"
      ]
     },
     "metadata": {},
     "output_type": "display_data"
    },
    {
     "data": {
      "text/html": [
       "<pre style=\"white-space:pre;overflow-x:auto;line-height:normal;font-family:Menlo,'DejaVu Sans Mono',consolas,'Courier New',monospace\"><span style=\"font-weight: bold\">&lt;</span><span style=\"color: #ff00ff; text-decoration-color: #ff00ff; font-weight: bold\">__main__.LO</span><span style=\"color: #000000; text-decoration-color: #000000\"> object at </span><span style=\"color: #008080; text-decoration-color: #008080; font-weight: bold\">0x0000023E8942F190</span><span style=\"font-weight: bold\">&gt;</span> train/loss <span style=\"color: #008080; text-decoration-color: #008080; font-weight: bold\">0.016044344753026962</span>\n",
       "<span style=\"font-weight: bold\">{}</span>\n",
       "</pre>\n"
      ],
      "text/plain": [
       "\u001b[1m<\u001b[0m\u001b[1;95m__main__.LO\u001b[0m\u001b[39m object at \u001b[0m\u001b[1;36m0x0000023E8942F190\u001b[0m\u001b[1m>\u001b[0m train/loss \u001b[1;36m0.016044344753026962\u001b[0m\n",
       "\u001b[1m{\u001b[0m\u001b[1m}\u001b[0m\n"
      ]
     },
     "metadata": {},
     "output_type": "display_data"
    },
    {
     "data": {
      "text/html": [
       "<pre style=\"white-space:pre;overflow-x:auto;line-height:normal;font-family:Menlo,'DejaVu Sans Mono',consolas,'Courier New',monospace\"><span style=\"font-weight: bold\">&lt;</span><span style=\"color: #ff00ff; text-decoration-color: #ff00ff; font-weight: bold\">__main__.LO</span><span style=\"color: #000000; text-decoration-color: #000000\"> object at </span><span style=\"color: #008080; text-decoration-color: #008080; font-weight: bold\">0x0000023E8942F190</span><span style=\"font-weight: bold\">&gt;</span> train/grad_norm <span style=\"color: #008080; text-decoration-color: #008080; font-weight: bold\">0.1913297027349472</span>\n",
       "<span style=\"font-weight: bold\">{}</span>\n",
       "</pre>\n"
      ],
      "text/plain": [
       "\u001b[1m<\u001b[0m\u001b[1;95m__main__.LO\u001b[0m\u001b[39m object at \u001b[0m\u001b[1;36m0x0000023E8942F190\u001b[0m\u001b[1m>\u001b[0m train/grad_norm \u001b[1;36m0.1913297027349472\u001b[0m\n",
       "\u001b[1m{\u001b[0m\u001b[1m}\u001b[0m\n"
      ]
     },
     "metadata": {},
     "output_type": "display_data"
    },
    {
     "data": {
      "text/html": [
       "<pre style=\"white-space:pre;overflow-x:auto;line-height:normal;font-family:Menlo,'DejaVu Sans Mono',consolas,'Courier New',monospace\"><span style=\"font-weight: bold\">&lt;</span><span style=\"color: #ff00ff; text-decoration-color: #ff00ff; font-weight: bold\">__main__.LO</span><span style=\"color: #000000; text-decoration-color: #000000\"> object at </span><span style=\"color: #008080; text-decoration-color: #008080; font-weight: bold\">0x0000023E8942F190</span><span style=\"font-weight: bold\">&gt;</span> train/q_value <span style=\"color: #008080; text-decoration-color: #008080; font-weight: bold\">0.04660109058022499</span>\n",
       "<span style=\"font-weight: bold\">{}</span>\n",
       "</pre>\n"
      ],
      "text/plain": [
       "\u001b[1m<\u001b[0m\u001b[1;95m__main__.LO\u001b[0m\u001b[39m object at \u001b[0m\u001b[1;36m0x0000023E8942F190\u001b[0m\u001b[1m>\u001b[0m train/q_value \u001b[1;36m0.04660109058022499\u001b[0m\n",
       "\u001b[1m{\u001b[0m\u001b[1m}\u001b[0m\n"
      ]
     },
     "metadata": {},
     "output_type": "display_data"
    }
   ],
   "source": [
    "random.seed(args.seed)\n",
    "np.random.seed(args.seed)\n",
    "torch.manual_seed(args.seed)\n",
    "\n",
    "model.train(1, args.batch_size)"
   ]
  },
  {
   "cell_type": "code",
   "execution_count": 32,
   "id": "0006d77a-9bf7-41e6-9cc7-f26d176f4ba0",
   "metadata": {},
   "outputs": [
    {
     "data": {
      "text/plain": [
       "tensor([True, True, True, True, True, True, True, True, True, True, True, True,\n",
       "        True, True, True, True, True, True, True, True, True, True, True, True,\n",
       "        True, True, True, True, True, True, True, True, True, True, True, True,\n",
       "        True, True, True, True, True, True, True, True, True, True, True, True,\n",
       "        True, True, True, True, True, True, True, True, True, True, True, True,\n",
       "        True, True, True, True, True, True, True, True, True, True, True, True,\n",
       "        True, True, True, True, True, True, True, True, True, True, True, True,\n",
       "        True, True, True, True, True, True, True, True, True, True, True, True,\n",
       "        True, True, True, True, True, True, True, True, True, True, True, True,\n",
       "        True, True, True, True, True, True, True, True, True, True, True, True,\n",
       "        True, True, True, True, True, True, True, True, True, True, True, True,\n",
       "        True, True, True, True, True, True, True, True, True, True, True, True,\n",
       "        True, True, True, True, True, True, True, True, True, True, True, True,\n",
       "        True, True, True, True, True, True, True, True, True, True, True, True,\n",
       "        True, True, True, True, True, True, True, True, True, True, True, True,\n",
       "        True, True, True, True, True, True, True, True, True, True, True, True,\n",
       "        True, True, True, True, True, True, True, True, True, True, True, True,\n",
       "        True, True, True, True, True, True, True, True, True, True, True, True,\n",
       "        True, True, True, True, True, True, True, True, True, True, True, True,\n",
       "        True, True, True, True, True, True, True, True, True, True, True, True,\n",
       "        True, True, True, True, True, True, True, True, True, True, True, True,\n",
       "        True, True, True, True], device='cuda:0')"
      ]
     },
     "execution_count": 32,
     "metadata": {},
     "output_type": "execute_result"
    }
   ],
   "source": [
    "stuff1[0] == stuff2[0]"
   ]
  },
  {
   "cell_type": "code",
   "execution_count": 33,
   "id": "7f9f78ba-fe8f-425d-a4df-657c2aa8dad0",
   "metadata": {},
   "outputs": [
    {
     "data": {
      "text/plain": [
       "tensor([True, True, True, True, True, True, True, True, True, True, True, True,\n",
       "        True, True, True, True, True, True, True, True, True, True, True, True,\n",
       "        True, True, True, True, True, True, True, True, True, True, True, True,\n",
       "        True, True, True, True, True, True, True, True, True, True, True, True,\n",
       "        True, True, True, True, True, True, True, True, True, True, True, True,\n",
       "        True, True, True, True, True, True, True, True, True, True, True, True,\n",
       "        True, True, True, True, True, True, True, True, True, True, True, True,\n",
       "        True, True, True, True, True, True, True, True, True, True, True, True,\n",
       "        True, True, True, True, True, True, True, True, True, True, True, True,\n",
       "        True, True, True, True, True, True, True, True, True, True, True, True,\n",
       "        True, True, True, True, True, True, True, True, True, True, True, True,\n",
       "        True, True, True, True, True, True, True, True, True, True, True, True,\n",
       "        True, True, True, True, True, True, True, True, True, True, True, True,\n",
       "        True, True, True, True, True, True, True, True, True, True, True, True,\n",
       "        True, True, True, True, True, True, True, True, True, True, True, True,\n",
       "        True, True, True, True, True, True, True, True, True, True, True, True,\n",
       "        True, True, True, True, True, True, True, True, True, True, True, True,\n",
       "        True, True, True, True, True, True, True, True, True, True, True, True,\n",
       "        True, True, True, True, True, True, True, True, True, True, True, True,\n",
       "        True, True, True, True, True, True, True, True, True, True, True, True,\n",
       "        True, True, True, True, True, True, True, True, True, True, True, True,\n",
       "        True, True, True, True], device='cuda:0')"
      ]
     },
     "execution_count": 33,
     "metadata": {},
     "output_type": "execute_result"
    }
   ],
   "source": [
    "stuff1[1] == stuff2[1]"
   ]
  },
  {
   "cell_type": "code",
   "execution_count": 34,
   "id": "e4384f20-4258-4b3e-94f5-f6236b7feef7",
   "metadata": {},
   "outputs": [
    {
     "data": {
      "text/plain": [
       "tensor([True, True, True, True, True, True, True, True, True, True, True, True,\n",
       "        True, True, True, True, True, True, True, True, True, True, True, True,\n",
       "        True, True, True, True, True, True, True, True, True, True, True, True,\n",
       "        True, True, True, True, True, True, True, True, True, True, True, True,\n",
       "        True, True, True, True, True, True, True, True, True, True, True, True,\n",
       "        True, True, True, True, True, True, True, True, True, True, True, True,\n",
       "        True, True, True, True, True, True, True, True, True, True, True, True,\n",
       "        True, True, True, True, True, True, True, True, True, True, True, True,\n",
       "        True, True, True, True, True, True, True, True, True, True, True, True,\n",
       "        True, True, True, True, True, True, True, True, True, True, True, True,\n",
       "        True, True, True, True, True, True, True, True, True, True, True, True,\n",
       "        True, True, True, True, True, True, True, True, True, True, True, True,\n",
       "        True, True, True, True, True, True, True, True, True, True, True, True,\n",
       "        True, True, True, True, True, True, True, True, True, True, True, True,\n",
       "        True, True, True, True, True, True, True, True, True, True, True, True,\n",
       "        True, True, True, True, True, True, True, True, True, True, True, True,\n",
       "        True, True, True, True, True, True, True, True, True, True, True, True,\n",
       "        True, True, True, True, True, True, True, True, True, True, True, True,\n",
       "        True, True, True, True, True, True, True, True, True, True, True, True,\n",
       "        True, True, True, True, True, True, True, True, True, True, True, True,\n",
       "        True, True, True, True, True, True, True, True, True, True, True, True,\n",
       "        True, True, True, True], device='cuda:0')"
      ]
     },
     "execution_count": 34,
     "metadata": {},
     "output_type": "execute_result"
    }
   ],
   "source": [
    "stuff1[2] == stuff2[2]"
   ]
  },
  {
   "cell_type": "code",
   "execution_count": 35,
   "id": "9e62c74e-aa9c-4f23-8af6-d3a31f03b92d",
   "metadata": {},
   "outputs": [
    {
     "data": {
      "text/plain": [
       "array([ True,  True,  True,  True,  True,  True,  True,  True,  True,\n",
       "        True,  True,  True,  True,  True,  True,  True,  True,  True,\n",
       "        True,  True,  True,  True,  True,  True,  True,  True,  True,\n",
       "        True,  True,  True,  True,  True,  True,  True,  True,  True,\n",
       "        True,  True,  True,  True,  True,  True,  True,  True,  True,\n",
       "        True,  True,  True,  True,  True,  True,  True,  True,  True,\n",
       "        True,  True,  True,  True,  True,  True,  True,  True,  True,\n",
       "        True,  True,  True,  True,  True,  True,  True,  True,  True,\n",
       "        True,  True,  True,  True,  True,  True,  True,  True,  True,\n",
       "        True,  True,  True,  True,  True,  True,  True,  True,  True,\n",
       "        True,  True,  True,  True,  True,  True,  True,  True,  True,\n",
       "        True,  True,  True,  True,  True,  True,  True,  True,  True,\n",
       "        True,  True,  True,  True,  True,  True,  True,  True,  True,\n",
       "        True,  True,  True,  True,  True,  True,  True,  True,  True,\n",
       "        True,  True,  True,  True,  True,  True,  True,  True,  True,\n",
       "        True,  True,  True,  True,  True,  True,  True,  True,  True,\n",
       "        True,  True,  True,  True,  True,  True,  True,  True,  True,\n",
       "        True,  True,  True,  True,  True,  True,  True,  True,  True,\n",
       "        True,  True,  True,  True,  True,  True,  True,  True,  True,\n",
       "        True,  True,  True,  True,  True,  True,  True,  True,  True,\n",
       "        True,  True,  True,  True,  True,  True,  True,  True,  True,\n",
       "        True,  True,  True,  True,  True,  True,  True,  True,  True,\n",
       "        True,  True,  True,  True,  True,  True,  True,  True,  True,\n",
       "        True,  True,  True,  True,  True,  True,  True,  True,  True,\n",
       "        True,  True,  True,  True,  True,  True,  True,  True,  True,\n",
       "        True,  True,  True,  True,  True,  True,  True,  True,  True,\n",
       "        True,  True,  True,  True,  True,  True,  True,  True,  True,\n",
       "        True,  True,  True,  True,  True,  True,  True,  True,  True,\n",
       "        True,  True,  True,  True])"
      ]
     },
     "execution_count": 35,
     "metadata": {},
     "output_type": "execute_result"
    }
   ],
   "source": [
    "stuff1[3] == stuff2[3]"
   ]
  },
  {
   "cell_type": "code",
   "execution_count": null,
   "id": "c446dfb9-decf-4aad-b0ee-685568f5114f",
   "metadata": {},
   "outputs": [],
   "source": []
  },
  {
   "cell_type": "code",
   "execution_count": null,
   "id": "39252805-0d22-4c1f-8761-e40785ec2039",
   "metadata": {},
   "outputs": [],
   "source": []
  },
  {
   "cell_type": "code",
   "execution_count": 86,
   "id": "32582f8e-3732-4f73-9e53-ee03b1ab5165",
   "metadata": {},
   "outputs": [
    {
     "data": {
      "text/plain": [
       "(10168, True)"
      ]
     },
     "execution_count": 86,
     "metadata": {},
     "output_type": "execute_result"
    }
   ],
   "source": [
    "same_params(rainbow, model), same_buffers(rainbow, model)"
   ]
  },
  {
   "cell_type": "code",
   "execution_count": 34,
   "id": "70d9df01-2fa3-421e-97d3-a6af8cb2ffac",
   "metadata": {},
   "outputs": [],
   "source": []
  },
  {
   "cell_type": "code",
   "execution_count": 34,
   "id": "fce929ba-92cc-49c5-9912-d4c980cd9539",
   "metadata": {},
   "outputs": [],
   "source": []
  },
  {
   "cell_type": "code",
   "execution_count": 34,
   "id": "eb8b58cb-904f-49f0-a010-2590028b47e1",
   "metadata": {},
   "outputs": [],
   "source": [
    "mp = list(model.q_net.features_extractor.main[0].parameters())\n",
    "rp = list(rainbow.q_policy.main[0].parameters())"
   ]
  },
  {
   "cell_type": "code",
   "execution_count": 35,
   "id": "70a0f454-bec7-4f55-bbf1-13050cb66057",
   "metadata": {},
   "outputs": [
    {
     "data": {
      "text/plain": [
       "True"
      ]
     },
     "execution_count": 35,
     "metadata": {},
     "output_type": "execute_result"
    }
   ],
   "source": [
    "torch.allclose(mp[0], rp[0])"
   ]
  },
  {
   "cell_type": "code",
   "execution_count": 38,
   "id": "5143353b-390a-4e48-ae6f-321d6d529b55",
   "metadata": {},
   "outputs": [
    {
     "data": {
      "text/plain": [
       "False"
      ]
     },
     "execution_count": 38,
     "metadata": {},
     "output_type": "execute_result"
    }
   ],
   "source": [
    "rainbow.scaler()"
   ]
  },
  {
   "cell_type": "code",
   "execution_count": 34,
   "id": "3dd7a6ce-3e26-4379-8447-da53dbdd6493",
   "metadata": {},
   "outputs": [
    {
     "data": {
      "text/plain": [
       "tensor([[[-0.0953,  0.1084,  0.0024],\n",
       "         [-0.0296, -0.0273,  0.0071],\n",
       "         [-0.0108,  0.0708,  0.0487]],\n",
       "\n",
       "        [[ 0.1056, -0.0464,  0.0657],\n",
       "         [-0.1111,  0.1646,  0.1293],\n",
       "         [-0.0690, -0.0660, -0.1419]],\n",
       "\n",
       "        [[ 0.0789, -0.0522,  0.0628],\n",
       "         [-0.0917,  0.1513,  0.1576],\n",
       "         [ 0.1217,  0.1185, -0.0790]],\n",
       "\n",
       "        [[ 0.1305,  0.0805,  0.1509],\n",
       "         [-0.1165,  0.0761,  0.1590],\n",
       "         [-0.0063, -0.0776,  0.0744]]], device='cuda:0',\n",
       "       grad_fn=<SelectBackward0>)"
      ]
     },
     "execution_count": 34,
     "metadata": {},
     "output_type": "execute_result"
    }
   ],
   "source": []
  },
  {
   "cell_type": "code",
   "execution_count": 33,
   "id": "f96f44de-781e-4fc3-89ad-ffbf675c8500",
   "metadata": {},
   "outputs": [],
   "source": []
  },
  {
   "cell_type": "code",
   "execution_count": 33,
   "id": "f52fa73b-c189-4f50-8dc8-5a6bb62d0a4e",
   "metadata": {},
   "outputs": [],
   "source": []
  },
  {
   "cell_type": "code",
   "execution_count": 33,
   "id": "46dbccdc-c935-4cb6-99ce-346b3cd50417",
   "metadata": {},
   "outputs": [],
   "source": []
  },
  {
   "cell_type": "code",
   "execution_count": 33,
   "id": "b0f1ca16-dc2f-4493-95fc-17d119836f49",
   "metadata": {},
   "outputs": [],
   "source": [
    "class DummyModel():\n",
    "    def __init__(self, rb):\n",
    "        self.rb = rb\n",
    "    \n",
    "    def predict(\n",
    "        self,\n",
    "        observation,\n",
    "        state = None,\n",
    "        episode_start = None,\n",
    "        deterministic = False,\n",
    "    ):\n",
    "        actions = self.rb.act(observation, 0)\n",
    "        return actions, None"
   ]
  },
  {
   "cell_type": "code",
   "execution_count": 26,
   "id": "d333befe-5a09-4eea-ac95-ed881a283fb2",
   "metadata": {},
   "outputs": [
    {
     "name": "stdout",
     "output_type": "stream",
     "text": [
      "Truncated episode due to time limit!\n",
      "Truncated episode due to time limit!\n",
      "Truncated episode due to time limit!\n",
      "Truncated episode due to time limit!\n",
      "Truncated episode due to time limit!\n",
      "Truncated episode due to time limit!\n",
      "Truncated episode due to time limit!\n",
      "Truncated episode due to time limit!\n",
      "Truncated episode due to time limit!\n",
      "Truncated episode due to time limit!\n",
      "Truncated episode due to time limit!\n",
      "Truncated episode due to time limit!\n",
      "Truncated episode due to time limit!\n",
      "Truncated episode due to time limit!\n",
      "Truncated episode due to time limit!\n",
      "Truncated episode due to time limit!\n",
      "Truncated episode due to time limit!\n",
      "Truncated episode due to time limit!\n",
      "Truncated episode due to time limit!\n",
      "Truncated episode due to time limit!\n",
      "Truncated episode due to time limit!\n",
      "Truncated episode due to time limit!\n",
      "Truncated episode due to time limit!\n",
      "Truncated episode due to time limit!\n",
      "Truncated episode due to time limit!\n",
      "Truncated episode due to time limit!\n",
      "Truncated episode due to time limit!\n",
      "Truncated episode due to time limit!\n",
      "Truncated episode due to time limit!\n",
      "Truncated episode due to time limit!\n",
      "Truncated episode due to time limit!\n",
      "Truncated episode due to time limit!\n",
      "Truncated episode due to time limit!\n",
      "Truncated episode due to time limit!\n",
      "Truncated episode due to time limit!\n",
      "Truncated episode due to time limit!\n",
      "Truncated episode due to time limit!\n",
      "Truncated episode due to time limit!\n",
      "Truncated episode due to time limit!\n",
      "Truncated episode due to time limit!\n",
      "Truncated episode due to time limit!\n",
      "Truncated episode due to time limit!\n",
      "Truncated episode due to time limit!\n",
      "Truncated episode due to time limit!\n",
      "Truncated episode due to time limit!\n",
      "Truncated episode due to time limit!\n",
      "Truncated episode due to time limit!\n",
      "Truncated episode due to time limit!\n",
      "Truncated episode due to time limit!\n",
      "Truncated episode due to time limit!\n",
      "Truncated episode due to time limit!\n",
      "Truncated episode due to time limit!\n",
      "Truncated episode due to time limit!\n",
      "Truncated episode due to time limit!\n",
      "Truncated episode due to time limit!\n",
      "Truncated episode due to time limit!\n",
      "Truncated episode due to time limit!\n",
      "Truncated episode due to time limit!\n",
      "Truncated episode due to time limit!\n",
      "Truncated episode due to time limit!\n"
     ]
    },
    {
     "data": {
      "text/html": [
       "<pre style=\"white-space:pre;overflow-x:auto;line-height:normal;font-family:Menlo,'DejaVu Sans Mono',consolas,'Courier New',monospace\"><span style=\"font-weight: bold\">(</span><span style=\"color: #008080; text-decoration-color: #008080; font-weight: bold\">0.234375</span>, <span style=\"color: #008080; text-decoration-color: #008080; font-weight: bold\">0.5517638619690493</span><span style=\"font-weight: bold\">)</span>\n",
       "</pre>\n"
      ],
      "text/plain": [
       "\u001b[1m(\u001b[0m\u001b[1;36m0.234375\u001b[0m, \u001b[1;36m0.5517638619690493\u001b[0m\u001b[1m)\u001b[0m\n"
      ]
     },
     "metadata": {},
     "output_type": "display_data"
    }
   ],
   "source": [
    "args.time_limit = 10_000\n",
    "print(evaluate_policy(DummyModel(rainbow), old_create_env(args, decorr_steps=decorr_steps), 64))\n",
    "args.time_limit = 108_000"
   ]
  },
  {
   "cell_type": "code",
   "execution_count": 59,
   "id": "5b485975-d099-4e23-9c76-db62729b8f4a",
   "metadata": {},
   "outputs": [],
   "source": []
  },
  {
   "cell_type": "code",
   "execution_count": 59,
   "id": "bfef4866-eba0-4815-837a-38d503f760e4",
   "metadata": {},
   "outputs": [],
   "source": []
  },
  {
   "cell_type": "code",
   "execution_count": 59,
   "id": "25400fb1-13ea-43fb-a132-2b5c8f757be3",
   "metadata": {},
   "outputs": [],
   "source": []
  },
  {
   "cell_type": "code",
   "execution_count": 59,
   "id": "59f8a366-f433-49d6-a978-feb5c6373c75",
   "metadata": {},
   "outputs": [],
   "source": []
  },
  {
   "cell_type": "code",
   "execution_count": 59,
   "id": "57ea3053-d8ce-48e8-87bb-3d743eed06a7",
   "metadata": {},
   "outputs": [],
   "source": []
  },
  {
   "cell_type": "code",
   "execution_count": 59,
   "id": "6e8ac853-a501-4796-9b49-8aa0e3386644",
   "metadata": {},
   "outputs": [],
   "source": []
  },
  {
   "cell_type": "code",
   "execution_count": 59,
   "id": "982517a0-fc29-44d8-849e-374c9a7ac9e9",
   "metadata": {},
   "outputs": [],
   "source": []
  },
  {
   "cell_type": "code",
   "execution_count": 59,
   "id": "199c60c4-2d11-4ab7-8af4-b2549ac92135",
   "metadata": {},
   "outputs": [],
   "source": []
  },
  {
   "cell_type": "code",
   "execution_count": 59,
   "id": "e18e2127-56a9-4e3c-b1f7-e5c8d09bc74c",
   "metadata": {},
   "outputs": [],
   "source": []
  },
  {
   "cell_type": "code",
   "execution_count": null,
   "id": "10816760-6575-4f2d-9915-f62cfad6d15c",
   "metadata": {},
   "outputs": [],
   "source": []
  },
  {
   "cell_type": "code",
   "execution_count": 18,
   "id": "6bd25aa8-cd24-47a6-b7f0-dd4cd6ea8ed3",
   "metadata": {},
   "outputs": [],
   "source": []
  },
  {
   "cell_type": "code",
   "execution_count": 18,
   "id": "adb192e8-0c5e-40dd-a158-9d0cd570015d",
   "metadata": {},
   "outputs": [],
   "source": [
    "# same as long as no training"
   ]
  },
  {
   "cell_type": "code",
   "execution_count": 60,
   "id": "827f8284-c689-440e-bdf3-8a5ffaaa0781",
   "metadata": {},
   "outputs": [
    {
     "data": {
      "text/plain": [
       "False"
      ]
     },
     "execution_count": 60,
     "metadata": {},
     "output_type": "execute_result"
    }
   ],
   "source": [
    "same_params(rainbow, model)"
   ]
  },
  {
   "cell_type": "code",
   "execution_count": 61,
   "id": "d3fc8072-3895-4633-a8f8-e19f2200fd93",
   "metadata": {},
   "outputs": [
    {
     "data": {
      "text/plain": [
       "False"
      ]
     },
     "execution_count": 61,
     "metadata": {},
     "output_type": "execute_result"
    }
   ],
   "source": [
    "same_buffers(rainbow, model)"
   ]
  },
  {
   "cell_type": "code",
   "execution_count": 62,
   "id": "3f039f82-1bf7-4573-83b2-34e030bad72f",
   "metadata": {},
   "outputs": [
    {
     "data": {
      "text/html": [
       "<pre style=\"white-space:pre;overflow-x:auto;line-height:normal;font-family:Menlo,'DejaVu Sans Mono',consolas,'Courier New',monospace\">Not Same\n",
       "</pre>\n"
      ],
      "text/plain": [
       "Not Same\n"
      ]
     },
     "metadata": {},
     "output_type": "display_data"
    },
    {
     "data": {
      "text/plain": [
       "False"
      ]
     },
     "execution_count": 62,
     "metadata": {},
     "output_type": "execute_result"
    }
   ],
   "source": [
    "same_states(old_env, env)"
   ]
  },
  {
   "cell_type": "code",
   "execution_count": 30,
   "id": "29984475-3234-4239-ac4e-f7aca494ed9a",
   "metadata": {},
   "outputs": [],
   "source": []
  },
  {
   "cell_type": "code",
   "execution_count": 59,
   "id": "caa62049-2409-4c01-84ec-bacd46f9e2b7",
   "metadata": {},
   "outputs": [],
   "source": [
    "state = env.venv.envs[0].np_random.get_state()"
   ]
  },
  {
   "cell_type": "code",
   "execution_count": 60,
   "id": "4fb67244-c549-4ce0-b971-bb366b842f06",
   "metadata": {},
   "outputs": [],
   "source": [
    "old_state = old_env.venv.envs[0].np_random.get_state()"
   ]
  },
  {
   "cell_type": "code",
   "execution_count": 62,
   "id": "45c47de0-dbdd-42dc-9596-69257b6fd4c0",
   "metadata": {},
   "outputs": [
    {
     "data": {
      "text/plain": [
       "True"
      ]
     },
     "execution_count": 62,
     "metadata": {},
     "output_type": "execute_result"
    }
   ],
   "source": [
    "(state[1] == old_state[1]).all()"
   ]
  },
  {
   "cell_type": "code",
   "execution_count": 61,
   "id": "6b2046f9-268f-46d3-9f75-003c87faef1d",
   "metadata": {},
   "outputs": [
    {
     "data": {
      "text/plain": [
       "False"
      ]
     },
     "execution_count": 61,
     "metadata": {},
     "output_type": "execute_result"
    }
   ],
   "source": [
    "state[2:] == old_state[2:]"
   ]
  },
  {
   "cell_type": "code",
   "execution_count": 63,
   "id": "d0cd29df-66f6-45ac-b8a5-caed80a6fc8f",
   "metadata": {},
   "outputs": [
    {
     "data": {
      "text/plain": [
       "(5, 0, 0.0)"
      ]
     },
     "execution_count": 63,
     "metadata": {},
     "output_type": "execute_result"
    }
   ],
   "source": [
    "state[2:]"
   ]
  },
  {
   "cell_type": "code",
   "execution_count": 64,
   "id": "fc2e69b1-ae12-4370-814b-e4ef884559a1",
   "metadata": {},
   "outputs": [
    {
     "data": {
      "text/plain": [
       "(3, 0, 0.0)"
      ]
     },
     "execution_count": 64,
     "metadata": {},
     "output_type": "execute_result"
    }
   ],
   "source": [
    "old_state[2:]"
   ]
  },
  {
   "cell_type": "code",
   "execution_count": 66,
   "id": "10fbbab1-d7f5-4cb3-a825-367375241b3a",
   "metadata": {},
   "outputs": [
    {
     "data": {
      "text/plain": [
       "(188, 4, 84, 84, 1)"
      ]
     },
     "execution_count": 66,
     "metadata": {},
     "output_type": "execute_result"
    }
   ],
   "source": [
    "np.array(no).shape"
   ]
  },
  {
   "cell_type": "code",
   "execution_count": 26,
   "id": "4015058d-ee6f-461a-8a20-f74176d7dca6",
   "metadata": {},
   "outputs": [],
   "source": [
    "from collections import deque"
   ]
  },
  {
   "cell_type": "code",
   "execution_count": 27,
   "id": "86a2a60d-b8c3-44c5-839f-451fafcf6165",
   "metadata": {},
   "outputs": [],
   "source": [
    "q = deque(maxlen=3+1)"
   ]
  },
  {
   "cell_type": "code",
   "execution_count": 37,
   "id": "2c568bb3-bf4d-4d09-83bd-8b4ffba22cfb",
   "metadata": {},
   "outputs": [],
   "source": [
    "q.append(5)"
   ]
  },
  {
   "cell_type": "code",
   "execution_count": 40,
   "id": "11e11c6c-493e-425a-a67c-e4d0669414b8",
   "metadata": {},
   "outputs": [
    {
     "data": {
      "text/plain": [
       "5"
      ]
     },
     "execution_count": 40,
     "metadata": {},
     "output_type": "execute_result"
    }
   ],
   "source": [
    "q[-1]"
   ]
  },
  {
   "cell_type": "code",
   "execution_count": null,
   "id": "c115cfe5-0586-4a42-a02b-fd036cd09dc6",
   "metadata": {},
   "outputs": [],
   "source": []
  },
  {
   "cell_type": "code",
   "execution_count": 45,
   "id": "600e7b91-e643-4833-8ba6-fdd85a13ac5f",
   "metadata": {},
   "outputs": [],
   "source": [
    "o, no, a, r, d = list(zip(*rainbow.buffer.data[:rainbow.buffer.size]))"
   ]
  },
  {
   "cell_type": "code",
   "execution_count": 46,
   "id": "ae1b9c57-92d5-4890-b7ae-4b3a9c7c623d",
   "metadata": {},
   "outputs": [
    {
     "data": {
      "text/plain": [
       "True"
      ]
     },
     "execution_count": 46,
     "metadata": {},
     "output_type": "execute_result"
    }
   ],
   "source": [
    "(np.array(o) == model.replay_buffer.observations[:model.replay_buffer.size()]).all()"
   ]
  },
  {
   "cell_type": "code",
   "execution_count": 47,
   "id": "e09d8884-e6eb-45e1-aff6-6078a4774a78",
   "metadata": {},
   "outputs": [
    {
     "data": {
      "text/plain": [
       "True"
      ]
     },
     "execution_count": 47,
     "metadata": {},
     "output_type": "execute_result"
    }
   ],
   "source": [
    "(np.array([np.array(h) for h in no]) == model.replay_buffer.next_observations[:model.replay_buffer.size()]).all()"
   ]
  },
  {
   "cell_type": "code",
   "execution_count": 48,
   "id": "d0ad1e18-464c-4526-baf1-f39f80b9dd83",
   "metadata": {},
   "outputs": [
    {
     "data": {
      "text/plain": [
       "True"
      ]
     },
     "execution_count": 48,
     "metadata": {},
     "output_type": "execute_result"
    }
   ],
   "source": [
    "(torch.stack(a).detach().cpu().numpy() == model.replay_buffer.actions[:model.replay_buffer.size()]).all()"
   ]
  },
  {
   "cell_type": "code",
   "execution_count": 49,
   "id": "3052a037-3cf1-4cd6-9836-217122a9f25a",
   "metadata": {},
   "outputs": [
    {
     "data": {
      "text/plain": [
       "True"
      ]
     },
     "execution_count": 49,
     "metadata": {},
     "output_type": "execute_result"
    }
   ],
   "source": [
    "(torch.concat(r).detach().cpu().numpy() == model.replay_buffer.rewards[:model.replay_buffer.size()]).all()"
   ]
  },
  {
   "cell_type": "code",
   "execution_count": 52,
   "id": "943f766d-aac1-4ac4-ae9d-313d1c840d47",
   "metadata": {},
   "outputs": [
    {
     "data": {
      "text/plain": [
       "False"
      ]
     },
     "execution_count": 52,
     "metadata": {},
     "output_type": "execute_result"
    }
   ],
   "source": []
  },
  {
   "cell_type": "code",
   "execution_count": null,
   "id": "1a6d70d0-e5bc-4c44-8b82-cf6e02047493",
   "metadata": {},
   "outputs": [],
   "source": []
  },
  {
   "cell_type": "code",
   "execution_count": null,
   "id": "3a2ab062-c2b0-4c62-b3f0-7095dc1e5fd6",
   "metadata": {},
   "outputs": [],
   "source": []
  },
  {
   "cell_type": "code",
   "execution_count": 48,
   "id": "744b2d6f-7403-41d7-971c-3706893e5191",
   "metadata": {},
   "outputs": [
    {
     "data": {
      "text/plain": [
       "array([0., 0., 0., 0., 0., 0., 0., 0., 0., 0.], dtype=float32)"
      ]
     },
     "execution_count": 48,
     "metadata": {},
     "output_type": "execute_result"
    }
   ],
   "source": [
    "torch.concat(r).detach().cpu().numpy()[:10]"
   ]
  },
  {
   "cell_type": "code",
   "execution_count": 46,
   "id": "36aae778-d77d-4950-a88d-89358b61acad",
   "metadata": {},
   "outputs": [
    {
     "data": {
      "text/plain": [
       "array([0., 0., 0., 0., 0., 0., 0., 0., 0., 0.], dtype=float32)"
      ]
     },
     "execution_count": 46,
     "metadata": {},
     "output_type": "execute_result"
    }
   ],
   "source": [
    "model.replay_buffer.rewards[:10]"
   ]
  },
  {
   "cell_type": "code",
   "execution_count": 30,
   "id": "9a9bf163-debe-44cc-916d-529442834d92",
   "metadata": {},
   "outputs": [],
   "source": []
  },
  {
   "cell_type": "code",
   "execution_count": 30,
   "id": "fa5bf04b-e189-4a92-af32-556d3f952d0e",
   "metadata": {},
   "outputs": [],
   "source": []
  },
  {
   "cell_type": "code",
   "execution_count": 30,
   "id": "aa15dd93-5437-494f-93a8-e2ba955ad213",
   "metadata": {},
   "outputs": [
    {
     "data": {
      "text/plain": [
       "(482, 4, 84, 84, 1)"
      ]
     },
     "execution_count": 30,
     "metadata": {},
     "output_type": "execute_result"
    }
   ],
   "source": [
    "np.array(o).shape"
   ]
  },
  {
   "cell_type": "code",
   "execution_count": 31,
   "id": "26ccfe18-2674-4ce3-b023-1863eecd5f8d",
   "metadata": {},
   "outputs": [
    {
     "data": {
      "text/plain": [
       "(512, 4, 84, 84, 1)"
      ]
     },
     "execution_count": 31,
     "metadata": {},
     "output_type": "execute_result"
    }
   ],
   "source": [
    "model.replay_buffer.observations.shape"
   ]
  },
  {
   "cell_type": "code",
   "execution_count": 31,
   "id": "24286dff-f15a-4565-8ff4-423d4164d80a",
   "metadata": {},
   "outputs": [
    {
     "data": {
      "text/plain": [
       "128"
      ]
     },
     "execution_count": 31,
     "metadata": {},
     "output_type": "execute_result"
    }
   ],
   "source": [
    "(len(transitions)-3)*64"
   ]
  },
  {
   "cell_type": "code",
   "execution_count": 21,
   "id": "9e7c16b5-d315-4a9b-a7f2-78d3086fbca1",
   "metadata": {},
   "outputs": [],
   "source": []
  },
  {
   "cell_type": "code",
   "execution_count": 27,
   "id": "ca282d96-898c-4b4c-9afa-0ec02b882cd6",
   "metadata": {},
   "outputs": [
    {
     "data": {
      "text/plain": [
       "188"
      ]
     },
     "execution_count": 27,
     "metadata": {},
     "output_type": "execute_result"
    }
   ],
   "source": []
  },
  {
   "cell_type": "code",
   "execution_count": 28,
   "id": "a425f9ec-c255-4a54-9170-31ddd10235ca",
   "metadata": {},
   "outputs": [
    {
     "data": {
      "text/plain": [
       "188"
      ]
     },
     "execution_count": 28,
     "metadata": {},
     "output_type": "execute_result"
    }
   ],
   "source": []
  },
  {
   "cell_type": "code",
   "execution_count": 34,
   "id": "5dcd4d37-6297-48aa-ae10-b66e7337ba3f",
   "metadata": {},
   "outputs": [
    {
     "data": {
      "text/plain": [
       "array([[3],\n",
       "       [3],\n",
       "       [3],\n",
       "       [3],\n",
       "       [3],\n",
       "       [3],\n",
       "       [3],\n",
       "       [3],\n",
       "       [3],\n",
       "       [3],\n",
       "       [3],\n",
       "       [3],\n",
       "       [3],\n",
       "       [3],\n",
       "       [3],\n",
       "       [3],\n",
       "       [0],\n",
       "       [3],\n",
       "       [3],\n",
       "       [3],\n",
       "       [3],\n",
       "       [3],\n",
       "       [3],\n",
       "       [3],\n",
       "       [3],\n",
       "       [3],\n",
       "       [3],\n",
       "       [3],\n",
       "       [3],\n",
       "       [3],\n",
       "       [3],\n",
       "       [3],\n",
       "       [3],\n",
       "       [3],\n",
       "       [3],\n",
       "       [3],\n",
       "       [3],\n",
       "       [3],\n",
       "       [3],\n",
       "       [3],\n",
       "       [3],\n",
       "       [3],\n",
       "       [3],\n",
       "       [3],\n",
       "       [3],\n",
       "       [3],\n",
       "       [3],\n",
       "       [3],\n",
       "       [3],\n",
       "       [3],\n",
       "       [3],\n",
       "       [3],\n",
       "       [0],\n",
       "       [3],\n",
       "       [3],\n",
       "       [3],\n",
       "       [3],\n",
       "       [3],\n",
       "       [3],\n",
       "       [3],\n",
       "       [3],\n",
       "       [3],\n",
       "       [3],\n",
       "       [3],\n",
       "       [0],\n",
       "       [0],\n",
       "       [0],\n",
       "       [0],\n",
       "       [0],\n",
       "       [0],\n",
       "       [0],\n",
       "       [0],\n",
       "       [0],\n",
       "       [0],\n",
       "       [0],\n",
       "       [0],\n",
       "       [0],\n",
       "       [0],\n",
       "       [0],\n",
       "       [0],\n",
       "       [0],\n",
       "       [0],\n",
       "       [0],\n",
       "       [0],\n",
       "       [0],\n",
       "       [0],\n",
       "       [0],\n",
       "       [0],\n",
       "       [0],\n",
       "       [0],\n",
       "       [0],\n",
       "       [0],\n",
       "       [0],\n",
       "       [0],\n",
       "       [0],\n",
       "       [0],\n",
       "       [0],\n",
       "       [0],\n",
       "       [0],\n",
       "       [0],\n",
       "       [0],\n",
       "       [0],\n",
       "       [0],\n",
       "       [0],\n",
       "       [0],\n",
       "       [0],\n",
       "       [0],\n",
       "       [0],\n",
       "       [0],\n",
       "       [0],\n",
       "       [0],\n",
       "       [0],\n",
       "       [0],\n",
       "       [0],\n",
       "       [0],\n",
       "       [0],\n",
       "       [0],\n",
       "       [0],\n",
       "       [0],\n",
       "       [0],\n",
       "       [0],\n",
       "       [0],\n",
       "       [0],\n",
       "       [0],\n",
       "       [0],\n",
       "       [0],\n",
       "       [0],\n",
       "       [0],\n",
       "       [0],\n",
       "       [0],\n",
       "       [0],\n",
       "       [0],\n",
       "       [0],\n",
       "       [0],\n",
       "       [0],\n",
       "       [0],\n",
       "       [0],\n",
       "       [0],\n",
       "       [0],\n",
       "       [0],\n",
       "       [0],\n",
       "       [0],\n",
       "       [0],\n",
       "       [0],\n",
       "       [0],\n",
       "       [0],\n",
       "       [0],\n",
       "       [0],\n",
       "       [0],\n",
       "       [0],\n",
       "       [0],\n",
       "       [0],\n",
       "       [0],\n",
       "       [0],\n",
       "       [0],\n",
       "       [0],\n",
       "       [0],\n",
       "       [0],\n",
       "       [0],\n",
       "       [0],\n",
       "       [0],\n",
       "       [0],\n",
       "       [0],\n",
       "       [0],\n",
       "       [0],\n",
       "       [0],\n",
       "       [0],\n",
       "       [0],\n",
       "       [0],\n",
       "       [0],\n",
       "       [0],\n",
       "       [0],\n",
       "       [0],\n",
       "       [0],\n",
       "       [0],\n",
       "       [0],\n",
       "       [0],\n",
       "       [0],\n",
       "       [0],\n",
       "       [0],\n",
       "       [0],\n",
       "       [0],\n",
       "       [0],\n",
       "       [0],\n",
       "       [0],\n",
       "       [0],\n",
       "       [0],\n",
       "       [0]], dtype=int64)"
      ]
     },
     "execution_count": 34,
     "metadata": {},
     "output_type": "execute_result"
    }
   ],
   "source": [
    "model.replay_buffer.actions[:188]"
   ]
  },
  {
   "cell_type": "code",
   "execution_count": 26,
   "id": "9c0660d0-8b75-42c3-99fa-1cb9b7dc4437",
   "metadata": {},
   "outputs": [
    {
     "data": {
      "text/plain": [
       "array([[ True],\n",
       "       [ True],\n",
       "       [ True],\n",
       "       [ True],\n",
       "       [ True],\n",
       "       [ True],\n",
       "       [ True],\n",
       "       [ True],\n",
       "       [ True],\n",
       "       [ True],\n",
       "       [ True],\n",
       "       [ True],\n",
       "       [ True],\n",
       "       [ True],\n",
       "       [ True],\n",
       "       [ True],\n",
       "       [ True],\n",
       "       [ True],\n",
       "       [ True],\n",
       "       [ True],\n",
       "       [ True],\n",
       "       [ True],\n",
       "       [ True],\n",
       "       [ True],\n",
       "       [ True],\n",
       "       [ True],\n",
       "       [ True],\n",
       "       [ True],\n",
       "       [ True],\n",
       "       [ True],\n",
       "       [ True],\n",
       "       [ True],\n",
       "       [ True],\n",
       "       [ True],\n",
       "       [ True],\n",
       "       [ True],\n",
       "       [ True],\n",
       "       [ True],\n",
       "       [ True],\n",
       "       [ True],\n",
       "       [ True],\n",
       "       [ True],\n",
       "       [ True],\n",
       "       [ True],\n",
       "       [ True],\n",
       "       [ True],\n",
       "       [ True],\n",
       "       [ True],\n",
       "       [ True],\n",
       "       [ True],\n",
       "       [ True],\n",
       "       [ True],\n",
       "       [ True],\n",
       "       [ True],\n",
       "       [ True],\n",
       "       [ True],\n",
       "       [ True],\n",
       "       [ True],\n",
       "       [ True],\n",
       "       [ True],\n",
       "       [ True],\n",
       "       [ True],\n",
       "       [ True],\n",
       "       [ True],\n",
       "       [ True],\n",
       "       [ True],\n",
       "       [ True],\n",
       "       [ True],\n",
       "       [ True],\n",
       "       [ True],\n",
       "       [ True],\n",
       "       [ True],\n",
       "       [ True],\n",
       "       [ True],\n",
       "       [ True],\n",
       "       [ True],\n",
       "       [ True],\n",
       "       [ True],\n",
       "       [ True],\n",
       "       [ True],\n",
       "       [ True],\n",
       "       [ True],\n",
       "       [ True],\n",
       "       [ True],\n",
       "       [ True],\n",
       "       [ True],\n",
       "       [ True],\n",
       "       [ True],\n",
       "       [ True],\n",
       "       [ True],\n",
       "       [ True],\n",
       "       [ True],\n",
       "       [ True],\n",
       "       [ True],\n",
       "       [ True],\n",
       "       [ True],\n",
       "       [ True],\n",
       "       [ True],\n",
       "       [ True],\n",
       "       [ True],\n",
       "       [ True],\n",
       "       [ True],\n",
       "       [ True],\n",
       "       [ True],\n",
       "       [ True],\n",
       "       [ True],\n",
       "       [ True],\n",
       "       [ True],\n",
       "       [ True],\n",
       "       [ True],\n",
       "       [ True],\n",
       "       [ True],\n",
       "       [ True],\n",
       "       [ True],\n",
       "       [ True],\n",
       "       [ True],\n",
       "       [ True],\n",
       "       [ True],\n",
       "       [ True],\n",
       "       [ True],\n",
       "       [ True],\n",
       "       [ True],\n",
       "       [ True],\n",
       "       [ True],\n",
       "       [ True]])"
      ]
     },
     "execution_count": 26,
     "metadata": {},
     "output_type": "execute_result"
    }
   ],
   "source": [
    "(torch.stack(a).detach().cpu().numpy() == model.replay_buffer.actions[:125])#[:20]"
   ]
  },
  {
   "cell_type": "code",
   "execution_count": 15,
   "id": "7f7cd390-108f-4740-9ad9-6b291b1e911a",
   "metadata": {},
   "outputs": [],
   "source": []
  },
  {
   "cell_type": "code",
   "execution_count": 82,
   "id": "334a73bb-e776-4a59-8335-3de4b56254b5",
   "metadata": {},
   "outputs": [],
   "source": [
    "for _ in range(500):\n",
    "    o, r, d, i = env.step([2]*args.parallel_envs)\n",
    "    random.seed(args.seed)\n",
    "    model_pred = model.predict(o, None, None, False)[0]\n",
    "    random.seed(args.seed)\n",
    "    rain_pred = rainbow.act(o, model.exploration_rate).numpy()\n",
    "    if not (model_pred == rain_pred).all():\n",
    "        print('Not Same!')\n",
    "        break"
   ]
  },
  {
   "cell_type": "code",
   "execution_count": 81,
   "id": "646ce3b3-2035-44e3-8944-dbecacb62973",
   "metadata": {},
   "outputs": [
    {
     "data": {
      "text/plain": [
       "0.002"
      ]
     },
     "execution_count": 81,
     "metadata": {},
     "output_type": "execute_result"
    }
   ],
   "source": [
    "model.exploration_rate"
   ]
  },
  {
   "cell_type": "code",
   "execution_count": 15,
   "id": "4d296149-a702-4a34-b698-4dc6f7ca45ea",
   "metadata": {},
   "outputs": [],
   "source": []
  },
  {
   "cell_type": "code",
   "execution_count": 15,
   "id": "8f9696ae-3715-4592-80f0-ecf67f66dd76",
   "metadata": {},
   "outputs": [],
   "source": []
  },
  {
   "cell_type": "code",
   "execution_count": 15,
   "id": "eecbd254-58ad-4112-b262-2b17eb99264b",
   "metadata": {},
   "outputs": [],
   "source": []
  },
  {
   "cell_type": "code",
   "execution_count": 54,
   "id": "3a7cd26a-b9d2-4c2a-906d-cf1cf7f1981d",
   "metadata": {},
   "outputs": [
    {
     "data": {
      "text/plain": [
       "ImpalaCNNLarge(\n",
       "  (main): Sequential(\n",
       "    (0): ImpalaCNNBlock(\n",
       "      (conv): Conv2d(4, 32, kernel_size=(3, 3), stride=(1, 1), padding=(1, 1))\n",
       "      (max_pool): MaxPool2d(kernel_size=3, stride=2, padding=1, dilation=1, ceil_mode=False)\n",
       "      (residual_0): ImpalaCNNResidual(\n",
       "        (relu): ReLU()\n",
       "        (conv_0): Conv2d(32, 32, kernel_size=(3, 3), stride=(1, 1), padding=(1, 1))\n",
       "        (conv_1): Conv2d(32, 32, kernel_size=(3, 3), stride=(1, 1), padding=(1, 1))\n",
       "      )\n",
       "      (residual_1): ImpalaCNNResidual(\n",
       "        (relu): ReLU()\n",
       "        (conv_0): Conv2d(32, 32, kernel_size=(3, 3), stride=(1, 1), padding=(1, 1))\n",
       "        (conv_1): Conv2d(32, 32, kernel_size=(3, 3), stride=(1, 1), padding=(1, 1))\n",
       "      )\n",
       "    )\n",
       "    (1): ImpalaCNNBlock(\n",
       "      (conv): Conv2d(32, 64, kernel_size=(3, 3), stride=(1, 1), padding=(1, 1))\n",
       "      (max_pool): MaxPool2d(kernel_size=3, stride=2, padding=1, dilation=1, ceil_mode=False)\n",
       "      (residual_0): ImpalaCNNResidual(\n",
       "        (relu): ReLU()\n",
       "        (conv_0): Conv2d(64, 64, kernel_size=(3, 3), stride=(1, 1), padding=(1, 1))\n",
       "        (conv_1): Conv2d(64, 64, kernel_size=(3, 3), stride=(1, 1), padding=(1, 1))\n",
       "      )\n",
       "      (residual_1): ImpalaCNNResidual(\n",
       "        (relu): ReLU()\n",
       "        (conv_0): Conv2d(64, 64, kernel_size=(3, 3), stride=(1, 1), padding=(1, 1))\n",
       "        (conv_1): Conv2d(64, 64, kernel_size=(3, 3), stride=(1, 1), padding=(1, 1))\n",
       "      )\n",
       "    )\n",
       "    (2): ImpalaCNNBlock(\n",
       "      (conv): Conv2d(64, 64, kernel_size=(3, 3), stride=(1, 1), padding=(1, 1))\n",
       "      (max_pool): MaxPool2d(kernel_size=3, stride=2, padding=1, dilation=1, ceil_mode=False)\n",
       "      (residual_0): ImpalaCNNResidual(\n",
       "        (relu): ReLU()\n",
       "        (conv_0): Conv2d(64, 64, kernel_size=(3, 3), stride=(1, 1), padding=(1, 1))\n",
       "        (conv_1): Conv2d(64, 64, kernel_size=(3, 3), stride=(1, 1), padding=(1, 1))\n",
       "      )\n",
       "      (residual_1): ImpalaCNNResidual(\n",
       "        (relu): ReLU()\n",
       "        (conv_0): Conv2d(64, 64, kernel_size=(3, 3), stride=(1, 1), padding=(1, 1))\n",
       "        (conv_1): Conv2d(64, 64, kernel_size=(3, 3), stride=(1, 1), padding=(1, 1))\n",
       "      )\n",
       "    )\n",
       "    (3): ReLU()\n",
       "  )\n",
       "  (pool): AdaptiveMaxPool2d(output_size=(8, 8))\n",
       "  (dueling): Dueling(\n",
       "    (flatten): Flatten(start_dim=1, end_dim=-1)\n",
       "    (value_branch): Sequential(\n",
       "      (0): FactorizedNoisyLinear()\n",
       "      (1): ReLU()\n",
       "      (2): FactorizedNoisyLinear()\n",
       "    )\n",
       "    (advantage_branch): Sequential(\n",
       "      (0): FactorizedNoisyLinear()\n",
       "      (1): ReLU()\n",
       "      (2): FactorizedNoisyLinear()\n",
       "    )\n",
       "  )\n",
       ")"
      ]
     },
     "execution_count": 54,
     "metadata": {},
     "output_type": "execute_result"
    }
   ],
   "source": [
    "rainbow.q_policy#.parameters()"
   ]
  },
  {
   "cell_type": "code",
   "execution_count": 16,
   "id": "07a56354-59c4-4478-a007-88ee923e5b64",
   "metadata": {},
   "outputs": [
    {
     "data": {
      "text/plain": [
       "RainbowNetwork(\n",
       "  (features_extractor): ImpalaCNNLarge(\n",
       "    (main): Sequential(\n",
       "      (0): ImpalaCNNBlock(\n",
       "        (conv): Conv2d(4, 16, kernel_size=(3, 3), stride=(1, 1), padding=(1, 1))\n",
       "        (max_pool): MaxPool2d(kernel_size=3, stride=2, padding=1, dilation=1, ceil_mode=False)\n",
       "        (residual_0): ImpalaCNNResidual(\n",
       "          (relu): ReLU()\n",
       "          (conv_0): Conv2d(16, 16, kernel_size=(3, 3), stride=(1, 1), padding=(1, 1))\n",
       "          (conv_1): Conv2d(16, 16, kernel_size=(3, 3), stride=(1, 1), padding=(1, 1))\n",
       "        )\n",
       "        (residual_1): ImpalaCNNResidual(\n",
       "          (relu): ReLU()\n",
       "          (conv_0): Conv2d(16, 16, kernel_size=(3, 3), stride=(1, 1), padding=(1, 1))\n",
       "          (conv_1): Conv2d(16, 16, kernel_size=(3, 3), stride=(1, 1), padding=(1, 1))\n",
       "        )\n",
       "      )\n",
       "      (1): ImpalaCNNBlock(\n",
       "        (conv): Conv2d(16, 32, kernel_size=(3, 3), stride=(1, 1), padding=(1, 1))\n",
       "        (max_pool): MaxPool2d(kernel_size=3, stride=2, padding=1, dilation=1, ceil_mode=False)\n",
       "        (residual_0): ImpalaCNNResidual(\n",
       "          (relu): ReLU()\n",
       "          (conv_0): Conv2d(32, 32, kernel_size=(3, 3), stride=(1, 1), padding=(1, 1))\n",
       "          (conv_1): Conv2d(32, 32, kernel_size=(3, 3), stride=(1, 1), padding=(1, 1))\n",
       "        )\n",
       "        (residual_1): ImpalaCNNResidual(\n",
       "          (relu): ReLU()\n",
       "          (conv_0): Conv2d(32, 32, kernel_size=(3, 3), stride=(1, 1), padding=(1, 1))\n",
       "          (conv_1): Conv2d(32, 32, kernel_size=(3, 3), stride=(1, 1), padding=(1, 1))\n",
       "        )\n",
       "      )\n",
       "      (2): ImpalaCNNBlock(\n",
       "        (conv): Conv2d(32, 32, kernel_size=(3, 3), stride=(1, 1), padding=(1, 1))\n",
       "        (max_pool): MaxPool2d(kernel_size=3, stride=2, padding=1, dilation=1, ceil_mode=False)\n",
       "        (residual_0): ImpalaCNNResidual(\n",
       "          (relu): ReLU()\n",
       "          (conv_0): Conv2d(32, 32, kernel_size=(3, 3), stride=(1, 1), padding=(1, 1))\n",
       "          (conv_1): Conv2d(32, 32, kernel_size=(3, 3), stride=(1, 1), padding=(1, 1))\n",
       "        )\n",
       "        (residual_1): ImpalaCNNResidual(\n",
       "          (relu): ReLU()\n",
       "          (conv_0): Conv2d(32, 32, kernel_size=(3, 3), stride=(1, 1), padding=(1, 1))\n",
       "          (conv_1): Conv2d(32, 32, kernel_size=(3, 3), stride=(1, 1), padding=(1, 1))\n",
       "        )\n",
       "      )\n",
       "      (3): ReLU()\n",
       "      (4): AdaptiveMaxPool2d(output_size=(8, 8))\n",
       "      (5): Flatten(start_dim=1, end_dim=-1)\n",
       "    )\n",
       "  )\n",
       "  (q_net): Dueling(\n",
       "    (value_branch): Sequential(\n",
       "      (0): FactorizedNoisyLinear()\n",
       "      (1): ReLU()\n",
       "      (2): FactorizedNoisyLinear()\n",
       "    )\n",
       "    (advantage_branch): Sequential(\n",
       "      (0): FactorizedNoisyLinear()\n",
       "      (1): ReLU()\n",
       "      (2): FactorizedNoisyLinear()\n",
       "    )\n",
       "  )\n",
       ")"
      ]
     },
     "execution_count": 16,
     "metadata": {},
     "output_type": "execute_result"
    }
   ],
   "source": [
    "model.q_net"
   ]
  },
  {
   "cell_type": "code",
   "execution_count": null,
   "id": "d2e07675-8355-4be2-9c9f-eb6f265f8044",
   "metadata": {},
   "outputs": [],
   "source": []
  },
  {
   "cell_type": "code",
   "execution_count": 17,
   "id": "d11ef4fb-723f-4e0a-871e-9abd28496d21",
   "metadata": {},
   "outputs": [],
   "source": [
    "old_params = list(rainbow.q_policy.main.parameters())"
   ]
  },
  {
   "cell_type": "code",
   "execution_count": 18,
   "id": "ea2cd3fe-6064-4c79-b86e-a1fbdf8388c6",
   "metadata": {},
   "outputs": [],
   "source": [
    "new_params = list(model.q_net.features_extractor.main[:-2].parameters())"
   ]
  },
  {
   "cell_type": "code",
   "execution_count": 19,
   "id": "12e22b52-6fb2-414b-a851-9a015edf4b35",
   "metadata": {},
   "outputs": [
    {
     "data": {
      "text/plain": [
       "True"
      ]
     },
     "execution_count": 19,
     "metadata": {},
     "output_type": "execute_result"
    }
   ],
   "source": [
    "len(old_params) == len(new_params)"
   ]
  },
  {
   "cell_type": "code",
   "execution_count": 20,
   "id": "653df201-301b-448b-8ab8-25517596e63d",
   "metadata": {},
   "outputs": [],
   "source": [
    "get_shapes = lambda l: list(map(lambda a: a.shape, l))"
   ]
  },
  {
   "cell_type": "code",
   "execution_count": 21,
   "id": "2049e9ed-489f-4877-89b6-d99306f55664",
   "metadata": {},
   "outputs": [
    {
     "data": {
      "text/plain": [
       "True"
      ]
     },
     "execution_count": 21,
     "metadata": {},
     "output_type": "execute_result"
    }
   ],
   "source": [
    "get_shapes(old_params) == get_shapes(new_params)"
   ]
  },
  {
   "cell_type": "code",
   "execution_count": 28,
   "id": "6be24d41-594a-49dc-9cda-22879106fab5",
   "metadata": {},
   "outputs": [
    {
     "data": {
      "text/plain": [
       "True"
      ]
     },
     "execution_count": 28,
     "metadata": {},
     "output_type": "execute_result"
    }
   ],
   "source": [
    "all(map(lambda c: torch.equal(*c), zip(old_params, new_params)))"
   ]
  },
  {
   "cell_type": "code",
   "execution_count": 47,
   "id": "60ea17b6-451c-4d46-afee-ec8ac85c9e0d",
   "metadata": {},
   "outputs": [],
   "source": []
  },
  {
   "cell_type": "code",
   "execution_count": 41,
   "id": "4f698a96-94bc-40aa-943c-9f7195c2ee01",
   "metadata": {},
   "outputs": [
    {
     "data": {
      "text/plain": [
       "False"
      ]
     },
     "execution_count": 41,
     "metadata": {},
     "output_type": "execute_result"
    }
   ],
   "source": [
    "same_params(rainbow, model)"
   ]
  },
  {
   "cell_type": "code",
   "execution_count": null,
   "id": "1ee14768-3beb-41c6-b984-4269110163a6",
   "metadata": {},
   "outputs": [],
   "source": []
  },
  {
   "cell_type": "code",
   "execution_count": null,
   "id": "5e5d3972-6d5a-4c16-9640-324b97166706",
   "metadata": {},
   "outputs": [],
   "source": [
    "actions = [2]*env.num_envs"
   ]
  },
  {
   "cell_type": "code",
   "execution_count": 159,
   "id": "979bc424-3772-447c-83de-49d4bca7db19",
   "metadata": {},
   "outputs": [
    {
     "data": {
      "text/plain": [
       "([<gym.wrappers.frame_stack.LazyFrames at 0x1549b66bf90>,\n",
       "  <gym.wrappers.frame_stack.LazyFrames at 0x1549b66b360>],\n",
       " array([0., 0.], dtype=float32),\n",
       " array([False, False]),\n",
       " [{'lives': 5,\n",
       "   'episode_frame_number': 187,\n",
       "   'frame_number': 187,\n",
       "   'actual_rewards': [0.0, 0.0, 0.0, 0.0]},\n",
       "  {'lives': 5,\n",
       "   'episode_frame_number': 176,\n",
       "   'frame_number': 176,\n",
       "   'actual_rewards': [0.0, 0.0, 0.0, 0.0]}])"
      ]
     },
     "execution_count": 159,
     "metadata": {},
     "output_type": "execute_result"
    }
   ],
   "source": [
    "old_env.step(actions)"
   ]
  },
  {
   "cell_type": "code",
   "execution_count": 160,
   "id": "f6b6c3a5-4e22-4f22-b7b4-b624088ee1cb",
   "metadata": {},
   "outputs": [
    {
     "data": {
      "text/plain": [
       "([<gym.wrappers.frame_stack.LazyFrames at 0x1549b6521d0>,\n",
       "  <gym.wrappers.frame_stack.LazyFrames at 0x1549bf444a0>],\n",
       " array([0., 0.], dtype=float32),\n",
       " array([False, False]),\n",
       " [{'lives': 5,\n",
       "   'episode_frame_number': 187,\n",
       "   'frame_number': 187,\n",
       "   'actual_rewards': [0.0, 0.0, 0.0, 0.0]},\n",
       "  {'lives': 5,\n",
       "   'episode_frame_number': 176,\n",
       "   'frame_number': 176,\n",
       "   'actual_rewards': [0.0, 0.0, 0.0, 0.0]}])"
      ]
     },
     "execution_count": 160,
     "metadata": {},
     "output_type": "execute_result"
    }
   ],
   "source": [
    "env.step(actions)"
   ]
  },
  {
   "cell_type": "code",
   "execution_count": 13,
   "id": "96a28b10-e1db-4283-9718-b49202e515c3",
   "metadata": {},
   "outputs": [],
   "source": []
  },
  {
   "cell_type": "code",
   "execution_count": 24,
   "id": "9fe1cb8e-c357-4879-8868-0edacb4f7c58",
   "metadata": {},
   "outputs": [
    {
     "data": {
      "text/plain": [
       "array([-0.09638923,  0.10707786,  0.00097233, -0.03044413, -0.02866514,\n",
       "        0.00550009, -0.01170665,  0.06939051,  0.04697701,  0.1045445 ],\n",
       "      dtype=float32)"
      ]
     },
     "execution_count": 24,
     "metadata": {},
     "output_type": "execute_result"
    }
   ],
   "source": [
    "model.policy.parameters_to_vector()[:10]"
   ]
  },
  {
   "cell_type": "code",
   "execution_count": 13,
   "id": "222f1159-5e00-48ec-a699-e274fb61b407",
   "metadata": {},
   "outputs": [],
   "source": []
  },
  {
   "cell_type": "code",
   "execution_count": null,
   "id": "7e334793-666a-4123-a836-757570e93547",
   "metadata": {},
   "outputs": [],
   "source": []
  },
  {
   "cell_type": "code",
   "execution_count": null,
   "id": "34fae505-590e-4118-abc6-54f29845d26b",
   "metadata": {},
   "outputs": [],
   "source": [
    "import numpy as np"
   ]
  },
  {
   "cell_type": "code",
   "execution_count": 7,
   "id": "8b441a49-2e57-4921-8c70-3c3f961cd952",
   "metadata": {},
   "outputs": [
    {
     "name": "stderr",
     "output_type": "stream",
     "text": [
      "C:\\Users\\chris\\anaconda3\\envs\\cbp\\lib\\site-packages\\stable_baselines3\\common\\callbacks.py:680: TqdmExperimentalWarning: rich is experimental/alpha\n",
      "  self.pbar = tqdm(total=self.locals[\"total_timesteps\"] - self.model.num_timesteps)\n"
     ]
    },
    {
     "data": {
      "text/html": [
       "<pre style=\"white-space:pre;overflow-x:auto;line-height:normal;font-family:Menlo,'DejaVu Sans Mono',consolas,'Courier New',monospace\"></pre>\n"
      ],
      "text/plain": [
       "\u001b[?25l"
      ]
     },
     "metadata": {},
     "output_type": "display_data"
    },
    {
     "data": {
      "application/vnd.jupyter.widget-view+json": {
       "model_id": "a2eda039dca14b1ea9a1f0b99e7ea5db",
       "version_major": 2,
       "version_minor": 0
      },
      "text/plain": [
       "Output()"
      ]
     },
     "metadata": {},
     "output_type": "display_data"
    },
    {
     "data": {
      "text/html": [
       "<pre style=\"white-space:pre;overflow-x:auto;line-height:normal;font-family:Menlo,'DejaVu Sans Mono',consolas,'Courier New',monospace\">\n",
       "</pre>\n"
      ],
      "text/plain": [
       "\n",
       "\u001b[?25h"
      ]
     },
     "metadata": {},
     "output_type": "display_data"
    },
    {
     "data": {
      "text/plain": [
       "<rainbow.Rainbow at 0x18838858550>"
      ]
     },
     "execution_count": 7,
     "metadata": {},
     "output_type": "execute_result"
    }
   ],
   "source": [
    "np.ndarray"
   ]
  },
  {
   "cell_type": "code",
   "execution_count": 3,
   "id": "56701fb9-125a-499c-9eca-b0227dd54bb8",
   "metadata": {},
   "outputs": [],
   "source": [
    "original_weights = model.policy.parameters_to_vector()"
   ]
  },
  {
   "cell_type": "code",
   "execution_count": null,
   "id": "a67e46ca-b741-4b30-aa7f-fc2b988786e3",
   "metadata": {},
   "outputs": [],
   "source": []
  },
  {
   "cell_type": "code",
   "execution_count": null,
   "id": "b42e9862-7738-47e2-986c-c7496a82522b",
   "metadata": {},
   "outputs": [],
   "source": []
  },
  {
   "cell_type": "code",
   "execution_count": 4,
   "id": "6a1dedff-f1b0-4feb-8cd5-1915424e1fc7",
   "metadata": {},
   "outputs": [],
   "source": [
    "import cProfile"
   ]
  },
  {
   "cell_type": "code",
   "execution_count": null,
   "id": "f42e3470-64d7-4429-8528-1ecb12351bb3",
   "metadata": {},
   "outputs": [],
   "source": []
  },
  {
   "cell_type": "code",
   "execution_count": 5,
   "id": "12be056e-89d5-4eb2-8e51-298e53d220ab",
   "metadata": {},
   "outputs": [
    {
     "data": {
      "text/html": [
       "<pre style=\"white-space:pre;overflow-x:auto;line-height:normal;font-family:Menlo,'DejaVu Sans Mono',consolas,'Courier New',monospace\"></pre>\n"
      ],
      "text/plain": [
       "\u001b[?25l"
      ]
     },
     "metadata": {},
     "output_type": "display_data"
    },
    {
     "data": {
      "application/vnd.jupyter.widget-view+json": {
       "model_id": "ec82997a36bc4423b6818bbb46c51a94",
       "version_major": 2,
       "version_minor": 0
      },
      "text/plain": [
       "Output()"
      ]
     },
     "metadata": {},
     "output_type": "display_data"
    },
    {
     "data": {
      "text/html": [
       "<pre style=\"white-space:pre;overflow-x:auto;line-height:normal;font-family:Menlo,'DejaVu Sans Mono',consolas,'Courier New',monospace\">\n",
       "</pre>\n"
      ],
      "text/plain": [
       "\n",
       "\u001b[?25h"
      ]
     },
     "metadata": {},
     "output_type": "display_data"
    }
   ],
   "source": [
    "cProfile.run('model.learn(750, progress_bar=True)', 'learnstats2')"
   ]
  },
  {
   "cell_type": "code",
   "execution_count": 6,
   "id": "36b3d41d-1b48-43fd-a171-89347b16a993",
   "metadata": {},
   "outputs": [],
   "source": [
    "import pstats\n",
    "from pstats import SortKey"
   ]
  },
  {
   "cell_type": "code",
   "execution_count": 7,
   "id": "993257ec-26de-4e11-ae57-ee8e3c43d5d8",
   "metadata": {},
   "outputs": [],
   "source": [
    "p = pstats.Stats('learnstats2')"
   ]
  },
  {
   "cell_type": "code",
   "execution_count": 15,
   "id": "78a5a6f5-9892-48cf-aece-00613a5bd749",
   "metadata": {},
   "outputs": [
    {
     "name": "stdout",
     "output_type": "stream",
     "text": [
      "Mon Jul 17 09:33:27 2023    learnstats2\n",
      "\n",
      "         15766431 function calls (14198453 primitive calls) in 239.984 seconds\n",
      "\n",
      "   Ordered by: cumulative time\n",
      "   List reduced from 1186 to 10 due to restriction <10>\n",
      "\n",
      "   ncalls  tottime  percall  cumtime  percall filename:lineno(function)\n",
      "      7/1    0.000    0.000  239.988  239.988 {built-in method builtins.exec}\n",
      "        1    0.000    0.000  239.988  239.988 rainbow.py:339(learn)\n",
      "        1    0.056    0.056  239.988  239.988 off_policy_algorithm.py:327(learn)\n",
      "      494    0.292    0.001  232.484    0.471 rainbow.py:254(train)\n",
      "    48412   80.382    0.002   80.382    0.002 {method 'item' of 'torch._C._TensorBase' objects}\n",
      "    18844   69.879    0.004   69.879    0.004 {method 'copy_' of 'torch._C._TensorBase' objects}\n",
      "187226/4446    0.821    0.000   32.304    0.007 module.py:1124(_call_impl)\n",
      "     3458    0.039    0.000   32.154    0.009 policies.py:77(forward)\n",
      "     8892    0.134    0.000   30.419    0.003 container.py:137(forward)\n",
      "     3458    0.031    0.000   29.400    0.009 policies.py:118(extract_features)\n",
      "\n",
      "\n"
     ]
    },
    {
     "data": {
      "text/plain": [
       "<pstats.Stats at 0x207228b02e0>"
      ]
     },
     "execution_count": 15,
     "metadata": {},
     "output_type": "execute_result"
    }
   ],
   "source": [
    "p.strip_dirs().sort_stats(SortKey.CUMULATIVE).print_stats(10)"
   ]
  },
  {
   "cell_type": "code",
   "execution_count": 10,
   "id": "26c52f0a-5333-4e49-b4f8-2f9fd9c38742",
   "metadata": {},
   "outputs": [
    {
     "name": "stdout",
     "output_type": "stream",
     "text": [
      "Mon Jul 17 08:35:53 2023    learnstats\n",
      "\n",
      "         14820821 function calls (13252843 primitive calls) in 235.965 seconds\n",
      "\n",
      "   Ordered by: cumulative time\n",
      "   List reduced from 1180 to 10 due to restriction <10>\n",
      "\n",
      "   ncalls  tottime  percall  cumtime  percall filename:lineno(function)\n",
      "      7/1    0.000    0.000  235.968  235.968 {built-in method builtins.exec}\n",
      "        1    0.000    0.000  235.968  235.968 rainbow.py:334(learn)\n",
      "        1    0.052    0.052  235.968  235.968 off_policy_algorithm.py:327(learn)\n",
      "      494    0.406    0.001  228.386    0.462 rainbow.py:251(train)\n",
      "    48412   81.469    0.002   81.469    0.002 {method 'item' of 'torch._C._TensorBase' objects}\n",
      "     1482   71.051    0.048   71.051    0.048 {method 'cpu' of 'torch._C._TensorBase' objects}\n",
      "187226/4446    0.840    0.000   32.029    0.007 module.py:1124(_call_impl)\n",
      "     3458    0.037    0.000   31.725    0.009 policies.py:77(forward)\n",
      "     8892    0.129    0.000   30.065    0.003 container.py:137(forward)\n",
      "     3458    0.030    0.000   29.109    0.008 policies.py:118(extract_features)\n",
      "\n",
      "\n"
     ]
    },
    {
     "data": {
      "text/plain": [
       "<pstats.Stats at 0x12736138550>"
      ]
     },
     "execution_count": 10,
     "metadata": {},
     "output_type": "execute_result"
    }
   ],
   "source": []
  },
  {
   "cell_type": "code",
   "execution_count": 14,
   "id": "0f369d95-aad5-4ebc-b142-54facbdcf303",
   "metadata": {},
   "outputs": [
    {
     "name": "stdout",
     "output_type": "stream",
     "text": [
      "   Random listing order was used\n",
      "   List reduced from 1186 to 1 due to restriction <'rainbow.py:254\\\\(train\\\\)'>\n",
      "\n",
      "Function               called...\n",
      "                           ncalls  tottime  cumtime\n",
      "rainbow.py:254(train)  ->    1482    0.003    0.062  <__array_function__ internals>:177(mean)\n",
      "                              988    0.011    7.128  _tensor.py:340(backward)\n",
      "                             1976    0.001    0.001  base_class.py:273(logger)\n",
      "                              494    0.003    0.004  base_class.py:306(_update_learning_rate)\n",
      "                              988    1.945    9.936  buffer.py:288(update_priorities)\n",
      "                              988    2.044   22.416  buffer.py:295(sample)\n",
      "                              988    0.208    4.224  clip_grad.py:9(clip_grad_norm_)\n",
      "                             1482    0.013   18.935  grad_mode.py:24(decorate_context)\n",
      "                              988    0.004    0.004  grad_mode.py:126(__init__)\n",
      "                              988    0.002    0.004  grad_mode.py:131(__enter__)\n",
      "                              988    0.011    0.018  grad_mode.py:135(__exit__)\n",
      "                             1976    0.002    0.002  logger.py:491(record)\n",
      "                             1976    0.017   11.443  module.py:1124(_call_impl)\n",
      "                              988    0.016    6.788  optimizer.py:108(wrapper)\n",
      "                              988    0.162    0.783  optimizer.py:216(zero_grad)\n",
      "                              494    0.002    0.212  policies.py:225(set_training_mode)\n",
      "                              988    0.037    0.037  {built-in method torch.abs}\n",
      "                              988    0.009    0.009  {built-in method torch.from_numpy}\n",
      "                              988    0.036    0.036  {built-in method torch.gather}\n",
      "                              988    0.044    0.044  {built-in method torch.mean}\n",
      "                             2964    0.002    0.002  {method 'append' of 'list' objects}\n",
      "                              988   69.600   69.600  {method 'copy_' of 'torch._C._TensorBase' objects}\n",
      "                              988    0.104    0.104  {method 'cuda' of 'torch._C._TensorBase' objects}\n",
      "                             2964   80.280   80.280  {method 'item' of 'torch._C._TensorBase' objects}\n",
      "                              988    0.099    0.099  {method 'mean' of 'torch._C._TensorBase' objects}\n",
      "                             2964    0.021    0.021  {method 'squeeze' of 'torch._C._TensorBase' objects}\n",
      "\n",
      "\n"
     ]
    },
    {
     "data": {
      "text/plain": [
       "<pstats.Stats at 0x207228b02e0>"
      ]
     },
     "execution_count": 14,
     "metadata": {},
     "output_type": "execute_result"
    }
   ],
   "source": [
    "p.strip_dirs().print_callees('rainbow.py:254\\(train\\)')"
   ]
  },
  {
   "cell_type": "code",
   "execution_count": 27,
   "id": "5015c2d9-b2a9-48cc-a1f1-66bfcc7084f5",
   "metadata": {},
   "outputs": [
    {
     "name": "stdout",
     "output_type": "stream",
     "text": [
      "   Random listing order was used\n",
      "   List reduced from 1180 to 1 due to restriction <'rainbow.py:251\\\\(train\\\\)'>\n",
      "\n",
      "Function               called...\n",
      "                           ncalls  tottime  cumtime\n",
      "rainbow.py:251(train)  ->    1482    0.003    0.059  <__array_function__ internals>:177(mean)\n",
      "                              988    0.011    6.959  _tensor.py:340(backward)\n",
      "                             1976    0.001    0.001  base_class.py:273(logger)\n",
      "                              494    0.002    0.004  base_class.py:306(_update_learning_rate)\n",
      "                              988    0.480    4.561  buffer.py:288(update_priorities)\n",
      "                              988    1.999   21.942  buffer.py:295(sample)\n",
      "                              988    0.210    4.148  clip_grad.py:9(clip_grad_norm_)\n",
      "                             1482    0.013   18.281  grad_mode.py:24(decorate_context)\n",
      "                             1976    0.002    0.002  logger.py:491(record)\n",
      "                             1976    0.020   11.553  module.py:1124(_call_impl)\n",
      "                              988    0.015    6.732  optimizer.py:108(wrapper)\n",
      "                              988    0.164    0.855  optimizer.py:216(zero_grad)\n",
      "                              494    0.002    0.200  policies.py:225(set_training_mode)\n",
      "                              988    0.008    0.008  {built-in method torch.from_numpy}\n",
      "                              988    0.032    0.032  {built-in method torch.gather}\n",
      "                              988    0.053    0.053  {built-in method torch.mean}\n",
      "                             2964    0.001    0.001  {method 'append' of 'list' objects}\n",
      "                              988   70.991   70.991  {method 'cpu' of 'torch._C._TensorBase' objects}\n",
      "                              988    0.098    0.098  {method 'cuda' of 'torch._C._TensorBase' objects}\n",
      "                              988    0.013    0.013  {method 'detach' of 'torch._C._TensorBase' objects}\n",
      "                             2964   81.367   81.367  {method 'item' of 'torch._C._TensorBase' objects}\n",
      "                              988    0.091    0.091  {method 'mean' of 'torch._C._TensorBase' objects}\n",
      "                              988    0.011    0.011  {method 'numpy' of 'torch._C._TensorBase' objects}\n",
      "                             2964    0.021    0.021  {method 'squeeze' of 'torch._C._TensorBase' objects}\n",
      "\n",
      "\n"
     ]
    },
    {
     "data": {
      "text/plain": [
       "<pstats.Stats at 0x12736138550>"
      ]
     },
     "execution_count": 27,
     "metadata": {},
     "output_type": "execute_result"
    }
   ],
   "source": []
  },
  {
   "cell_type": "code",
   "execution_count": 10,
   "id": "ff84e0c8-2aca-4104-b996-bffdc216c57e",
   "metadata": {},
   "outputs": [],
   "source": []
  },
  {
   "cell_type": "code",
   "execution_count": 10,
   "id": "e44701b9-1137-4f91-9e3d-2120f2652021",
   "metadata": {},
   "outputs": [],
   "source": []
  },
  {
   "cell_type": "code",
   "execution_count": 28,
   "id": "0bc90433-90d8-43eb-8b5a-5b34696509ec",
   "metadata": {},
   "outputs": [],
   "source": [
    "model2 = Rainbow('CnnPolicy', 'BreakoutDeterministic-v4', buffer_size=512, learning_starts=256, policy_kwargs={'noisy_linear': True, 'linear_kwargs': {'sigma_0': 0.5}, 'optimizer_kwargs': {'eps': None}, 'features_extractor_kwargs': {'model_size': 1}})"
   ]
  },
  {
   "cell_type": "code",
   "execution_count": 29,
   "id": "ea9da540-5635-419a-9ed2-9b4fd662ec5f",
   "metadata": {},
   "outputs": [],
   "source": [
    "new_weights = model2.policy.parameters_to_vector()"
   ]
  },
  {
   "cell_type": "code",
   "execution_count": null,
   "id": "72352dbd-96b0-4e94-b273-7c2b6a01b471",
   "metadata": {},
   "outputs": [
    {
     "data": {
      "text/html": [
       "<pre style=\"white-space:pre;overflow-x:auto;line-height:normal;font-family:Menlo,'DejaVu Sans Mono',consolas,'Courier New',monospace\"></pre>\n"
      ],
      "text/plain": [
       "\u001b[?25l"
      ]
     },
     "metadata": {},
     "output_type": "display_data"
    },
    {
     "data": {
      "application/vnd.jupyter.widget-view+json": {
       "model_id": "84308042affe42ccbab48ba8afd442ee",
       "version_major": 2,
       "version_minor": 0
      },
      "text/plain": [
       "Output()"
      ]
     },
     "metadata": {},
     "output_type": "display_data"
    }
   ],
   "source": [
    "cProfile.run('model2.learn(750, progress_bar=True)', 'learnstats2')"
   ]
  },
  {
   "cell_type": "code",
   "execution_count": 10,
   "id": "f3bf393f-0d33-4142-a8d1-2b21181f6352",
   "metadata": {},
   "outputs": [],
   "source": []
  },
  {
   "cell_type": "code",
   "execution_count": 10,
   "id": "fda9e341-8a83-4720-bda6-fa8ac8be01bf",
   "metadata": {},
   "outputs": [],
   "source": []
  },
  {
   "cell_type": "code",
   "execution_count": 10,
   "id": "dbb23a79-c1f6-40fa-a81e-917301c0edc0",
   "metadata": {},
   "outputs": [
    {
     "name": "stderr",
     "output_type": "stream",
     "text": [
      "C:\\Users\\chris\\anaconda3\\envs\\cbp\\lib\\site-packages\\gym\\envs\\atari\\environment.py:267: UserWarning: \u001b[33mWARN: We strongly suggest supplying `render_mode` when constructing your environment, e.g., gym.make(ID, render_mode='human'). Using `render_mode` provides access to proper scaling, audio support, and proper framerates.\u001b[0m\n",
      "  logger.warn(\n",
      "C:\\Users\\chris\\anaconda3\\envs\\cbp\\lib\\site-packages\\pyglet\\image\\codecs\\wic.py:406: UserWarning: [WinError -2147417850] Cannot change thread mode after it is set\n",
      "  warnings.warn(str(err))\n"
     ]
    }
   ],
   "source": [
    "vec_env = model.get_env()\n",
    "obs = vec_env.reset()\n",
    "for i in range(1000):\n",
    "    action, _state = model.predict(obs, deterministic=True)\n",
    "    obs, reward, done, info = vec_env.step(action)\n",
    "    vec_env.render(\"human\")\n",
    "    # VecEnv resets automatically\n",
    "    # if done:\n",
    "    #   obs = vec_env.reset()"
   ]
  },
  {
   "cell_type": "code",
   "execution_count": 9,
   "id": "1969fd07-2f12-4c23-b828-a4b97fc9e425",
   "metadata": {},
   "outputs": [
    {
     "data": {
      "text/plain": [
       "466"
      ]
     },
     "execution_count": 9,
     "metadata": {},
     "output_type": "execute_result"
    }
   ],
   "source": [
    "model."
   ]
  },
  {
   "cell_type": "code",
   "execution_count": null,
   "id": "1c1a1387-59ab-4d8d-925f-d5f7e8bb8b7b",
   "metadata": {},
   "outputs": [],
   "source": []
  }
 ],
 "metadata": {
  "kernelspec": {
   "display_name": "cbp",
   "language": "python",
   "name": "conda-env-cbp-py"
  },
  "language_info": {
   "codemirror_mode": {
    "name": "ipython",
    "version": 3
   },
   "file_extension": ".py",
   "mimetype": "text/x-python",
   "name": "python",
   "nbconvert_exporter": "python",
   "pygments_lexer": "ipython3",
   "version": "3.10.13"
  }
 },
 "nbformat": 4,
 "nbformat_minor": 5
}
